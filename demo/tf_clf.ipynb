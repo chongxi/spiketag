{
 "cells": [
  {
   "cell_type": "code",
   "execution_count": 1,
   "metadata": {
    "collapsed": true
   },
   "outputs": [],
   "source": [
    "%gui qt"
   ]
  },
  {
   "cell_type": "code",
   "execution_count": 2,
   "metadata": {
    "scrolled": false
   },
   "outputs": [
    {
     "name": "stdout",
     "output_type": "stream",
     "text": [
      "Populating the interactive namespace from numpy and matplotlib\n"
     ]
    }
   ],
   "source": [
    "%pylab inline"
   ]
  },
  {
   "cell_type": "code",
   "execution_count": 3,
   "metadata": {
    "collapsed": true
   },
   "outputs": [],
   "source": [
    "from ipywidgets import interact\n",
    "import seaborn as sns\n",
    "sns.set_context('poster')"
   ]
  },
  {
   "cell_type": "code",
   "execution_count": 4,
   "metadata": {
    "collapsed": true
   },
   "outputs": [],
   "source": [
    "%load_ext autoreload"
   ]
  },
  {
   "cell_type": "code",
   "execution_count": 5,
   "metadata": {
    "collapsed": true
   },
   "outputs": [],
   "source": [
    "%autoreload 2"
   ]
  },
  {
   "cell_type": "markdown",
   "metadata": {},
   "source": [
    "### FPGA and Probe Configuration"
   ]
  },
  {
   "cell_type": "markdown",
   "metadata": {},
   "source": [
    "./spkDect_Sort_Demo.ipynb"
   ]
  },
  {
   "cell_type": "code",
   "execution_count": 6,
   "metadata": {
    "collapsed": true
   },
   "outputs": [],
   "source": [
    "from spiketag.base import ProbeFactory, bload\n",
    "from spiketag.mvc  import Sorter\n",
    "from spiketag.fpga import FPGA"
   ]
  },
  {
   "cell_type": "markdown",
   "metadata": {},
   "source": [
    "#### Probe Parameters"
   ]
  },
  {
   "cell_type": "code",
   "execution_count": 7,
   "metadata": {
    "collapsed": true
   },
   "outputs": [],
   "source": [
    "nCh = 160\n",
    "fs = 25000.\n",
    "tetrodes = ProbeFactory.genTetrodeProbe(fs=fs, n_ch=nCh)\n",
    "tetrodes.fromfile('./open-ephys-load/40 tetrode_channel_map')"
   ]
  },
  {
   "cell_type": "code",
   "execution_count": 8,
   "metadata": {
    "collapsed": true
   },
   "outputs": [],
   "source": [
    "tetrodes.reorder_by_chip = True\n",
    "tetrodes._nchips = 5"
   ]
  },
  {
   "cell_type": "code",
   "execution_count": 9,
   "metadata": {
    "scrolled": true
   },
   "outputs": [
    {
     "data": {
      "text/plain": [
       "array([6, 7, 8, 9])"
      ]
     },
     "execution_count": 9,
     "metadata": {},
     "output_type": "execute_result"
    }
   ],
   "source": [
    "tetrodes.ch_hash(7)"
   ]
  },
  {
   "cell_type": "markdown",
   "metadata": {},
   "source": [
    "#### FPGA"
   ]
  },
  {
   "cell_type": "markdown",
   "metadata": {},
   "source": [
    "#### threshold and offset"
   ]
  },
  {
   "cell_type": "code",
   "execution_count": 10,
   "metadata": {
    "collapsed": true
   },
   "outputs": [],
   "source": [
    "config = FPGA(probe=tetrodes, offset_value=32, thres_value=-500)"
   ]
  },
  {
   "cell_type": "code",
   "execution_count": 11,
   "metadata": {
    "scrolled": true
   },
   "outputs": [
    {
     "data": {
      "text/plain": [
       "(0, 1, 14, 15)"
      ]
     },
     "execution_count": 11,
     "metadata": {},
     "output_type": "execute_result"
    }
   ],
   "source": [
    "config.ch_ugp[14]"
   ]
  },
  {
   "cell_type": "code",
   "execution_count": 12,
   "metadata": {},
   "outputs": [
    {
     "name": "stdout",
     "output_type": "stream",
     "text": [
      "threshold of ch0 is -500.0\n",
      "threshold of ch1 is -500.0\n",
      "threshold of ch2 is -500.0\n",
      "threshold of ch3 is -500.0\n",
      "threshold of ch4 is -500.0\n",
      "threshold of ch5 is -500.0\n",
      "threshold of ch6 is -500.0\n",
      "threshold of ch7 is -500.0\n",
      "threshold of ch8 is -500.0\n",
      "threshold of ch9 is -500.0\n",
      "threshold of ch10 is -500.0\n",
      "threshold of ch11 is -500.0\n",
      "threshold of ch12 is -500.0\n",
      "threshold of ch13 is -500.0\n",
      "threshold of ch14 is -500.0\n",
      "threshold of ch15 is -500.0\n",
      "threshold of ch16 is -500.0\n",
      "threshold of ch17 is -500.0\n",
      "threshold of ch18 is -500.0\n",
      "threshold of ch19 is -500.0\n",
      "threshold of ch20 is -500.0\n",
      "threshold of ch21 is -500.0\n",
      "threshold of ch22 is -500.0\n",
      "threshold of ch23 is -500.0\n",
      "threshold of ch24 is -500.0\n",
      "threshold of ch25 is -500.0\n",
      "threshold of ch26 is -500.0\n",
      "threshold of ch27 is -500.0\n",
      "threshold of ch28 is -500.0\n",
      "threshold of ch29 is -500.0\n",
      "threshold of ch30 is -500.0\n",
      "threshold of ch31 is -500.0\n",
      "threshold of ch32 is -500.0\n",
      "threshold of ch33 is -500.0\n",
      "threshold of ch34 is -500.0\n",
      "threshold of ch35 is -500.0\n",
      "threshold of ch36 is -500.0\n",
      "threshold of ch37 is -500.0\n",
      "threshold of ch38 is -500.0\n",
      "threshold of ch39 is -500.0\n",
      "threshold of ch40 is -500.0\n",
      "threshold of ch41 is -500.0\n",
      "threshold of ch42 is -500.0\n",
      "threshold of ch43 is -500.0\n",
      "threshold of ch44 is -500.0\n",
      "threshold of ch45 is -500.0\n",
      "threshold of ch46 is -500.0\n",
      "threshold of ch47 is -500.0\n",
      "threshold of ch48 is -500.0\n",
      "threshold of ch49 is -500.0\n",
      "threshold of ch50 is -500.0\n",
      "threshold of ch51 is -500.0\n",
      "threshold of ch52 is -500.0\n",
      "threshold of ch53 is -500.0\n",
      "threshold of ch54 is -500.0\n",
      "threshold of ch55 is -500.0\n",
      "threshold of ch56 is -500.0\n",
      "threshold of ch57 is -500.0\n",
      "threshold of ch58 is -500.0\n",
      "threshold of ch59 is -500.0\n",
      "threshold of ch60 is -500.0\n",
      "threshold of ch61 is -500.0\n",
      "threshold of ch62 is -500.0\n",
      "threshold of ch63 is -500.0\n",
      "threshold of ch64 is -500.0\n",
      "threshold of ch65 is -500.0\n",
      "threshold of ch66 is -500.0\n",
      "threshold of ch67 is -500.0\n",
      "threshold of ch68 is -500.0\n",
      "threshold of ch69 is -500.0\n",
      "threshold of ch70 is -500.0\n",
      "threshold of ch71 is -500.0\n",
      "threshold of ch72 is -500.0\n",
      "threshold of ch73 is -500.0\n",
      "threshold of ch74 is -500.0\n",
      "threshold of ch75 is -500.0\n",
      "threshold of ch76 is -500.0\n",
      "threshold of ch77 is -500.0\n",
      "threshold of ch78 is -500.0\n",
      "threshold of ch79 is -500.0\n",
      "threshold of ch80 is -500.0\n",
      "threshold of ch81 is -500.0\n",
      "threshold of ch82 is -500.0\n",
      "threshold of ch83 is -500.0\n",
      "threshold of ch84 is -500.0\n",
      "threshold of ch85 is -500.0\n",
      "threshold of ch86 is -500.0\n",
      "threshold of ch87 is -500.0\n",
      "threshold of ch88 is -500.0\n",
      "threshold of ch89 is -500.0\n",
      "threshold of ch90 is -500.0\n",
      "threshold of ch91 is -500.0\n",
      "threshold of ch92 is -500.0\n",
      "threshold of ch93 is -500.0\n",
      "threshold of ch94 is -500.0\n",
      "threshold of ch95 is -500.0\n",
      "threshold of ch96 is -500.0\n",
      "threshold of ch97 is -500.0\n",
      "threshold of ch98 is -500.0\n",
      "threshold of ch99 is -500.0\n",
      "threshold of ch100 is -500.0\n",
      "threshold of ch101 is -500.0\n",
      "threshold of ch102 is -500.0\n",
      "threshold of ch103 is -500.0\n",
      "threshold of ch104 is -500.0\n",
      "threshold of ch105 is -500.0\n",
      "threshold of ch106 is -500.0\n",
      "threshold of ch107 is -500.0\n",
      "threshold of ch108 is -500.0\n",
      "threshold of ch109 is -500.0\n",
      "threshold of ch110 is -500.0\n",
      "threshold of ch111 is -500.0\n",
      "threshold of ch112 is -500.0\n",
      "threshold of ch113 is -500.0\n",
      "threshold of ch114 is -500.0\n",
      "threshold of ch115 is -500.0\n",
      "threshold of ch116 is -500.0\n",
      "threshold of ch117 is -500.0\n",
      "threshold of ch118 is -500.0\n",
      "threshold of ch119 is -500.0\n",
      "threshold of ch120 is -500.0\n",
      "threshold of ch121 is -500.0\n",
      "threshold of ch122 is -500.0\n",
      "threshold of ch123 is -500.0\n",
      "threshold of ch124 is -500.0\n",
      "threshold of ch125 is -500.0\n",
      "threshold of ch126 is -500.0\n",
      "threshold of ch127 is -500.0\n",
      "threshold of ch128 is -500.0\n",
      "threshold of ch129 is -500.0\n",
      "threshold of ch130 is -500.0\n",
      "threshold of ch131 is -500.0\n",
      "threshold of ch132 is -500.0\n",
      "threshold of ch133 is -500.0\n",
      "threshold of ch134 is -500.0\n",
      "threshold of ch135 is -500.0\n",
      "threshold of ch136 is -500.0\n",
      "threshold of ch137 is -500.0\n",
      "threshold of ch138 is -500.0\n",
      "threshold of ch139 is -500.0\n",
      "threshold of ch140 is -500.0\n",
      "threshold of ch141 is -500.0\n",
      "threshold of ch142 is -500.0\n",
      "threshold of ch143 is -500.0\n",
      "threshold of ch144 is -500.0\n",
      "threshold of ch145 is -500.0\n",
      "threshold of ch146 is -500.0\n",
      "threshold of ch147 is -500.0\n",
      "threshold of ch148 is -500.0\n",
      "threshold of ch149 is -500.0\n",
      "threshold of ch150 is -500.0\n",
      "threshold of ch151 is -500.0\n",
      "threshold of ch152 is -500.0\n",
      "threshold of ch153 is -500.0\n",
      "threshold of ch154 is -500.0\n",
      "threshold of ch155 is -500.0\n",
      "threshold of ch156 is -500.0\n",
      "threshold of ch157 is -500.0\n",
      "threshold of ch158 is -500.0\n",
      "threshold of ch159 is -500.0\n"
     ]
    },
    {
     "data": {
      "text/plain": [
       "threshold enable status: True"
      ]
     },
     "execution_count": 12,
     "metadata": {},
     "output_type": "execute_result"
    }
   ],
   "source": [
    "config.thres"
   ]
  },
  {
   "cell_type": "markdown",
   "metadata": {},
   "source": [
    "#### channel group"
   ]
  },
  {
   "cell_type": "code",
   "execution_count": 13,
   "metadata": {
    "collapsed": true
   },
   "outputs": [],
   "source": [
    "from spiketag.fpga import bram_thres, offset"
   ]
  },
  {
   "cell_type": "code",
   "execution_count": 14,
   "metadata": {
    "collapsed": true
   },
   "outputs": [],
   "source": [
    "chgpNo = bram_thres.chgpNo(nCh=160)"
   ]
  },
  {
   "cell_type": "code",
   "execution_count": 15,
   "metadata": {
    "collapsed": true
   },
   "outputs": [],
   "source": [
    "for i in range(160):\n",
    "    chgpNo[i] = tetrodes.belong_group(i)"
   ]
  },
  {
   "cell_type": "code",
   "execution_count": 16,
   "metadata": {
    "scrolled": true
   },
   "outputs": [
    {
     "name": "stdout",
     "output_type": "stream",
     "text": [
      "chgpNo of ch0 is 9.0\n",
      "chgpNo of ch1 is 9.0\n",
      "chgpNo of ch2 is 8.0\n",
      "chgpNo of ch3 is 8.0\n",
      "chgpNo of ch4 is 7.0\n",
      "chgpNo of ch5 is 7.0\n",
      "chgpNo of ch6 is 6.0\n",
      "chgpNo of ch7 is 6.0\n",
      "chgpNo of ch8 is 6.0\n",
      "chgpNo of ch9 is 6.0\n",
      "chgpNo of ch10 is 7.0\n",
      "chgpNo of ch11 is 7.0\n",
      "chgpNo of ch12 is 8.0\n",
      "chgpNo of ch13 is 8.0\n",
      "chgpNo of ch14 is 9.0\n",
      "chgpNo of ch15 is 9.0\n",
      "chgpNo of ch16 is 10.0\n",
      "chgpNo of ch17 is 10.0\n",
      "chgpNo of ch18 is 11.0\n",
      "chgpNo of ch19 is 11.0\n",
      "chgpNo of ch20 is 12.0\n",
      "chgpNo of ch21 is 12.0\n",
      "chgpNo of ch22 is 13.0\n",
      "chgpNo of ch23 is 13.0\n",
      "chgpNo of ch24 is 13.0\n",
      "chgpNo of ch25 is 13.0\n",
      "chgpNo of ch26 is 12.0\n",
      "chgpNo of ch27 is 12.0\n",
      "chgpNo of ch28 is 11.0\n",
      "chgpNo of ch29 is 11.0\n",
      "chgpNo of ch30 is 10.0\n",
      "chgpNo of ch31 is 10.0\n",
      "chgpNo of ch32 is 2.0\n",
      "chgpNo of ch33 is 2.0\n",
      "chgpNo of ch34 is 3.0\n",
      "chgpNo of ch35 is 3.0\n",
      "chgpNo of ch36 is 4.0\n",
      "chgpNo of ch37 is 4.0\n",
      "chgpNo of ch38 is 5.0\n",
      "chgpNo of ch39 is 5.0\n",
      "chgpNo of ch40 is 2.0\n",
      "chgpNo of ch41 is 2.0\n",
      "chgpNo of ch42 is 3.0\n",
      "chgpNo of ch43 is 3.0\n",
      "chgpNo of ch44 is 4.0\n",
      "chgpNo of ch45 is 4.0\n",
      "chgpNo of ch46 is 5.0\n",
      "chgpNo of ch47 is 5.0\n",
      "chgpNo of ch48 is 14.0\n",
      "chgpNo of ch49 is 14.0\n",
      "chgpNo of ch50 is 15.0\n",
      "chgpNo of ch51 is 15.0\n",
      "chgpNo of ch52 is 16.0\n",
      "chgpNo of ch53 is 16.0\n",
      "chgpNo of ch54 is 17.0\n",
      "chgpNo of ch55 is 17.0\n",
      "chgpNo of ch56 is 14.0\n",
      "chgpNo of ch57 is 14.0\n",
      "chgpNo of ch58 is 15.0\n",
      "chgpNo of ch59 is 15.0\n",
      "chgpNo of ch60 is 16.0\n",
      "chgpNo of ch61 is 16.0\n",
      "chgpNo of ch62 is 17.0\n",
      "chgpNo of ch63 is 17.0\n",
      "chgpNo of ch64 is 38.0\n",
      "chgpNo of ch65 is 38.0\n",
      "chgpNo of ch66 is 39.0\n",
      "chgpNo of ch67 is 39.0\n",
      "chgpNo of ch68 is 0.0\n",
      "chgpNo of ch69 is 0.0\n",
      "chgpNo of ch70 is 1.0\n",
      "chgpNo of ch71 is 1.0\n",
      "chgpNo of ch72 is 1.0\n",
      "chgpNo of ch73 is 1.0\n",
      "chgpNo of ch74 is 0.0\n",
      "chgpNo of ch75 is 0.0\n",
      "chgpNo of ch76 is 39.0\n",
      "chgpNo of ch77 is 39.0\n",
      "chgpNo of ch78 is 38.0\n",
      "chgpNo of ch79 is 38.0\n",
      "chgpNo of ch80 is 21.0\n",
      "chgpNo of ch81 is 21.0\n",
      "chgpNo of ch82 is 20.0\n",
      "chgpNo of ch83 is 20.0\n",
      "chgpNo of ch84 is 19.0\n",
      "chgpNo of ch85 is 19.0\n",
      "chgpNo of ch86 is 18.0\n",
      "chgpNo of ch87 is 18.0\n",
      "chgpNo of ch88 is 18.0\n",
      "chgpNo of ch89 is 18.0\n",
      "chgpNo of ch90 is 19.0\n",
      "chgpNo of ch91 is 19.0\n",
      "chgpNo of ch92 is 20.0\n",
      "chgpNo of ch93 is 20.0\n",
      "chgpNo of ch94 is 21.0\n",
      "chgpNo of ch95 is 21.0\n",
      "chgpNo of ch96 is 34.0\n",
      "chgpNo of ch97 is 34.0\n",
      "chgpNo of ch98 is 35.0\n",
      "chgpNo of ch99 is 35.0\n",
      "chgpNo of ch100 is 36.0\n",
      "chgpNo of ch101 is 36.0\n",
      "chgpNo of ch102 is 37.0\n",
      "chgpNo of ch103 is 37.0\n",
      "chgpNo of ch104 is 37.0\n",
      "chgpNo of ch105 is 37.0\n",
      "chgpNo of ch106 is 36.0\n",
      "chgpNo of ch107 is 36.0\n",
      "chgpNo of ch108 is 35.0\n",
      "chgpNo of ch109 is 35.0\n",
      "chgpNo of ch110 is 34.0\n",
      "chgpNo of ch111 is 34.0\n",
      "chgpNo of ch112 is 25.0\n",
      "chgpNo of ch113 is 25.0\n",
      "chgpNo of ch114 is 24.0\n",
      "chgpNo of ch115 is 24.0\n",
      "chgpNo of ch116 is 23.0\n",
      "chgpNo of ch117 is 23.0\n",
      "chgpNo of ch118 is 22.0\n",
      "chgpNo of ch119 is 22.0\n",
      "chgpNo of ch120 is 22.0\n",
      "chgpNo of ch121 is 22.0\n",
      "chgpNo of ch122 is 23.0\n",
      "chgpNo of ch123 is 23.0\n",
      "chgpNo of ch124 is 24.0\n",
      "chgpNo of ch125 is 24.0\n",
      "chgpNo of ch126 is 25.0\n",
      "chgpNo of ch127 is 25.0\n",
      "chgpNo of ch128 is 30.0\n",
      "chgpNo of ch129 is 30.0\n",
      "chgpNo of ch130 is 31.0\n",
      "chgpNo of ch131 is 31.0\n",
      "chgpNo of ch132 is 32.0\n",
      "chgpNo of ch133 is 32.0\n",
      "chgpNo of ch134 is 33.0\n",
      "chgpNo of ch135 is 33.0\n",
      "chgpNo of ch136 is 33.0\n",
      "chgpNo of ch137 is 33.0\n",
      "chgpNo of ch138 is 32.0\n",
      "chgpNo of ch139 is 32.0\n",
      "chgpNo of ch140 is 31.0\n",
      "chgpNo of ch141 is 31.0\n",
      "chgpNo of ch142 is 30.0\n",
      "chgpNo of ch143 is 30.0\n",
      "chgpNo of ch144 is 29.0\n",
      "chgpNo of ch145 is 29.0\n",
      "chgpNo of ch146 is 28.0\n",
      "chgpNo of ch147 is 28.0\n",
      "chgpNo of ch148 is 27.0\n",
      "chgpNo of ch149 is 27.0\n",
      "chgpNo of ch150 is 26.0\n",
      "chgpNo of ch151 is 26.0\n",
      "chgpNo of ch152 is 26.0\n",
      "chgpNo of ch153 is 26.0\n",
      "chgpNo of ch154 is 27.0\n",
      "chgpNo of ch155 is 27.0\n",
      "chgpNo of ch156 is 28.0\n",
      "chgpNo of ch157 is 28.0\n",
      "chgpNo of ch158 is 29.0\n",
      "chgpNo of ch159 is 29.0\n"
     ]
    },
    {
     "data": {
      "text/plain": [
       "chgpNo done"
      ]
     },
     "execution_count": 16,
     "metadata": {},
     "output_type": "execute_result"
    }
   ],
   "source": [
    "chgpNo"
   ]
  },
  {
   "cell_type": "markdown",
   "metadata": {},
   "source": [
    "### Sorting"
   ]
  },
  {
   "cell_type": "code",
   "execution_count": 17,
   "metadata": {
    "collapsed": true
   },
   "outputs": [],
   "source": [
    "!cp spk.bin mua.bin.spk"
   ]
  },
  {
   "cell_type": "code",
   "execution_count": 18,
   "metadata": {
    "scrolled": true
   },
   "outputs": [
    {
     "name": "stderr",
     "output_type": "stream",
     "text": [
      "2017-10-18 17:38:02,870 - spiketag - INFO - load mua data\n",
      "2017-10-18 17:38:02,873 - spiketag - INFO - #############  load data  ###################\n",
      "2017-10-18 17:38:02,874 - spiketag - INFO - /disk0/testbench/mua.bin loaded, it contains: \n",
      "2017-10-18 17:38:02,876 - spiketag - INFO - 442344 * 160 points (283100160 bytes) \n",
      "2017-10-18 17:38:02,878 - spiketag - INFO - 160 channels with sampling rate of 25000.0000 \n",
      "2017-10-18 17:38:02,879 - spiketag - INFO - 17.694 secs (0.295 mins) of data\n",
      "2017-10-18 17:38:02,881 - spiketag - INFO - #############################################\n",
      "2017-10-18 17:38:03,080 - spiketag - INFO - reordered with nchips=5 and nch_perchip=32\n",
      "2017-10-18 17:38:03,270 - spiketag - INFO - raw data have 30755 spks\n",
      "2017-10-18 17:38:03,271 - spiketag - INFO - removing all spks on group which len(spks) less then fetlen\n",
      "2017-10-18 17:38:03,280 - spiketag - INFO - removed all spks on these groups: {16: 3, 34: 3, 5: 1}\n",
      "2017-10-18 17:38:03,281 - spiketag - INFO - grouping spike time\n",
      "2017-10-18 17:38:03,289 - spiketag - INFO - extract spikes from pivital meta data\n",
      "2017-10-18 17:38:03,418 - spiketag - INFO - extrat features with weighted-pca\n",
      "2017-10-18 17:38:03,789 - spiketag - INFO - clustering with hdbscan\n",
      "2017-10-18 17:38:04,226 - spiketag - INFO - clustering finished, used 0.435855150223 seconds\n",
      "2017-10-18 17:38:04,229 - spiketag - INFO - Model.spktag is generated, nspk:30748\n"
     ]
    }
   ],
   "source": [
    "sorter = Sorter('/disk0/testbench/mua.bin', \n",
    "                probe=tetrodes, \n",
    "                fet_method='weighted-pca', fetlen=4,\n",
    "                clu_method='hdbscan',\n",
    "                n_jobs=24)"
   ]
  },
  {
   "cell_type": "code",
   "execution_count": 43,
   "metadata": {
    "scrolled": true
   },
   "outputs": [
    {
     "name": "stderr",
     "output_type": "stream",
     "text": [
      "2017-10-18 17:40:33,049 - spiketag - INFO - received model modified event, refine spikes[group=0, global_ids=[ 130  170  181  184  196  198  199  240  353  573  588  632  633  648  683\n",
      "  685  686  694  699  701  702  704  727  728  730  737  746  753  755  772\n",
      "  774  775  776  781  834  835  836  837  865  866  875  885  886  888  890\n",
      "  891  905  912  915  917  918  919  920  921  947  977  984  987  990  998\n",
      " 1003 1011 1046 1053 1059]]\n",
      "2017-10-18 17:40:33,056 - spiketag - INFO - the result of refine: [0 0 0 1 0 0 0 0 0 0 0 0 0 0 0 0 0 0 0 0 0 0 0 0 0 0 0 0 0 0 1 0 0 0 0 0 0\n",
      " 0 1 0 0 0 0 0 0 0 0 0 0 0 0 0 0 0 0 0 0 0 0 0 0 0 0 0 0]\n",
      "2017-10-18 17:40:37,882 - spiketag - INFO - received model modified event, refine spikes[group=0, global_ids=[ 170  196  198  199  353  632  633  648  683  694  701  727  730  737  746\n",
      "  753  755  772  775  776  781  835  866  875  885  888  890  912  918  919\n",
      "  947  977  984  987  990 1059]]\n",
      "2017-10-18 17:40:37,888 - spiketag - INFO - the result of refine: [0 0 0 0 0 0 0 0 0 0 0 0 0 0 0 0 0 0 0 0 0 0 0 0 0 0 0 0 0 0 0 0 0 0 0 0]\n",
      "2017-10-18 17:42:28,972 - spiketag - INFO - received model modified event, refine spikes[group=0, global_ids=[  11   28   29   30   33   38   52   55   57   59   85   92  124  127  135\n",
      "  139  149  156  160  193  200  207  211  213  220  235  237  241  260  261\n",
      "  264  267  275  278  294  296  305  308  316  325  328  330  331  335  336\n",
      "  338  341  345  346  347  348  355  356  357  360  361  368  370  384  396\n",
      "  401  418  422  433  435  438  471  481  484  509  554  556  566  567  568\n",
      "  571  577  578  585  602  603  609  610  612  614  618  620  623  624  637\n",
      "  638  640  642  643  669  670  672  677  681  682  691  717  718  720  725\n",
      "  729  735  739  747  754  769  770  785  799  822  838  855  856  859  876\n",
      "  879  909  928  931  950  952  956  960  961  964  966  978  983  988  997\n",
      " 1010 1013 1016 1017 1023 1026 1032 1033 1042 1068]]\n",
      "2017-10-18 17:42:28,981 - spiketag - INFO - the result of refine: [1 1 2 2 1 1 1 1 2 1 1 2 1 1 1 2 1 2 1 2 1 0 1 0 1 1 0 1 2 1 0 0 1 1 1 1 1\n",
      " 2 0 1 0 1 2 2 2 1 1 2 1 2 1 1 2 1 1 1 1 1 1 1 2 2 0 0 1 2 1 1 1 1 0 1 0 3\n",
      " 1 1 1 1 1 2 1 0 0 1 1 1 1 0 0 3 1 1 1 1 1 1 1 1 1 0 1 1 1 0 1 1 2 2 2 1 0\n",
      " 1 2 2 1 0 1 0 1 1 1 1 2 1 3 1 1 1 1 2 1 3 0 1 0 2 0 1 1 1 3 0 1 0 1]\n",
      "2017-10-18 17:42:59,580 - spiketag - INFO - received model modified event, refine spikes[group=0, global_ids=[ 566  609  623 1058]]\n",
      "2017-10-18 17:42:59,586 - spiketag - INFO - the result of refine: [1 1 0 0]\n",
      "2017-10-18 17:43:03,600 - spiketag - INFO - received model modified event, refine spikes[group=0, global_ids=[ 329  623  946 1058]]\n",
      "2017-10-18 17:43:03,605 - spiketag - INFO - the result of refine: [0 1 0 0]\n",
      "2017-10-18 17:43:05,852 - spiketag - INFO - received model modified event, refine spikes[group=0, global_ids=[ 946 1058]]\n",
      "2017-10-18 17:43:05,857 - spiketag - INFO - the result of refine: [0 1]\n",
      "2017-10-18 17:43:09,504 - spiketag - INFO - received model modified event, refine spikes[group=0, global_ids=[329 946]]\n",
      "2017-10-18 17:43:09,509 - spiketag - INFO - the result of refine: [0 0]\n",
      "2017-10-18 17:43:11,910 - spiketag - INFO - received model modified event, refine spikes[group=0, global_ids=[946]]\n",
      "2017-10-18 17:43:11,915 - spiketag - INFO - the result of refine: [0]\n",
      "2017-10-18 17:45:24,316 - spiketag - INFO - received model modified event, refine spikes[group=0, global_ids=[ 170  181  184  196  198  199  210  240  353  390  573  588  632  633  648\n",
      "  652  683  685  686  694  699  701  702  704  727  728  730  737  746  753\n",
      "  755  772  774  775  776  781  834  835  836  837  865  866  875  881  885\n",
      "  886  888  890  891  905  912  917  918  919  920  921  947  977  984  987\n",
      "  990  998 1003 1046 1053 1059]]\n",
      "2017-10-18 17:45:24,325 - spiketag - INFO - the result of refine: [1 1 1 1 1 1 2 1 1 2 1 2 1 1 1 1 2 1 1 1 1 1 1 1 1 1 1 1 1 1 1 1 1 1 1 1 1\n",
      " 1 1 1 1 1 1 1 1 1 1 1 1 1 1 2 1 1 1 1 1 1 1 1 2 0 0 1 2 1]\n"
     ]
    }
   ],
   "source": [
    "sorter.run()"
   ]
  },
  {
   "cell_type": "code",
   "execution_count": 20,
   "metadata": {},
   "outputs": [
    {
     "data": {
      "text/plain": [
       "array([[    14,     15,     15, ..., 351943, 351946, 351963],\n",
       "       [   151,     67,    107, ...,     26,    148,     67]], dtype=int32)"
      ]
     },
     "execution_count": 20,
     "metadata": {},
     "output_type": "execute_result"
    }
   ],
   "source": [
    "spks = np.fromfile('./spk.bin', dtype=np.int32).reshape(-1,2).T\n",
    "spks"
   ]
  },
  {
   "cell_type": "code",
   "execution_count": 21,
   "metadata": {
    "collapsed": true
   },
   "outputs": [],
   "source": [
    "sorter.show_mua(chs=tetrodes[28], spks=spks)"
   ]
  },
  {
   "cell_type": "markdown",
   "metadata": {},
   "source": [
    "## spikes stack and fet"
   ]
  },
  {
   "cell_type": "code",
   "execution_count": 20,
   "metadata": {
    "collapsed": true
   },
   "outputs": [],
   "source": [
    "r = sorter.model.spk[7]"
   ]
  },
  {
   "cell_type": "code",
   "execution_count": 21,
   "metadata": {},
   "outputs": [
    {
     "data": {
      "text/plain": [
       "(1496, 76)"
      ]
     },
     "execution_count": 21,
     "metadata": {},
     "output_type": "execute_result"
    }
   ],
   "source": [
    "x = r.transpose(0,2,1).ravel().reshape(-1, r.shape[1]*r.shape[2])\n",
    "x.shape"
   ]
  },
  {
   "cell_type": "code",
   "execution_count": 22,
   "metadata": {},
   "outputs": [
    {
     "data": {
      "text/plain": [
       "(1496, 4)"
      ]
     },
     "execution_count": 22,
     "metadata": {},
     "output_type": "execute_result"
    }
   ],
   "source": [
    "fet = sorter.model.fet[7]\n",
    "fet.shape"
   ]
  },
  {
   "cell_type": "markdown",
   "metadata": {},
   "source": [
    "### Test for individual spikes"
   ]
  },
  {
   "cell_type": "code",
   "execution_count": 23,
   "metadata": {
    "collapsed": true
   },
   "outputs": [],
   "source": [
    "_pca_comp, _shift, _scale = sorter.construct_transformer(groupNo=7, ndim=4)"
   ]
  },
  {
   "cell_type": "code",
   "execution_count": 24,
   "metadata": {
    "collapsed": true
   },
   "outputs": [],
   "source": [
    "_fet = sorter._transform(x, _pca_comp, _shift, _scale)"
   ]
  },
  {
   "cell_type": "code",
   "execution_count": 25,
   "metadata": {
    "scrolled": true
   },
   "outputs": [
    {
     "data": {
      "text/plain": [
       "True"
      ]
     },
     "execution_count": 25,
     "metadata": {},
     "output_type": "execute_result"
    }
   ],
   "source": [
    "np.allclose(_fet, fet)"
   ]
  },
  {
   "cell_type": "code",
   "execution_count": 26,
   "metadata": {
    "scrolled": false
   },
   "outputs": [
    {
     "name": "stdout",
     "output_type": "stream",
     "text": [
      "(1496, 76) (76, 4) (4,) ()\n"
     ]
    }
   ],
   "source": [
    "print x.shape, _pca_comp.shape, _shift.shape, _scale.shape"
   ]
  },
  {
   "cell_type": "markdown",
   "metadata": {},
   "source": [
    "76 dims -> 6 dims -> shift -> scale"
   ]
  },
  {
   "cell_type": "code",
   "execution_count": 27,
   "metadata": {
    "collapsed": true
   },
   "outputs": [],
   "source": [
    "_pca_comp, _shift, _scale = sorter.construct_transformer(groupNo=0, ndim=4)"
   ]
  },
  {
   "cell_type": "code",
   "execution_count": 28,
   "metadata": {
    "scrolled": true
   },
   "outputs": [
    {
     "data": {
      "text/plain": [
       "array([-2202.87911546, -2738.18231552,   214.78760417,  -121.46517397])"
      ]
     },
     "execution_count": 28,
     "metadata": {},
     "output_type": "execute_result"
    }
   ],
   "source": [
    "_shift"
   ]
  },
  {
   "cell_type": "code",
   "execution_count": 29,
   "metadata": {},
   "outputs": [
    {
     "data": {
      "text/plain": [
       "array([-2202.87902832, -2738.18225098,   214.78759766,  -121.46508789])"
      ]
     },
     "execution_count": 29,
     "metadata": {},
     "output_type": "execute_result"
    }
   ],
   "source": [
    "config.shift[0] = _shift\n",
    "config.shift[0]"
   ]
  },
  {
   "cell_type": "markdown",
   "metadata": {},
   "source": [
    "### Configure FPGA transformer params"
   ]
  },
  {
   "cell_type": "code",
   "execution_count": 30,
   "metadata": {
    "collapsed": true
   },
   "outputs": [],
   "source": [
    "_pca_comp, _shift, _scale = sorter.construct_transformer(groupNo=7, ndim=4)"
   ]
  },
  {
   "cell_type": "code",
   "execution_count": 31,
   "metadata": {
    "collapsed": true
   },
   "outputs": [],
   "source": [
    "config._config_FPGA_transformer(grpNo=7, P=_pca_comp, b=_shift, a=_scale)"
   ]
  },
  {
   "cell_type": "code",
   "execution_count": 32,
   "metadata": {},
   "outputs": [
    {
     "data": {
      "text/plain": [
       "40"
      ]
     },
     "execution_count": 32,
     "metadata": {},
     "output_type": "execute_result"
    }
   ],
   "source": [
    "config.probe.n_group"
   ]
  },
  {
   "cell_type": "code",
   "execution_count": 33,
   "metadata": {
    "scrolled": false
   },
   "outputs": [
    {
     "data": {
      "text/plain": [
       "{0: 0,\n",
       " 1: 0,\n",
       " 2: 0,\n",
       " 3: 0,\n",
       " 4: 0,\n",
       " 5: 0,\n",
       " 6: 0,\n",
       " 7: 1,\n",
       " 8: 0,\n",
       " 9: 0,\n",
       " 10: 0,\n",
       " 11: 0,\n",
       " 12: 0,\n",
       " 13: 0,\n",
       " 14: 0,\n",
       " 15: 0,\n",
       " 16: 0,\n",
       " 17: 0,\n",
       " 18: 0,\n",
       " 19: 0,\n",
       " 20: 0,\n",
       " 21: 0,\n",
       " 22: 0,\n",
       " 23: 0,\n",
       " 24: 0,\n",
       " 25: 0,\n",
       " 26: 0,\n",
       " 27: 0,\n",
       " 28: 0,\n",
       " 29: 0,\n",
       " 30: 0,\n",
       " 31: 0,\n",
       " 32: 0,\n",
       " 33: 0,\n",
       " 34: 0,\n",
       " 35: 0,\n",
       " 36: 0,\n",
       " 37: 0,\n",
       " 38: 0,\n",
       " 39: 0}"
      ]
     },
     "execution_count": 33,
     "metadata": {},
     "output_type": "execute_result"
    }
   ],
   "source": [
    "config.transfomer_constructed"
   ]
  },
  {
   "cell_type": "markdown",
   "metadata": {},
   "source": [
    "#### `bram_xike` module in FPGA is the memory map for `/dev/xillybus_template_32` channel"
   ]
  },
  {
   "cell_type": "code",
   "execution_count": 34,
   "metadata": {},
   "outputs": [
    {
     "name": "stdout",
     "output_type": "stream",
     "text": [
      "0 True True True\n",
      "1 True True True\n",
      "2 True True True\n",
      "3 True True True\n",
      "4 True True True\n",
      "6 True True True\n",
      "7 True True True\n",
      "8 True True True\n",
      "9 True True True\n",
      "10 True True True\n",
      "11 True True True\n",
      "12 True True True\n",
      "13 True True True\n",
      "14 True True True\n",
      "15 True True True\n",
      "17 True True True\n",
      "18 True True True\n",
      "19 True True True\n",
      "20 True True True\n",
      "21 True True True\n",
      "22 True True True\n",
      "23 True True True\n",
      "24 True True True\n",
      "25 True True True\n",
      "26 True True True\n",
      "27 True True True\n",
      "28 True True True\n",
      "29 True True True\n",
      "30 True True True\n",
      "31 True True True\n",
      "32 True True True\n",
      "33 True True True\n",
      "35 True True True\n",
      "36 True True True\n",
      "37 True True True\n",
      "38 True True True\n",
      "39 True True True\n"
     ]
    }
   ],
   "source": [
    "for i in sorter.model.groups:\n",
    "    _pca_comp, _shift, _scale = sorter.construct_transformer(groupNo=i, ndim=4)\n",
    "    config._config_FPGA_transformer(grpNo=i, P=_pca_comp, b=_shift, a=_scale)\n",
    "    print i,\n",
    "    print np.allclose(config.pca[i], _pca_comp, atol=1e-3),\n",
    "    print np.allclose(config.shift[i], _shift,  atol=1e-3),\n",
    "    print np.allclose(config.scale[i], _scale,  atol=1e-3)\n",
    "    "
   ]
  },
  {
   "cell_type": "code",
   "execution_count": 35,
   "metadata": {},
   "outputs": [
    {
     "data": {
      "text/plain": [
       "{0: 1,\n",
       " 1: 1,\n",
       " 2: 1,\n",
       " 3: 1,\n",
       " 4: 1,\n",
       " 5: 0,\n",
       " 6: 1,\n",
       " 7: 1,\n",
       " 8: 1,\n",
       " 9: 1,\n",
       " 10: 1,\n",
       " 11: 1,\n",
       " 12: 1,\n",
       " 13: 1,\n",
       " 14: 1,\n",
       " 15: 1,\n",
       " 16: 0,\n",
       " 17: 1,\n",
       " 18: 1,\n",
       " 19: 1,\n",
       " 20: 1,\n",
       " 21: 1,\n",
       " 22: 1,\n",
       " 23: 1,\n",
       " 24: 1,\n",
       " 25: 1,\n",
       " 26: 1,\n",
       " 27: 1,\n",
       " 28: 1,\n",
       " 29: 1,\n",
       " 30: 1,\n",
       " 31: 1,\n",
       " 32: 1,\n",
       " 33: 1,\n",
       " 34: 0,\n",
       " 35: 1,\n",
       " 36: 1,\n",
       " 37: 1,\n",
       " 38: 1,\n",
       " 39: 1}"
      ]
     },
     "execution_count": 35,
     "metadata": {},
     "output_type": "execute_result"
    }
   ],
   "source": [
    "config.transfomer_constructed"
   ]
  },
  {
   "cell_type": "code",
   "execution_count": null,
   "metadata": {
    "collapsed": true
   },
   "outputs": [],
   "source": []
  },
  {
   "cell_type": "markdown",
   "metadata": {},
   "source": [
    "### Use vivado-ila to extract `pca_stream` and `pca_final`"
   ]
  },
  {
   "cell_type": "code",
   "execution_count": 36,
   "metadata": {},
   "outputs": [
    {
     "data": {
      "text/plain": [
       "array([[    13,     15,     15, ..., 442267, 442274, 442321],\n",
       "       [    31,     54,    156, ...,    155,     17,     83]], dtype=int32)"
      ]
     },
     "execution_count": 36,
     "metadata": {},
     "output_type": "execute_result"
    }
   ],
   "source": [
    "sorter.model.mua.pivotal_pos"
   ]
  },
  {
   "cell_type": "code",
   "execution_count": 37,
   "metadata": {},
   "outputs": [
    {
     "data": {
      "text/plain": [
       "array([[    13,     15,     15, ..., 442274, 442321, 442333],\n",
       "       [    31,     54,    156, ...,     17,     83,    148]])"
      ]
     },
     "execution_count": 37,
     "metadata": {},
     "output_type": "execute_result"
    }
   ],
   "source": [
    "np.array(np.where(sorter.model.mua.bf.npmm%2==1))"
   ]
  },
  {
   "cell_type": "code",
   "execution_count": 38,
   "metadata": {},
   "outputs": [
    {
     "data": {
      "text/plain": [
       "(2, 30756)"
      ]
     },
     "execution_count": 38,
     "metadata": {},
     "output_type": "execute_result"
    }
   ],
   "source": [
    "_.shape"
   ]
  },
  {
   "cell_type": "code",
   "execution_count": 39,
   "metadata": {},
   "outputs": [
    {
     "data": {
      "text/plain": [
       "memmap([[ -628102,  -833124,  -476458, ...,  -147676,   300604,   985094],\n",
       "       [ -928854,  -928992,  -177398, ...,    -3232,   114146,  1298050],\n",
       "       [-1143848,  -926794,    73860, ...,   168064,  -149708,  1531864],\n",
       "       ..., \n",
       "       [-1138924,  -294194,  -264138, ...,    50434,   768162,   363522],\n",
       "       [-1381292,  -617466,   -12122, ...,   319270,   868630,   151306],\n",
       "       [-1639966, -1038782,   238116, ...,   499614,   862034,   -81796]], dtype=int32)"
      ]
     },
     "execution_count": 39,
     "metadata": {},
     "output_type": "execute_result"
    }
   ],
   "source": [
    "sorter.model.mua.bf.npmm"
   ]
  },
  {
   "cell_type": "code",
   "execution_count": 40,
   "metadata": {
    "collapsed": true
   },
   "outputs": [],
   "source": [
    "spk_info = np.fromfile('./spk.bin', dtype=np.int32)"
   ]
  },
  {
   "cell_type": "code",
   "execution_count": 41,
   "metadata": {},
   "outputs": [
    {
     "data": {
      "text/plain": [
       "array([[    13,     15,     15, ..., 442274, 442321, 442333],\n",
       "       [    31,     54,    156, ...,     17,     83,    148]], dtype=int32)"
      ]
     },
     "execution_count": 41,
     "metadata": {},
     "output_type": "execute_result"
    }
   ],
   "source": [
    "spk_info.reshape(-1,2).T"
   ]
  },
  {
   "cell_type": "code",
   "execution_count": 42,
   "metadata": {
    "scrolled": true
   },
   "outputs": [
    {
     "data": {
      "text/plain": [
       "(30756, 2)"
      ]
     },
     "execution_count": 42,
     "metadata": {},
     "output_type": "execute_result"
    }
   ],
   "source": [
    "spk_info.reshape(-1,2).shape"
   ]
  },
  {
   "cell_type": "code",
   "execution_count": null,
   "metadata": {
    "collapsed": true
   },
   "outputs": [],
   "source": []
  },
  {
   "cell_type": "code",
   "execution_count": 43,
   "metadata": {
    "ExecuteTime": {
     "end_time": "2017-05-17T17:30:28.892835",
     "start_time": "2017-05-17T17:30:28.887039"
    },
    "collapsed": true
   },
   "outputs": [],
   "source": [
    "spk_wav = np.fromfile('./spk_wav.bin', dtype=np.int32)"
   ]
  },
  {
   "cell_type": "code",
   "execution_count": 45,
   "metadata": {
    "collapsed": true,
    "scrolled": false
   },
   "outputs": [],
   "source": [
    "spk_wav = spk_wav.reshape(-1, 20, 4)"
   ]
  },
  {
   "cell_type": "code",
   "execution_count": 46,
   "metadata": {
    "scrolled": false
   },
   "outputs": [
    {
     "data": {
      "text/plain": [
       "(22992, 20, 4)"
      ]
     },
     "execution_count": 46,
     "metadata": {},
     "output_type": "execute_result"
    }
   ],
   "source": [
    "spk_wav.shape"
   ]
  },
  {
   "cell_type": "code",
   "execution_count": 47,
   "metadata": {
    "scrolled": true
   },
   "outputs": [
    {
     "data": {
      "text/plain": [
       "(array([0]),)"
      ]
     },
     "execution_count": 47,
     "metadata": {},
     "output_type": "execute_result"
    }
   ],
   "source": [
    "np.where(spk_wav[:,0][:,2] == 14)"
   ]
  },
  {
   "cell_type": "code",
   "execution_count": 54,
   "metadata": {},
   "outputs": [
    {
     "data": {
      "text/plain": [
       "array([[       0,      153,       14,       26],\n",
       "       [   -6636,  -524456,   449482,  -461368],\n",
       "       [ -479572, -1193500,   189530,  -477462],\n",
       "       [-1061496, -1936470,  -158162,  -580084],\n",
       "       [-1700620, -2667080,  -507516,  -678346],\n",
       "       [-2315522, -3327686,  -780176,  -665392],\n",
       "       [-2822878, -3879738,  -944646,  -455354],\n",
       "       [-3149138, -4290054, -1012534,   -23536],\n",
       "       [-3224216, -4507023, -1019740,   560904],\n",
       "       [-3011242, -4483964, -1012584,  1152700],\n",
       "       [-2525678, -4179748, -1024258,  1595628],\n",
       "       [-1808846, -3548448, -1059440,  1772456],\n",
       "       [ -949986, -2585042, -1085110,  1598318],\n",
       "       [  -64704, -1372456, -1088056,  1071214],\n",
       "       [  736858,   -55476, -1062470,   285988],\n",
       "       [ 1360344,  1208148, -1009110,  -591014],\n",
       "       [ 1767258,  2290354,  -911412, -1357520],\n",
       "       [ 2004284,  3130850,  -742552, -1820392],\n",
       "       [ 2141754,  3734406,  -479970, -1877026],\n",
       "       [ 2246796,  4153282,   -80292, -1536266]], dtype=int32)"
      ]
     },
     "execution_count": 54,
     "metadata": {},
     "output_type": "execute_result"
    }
   ],
   "source": [
    "_wav = spk_wav[0]\n",
    "_wav"
   ]
  },
  {
   "cell_type": "code",
   "execution_count": 55,
   "metadata": {
    "collapsed": true
   },
   "outputs": [],
   "source": [
    "x = _wav[1:,]\n",
    "grpNo = _wav[0,-1]"
   ]
  },
  {
   "cell_type": "code",
   "execution_count": 56,
   "metadata": {
    "collapsed": true
   },
   "outputs": [],
   "source": [
    "from spiketag.base.SPK import _transform"
   ]
  },
  {
   "cell_type": "code",
   "execution_count": 57,
   "metadata": {
    "scrolled": true
   },
   "outputs": [
    {
     "data": {
      "text/plain": [
       "array([-0.16617032,  0.03700249,  0.03940884, -0.00872026])"
      ]
     },
     "execution_count": 57,
     "metadata": {},
     "output_type": "execute_result"
    }
   ],
   "source": [
    "_transform(x.T.ravel()/float(2**13), \n",
    "           config.pca[grpNo], config.shift[grpNo], config.scale[grpNo])"
   ]
  },
  {
   "cell_type": "code",
   "execution_count": 58,
   "metadata": {
    "scrolled": false
   },
   "outputs": [
    {
     "data": {
      "text/plain": [
       "[<matplotlib.lines.Line2D at 0x7f0a783742d0>,\n",
       " <matplotlib.lines.Line2D at 0x7f0a78374410>,\n",
       " <matplotlib.lines.Line2D at 0x7f0a783745d0>,\n",
       " <matplotlib.lines.Line2D at 0x7f0a783746d0>]"
      ]
     },
     "execution_count": 58,
     "metadata": {},
     "output_type": "execute_result"
    },
    {
     "data": {
      "image/png": "[encoded data removed]",
      "text/plain": [
       "<matplotlib.figure.Figure at 0x7f0a78406190>"
      ]
     },
     "metadata": {},
     "output_type": "display_data"
    },
    {
     "name": "stderr",
     "output_type": "stream",
     "text": [
      "2017-10-17 14:49:02,129 - spiketag - DEBUG - no more undo\n",
      "2017-10-17 14:49:02,566 - spiketag - DEBUG - no more undo\n",
      "2017-10-17 14:49:02,605 - spiketag - DEBUG - no more undo\n",
      "2017-10-17 14:49:02,624 - spiketag - DEBUG - no more undo\n",
      "2017-10-17 14:49:02,655 - spiketag - DEBUG - no more undo\n",
      "2017-10-17 14:49:02,700 - spiketag - DEBUG - no more undo\n",
      "2017-10-17 14:49:04,287 - spiketag - DEBUG - no more undo\n",
      "2017-10-17 14:49:05,240 - spiketag - DEBUG - no more undo\n",
      "2017-10-17 14:49:06,201 - spiketag - DEBUG - no more undo\n",
      "2017-10-17 14:49:06,699 - spiketag - DEBUG - no more undo\n"
     ]
    }
   ],
   "source": [
    "plot(x, '-o')"
   ]
  },
  {
   "cell_type": "code",
   "execution_count": null,
   "metadata": {
    "collapsed": true
   },
   "outputs": [],
   "source": []
  },
  {
   "cell_type": "code",
   "execution_count": null,
   "metadata": {
    "collapsed": true
   },
   "outputs": [],
   "source": []
  },
  {
   "cell_type": "code",
   "execution_count": null,
   "metadata": {
    "collapsed": true
   },
   "outputs": [],
   "source": []
  },
  {
   "cell_type": "markdown",
   "metadata": {},
   "source": [
    "### get fet running `get_fet.py`"
   ]
  },
  {
   "cell_type": "code",
   "execution_count": 58,
   "metadata": {
    "collapsed": true
   },
   "outputs": [],
   "source": [
    "fet = np.fromfile('./fet.bin', dtype=np.int32)"
   ]
  },
  {
   "cell_type": "code",
   "execution_count": 59,
   "metadata": {
    "collapsed": true
   },
   "outputs": [],
   "source": [
    "fet = fet.reshape(-1, 7)"
   ]
  },
  {
   "cell_type": "code",
   "execution_count": 60,
   "metadata": {
    "scrolled": true
   },
   "outputs": [
    {
     "data": {
      "text/plain": [
       "(42748, 7)"
      ]
     },
     "execution_count": 60,
     "metadata": {},
     "output_type": "execute_result"
    }
   ],
   "source": [
    "fet.shape"
   ]
  },
  {
   "cell_type": "code",
   "execution_count": 61,
   "metadata": {
    "scrolled": true
   },
   "outputs": [
    {
     "data": {
      "text/plain": [
       "array([[    26,     13],\n",
       "       [    39,      5],\n",
       "       [    68,      6],\n",
       "       ..., \n",
       "       [556036,     32],\n",
       "       [556055,     30],\n",
       "       [556072,     27]], dtype=int32)"
      ]
     },
     "execution_count": 61,
     "metadata": {},
     "output_type": "execute_result"
    }
   ],
   "source": [
    "fet_info = fet[:,:2]\n",
    "fet_info"
   ]
  },
  {
   "cell_type": "code",
   "execution_count": 109,
   "metadata": {},
   "outputs": [
    {
     "data": {
      "text/plain": [
       "(array([10790]),)"
      ]
     },
     "execution_count": 109,
     "metadata": {},
     "output_type": "execute_result"
    }
   ],
   "source": [
    "np.where(np.all(fet_info==np.array([9,24]), axis=1))"
   ]
  },
  {
   "cell_type": "code",
   "execution_count": 110,
   "metadata": {
    "scrolled": true
   },
   "outputs": [
    {
     "data": {
      "text/plain": [
       "array([ 9, 24], dtype=int32)"
      ]
     },
     "execution_count": 110,
     "metadata": {},
     "output_type": "execute_result"
    }
   ],
   "source": [
    "fet_info[10790]"
   ]
  },
  {
   "cell_type": "code",
   "execution_count": 112,
   "metadata": {},
   "outputs": [
    {
     "data": {
      "text/plain": [
       "array([ 0.42457581,  0.0662384 ,  0.13998413, -0.25540161])"
      ]
     },
     "execution_count": 112,
     "metadata": {},
     "output_type": "execute_result"
    }
   ],
   "source": [
    "fet_val[10790]"
   ]
  },
  {
   "cell_type": "code",
   "execution_count": 99,
   "metadata": {},
   "outputs": [
    {
     "data": {
      "text/plain": [
       "array([559,  24], dtype=int32)"
      ]
     },
     "execution_count": 99,
     "metadata": {},
     "output_type": "execute_result"
    }
   ],
   "source": [
    "fet_info[53]"
   ]
  },
  {
   "cell_type": "code",
   "execution_count": 111,
   "metadata": {},
   "outputs": [
    {
     "ename": "IndexError",
     "evalue": "index 10790 is out of bounds for axis 1 with size 20",
     "output_type": "error",
     "traceback": [
      "\u001b[0;31m---------------------------------------------------------------------------\u001b[0m",
      "\u001b[0;31mIndexError\u001b[0m                                Traceback (most recent call last)",
      "\u001b[0;32m<ipython-input-111-1c2ef05cc4bd>\u001b[0m in \u001b[0;36m<module>\u001b[0;34m()\u001b[0m\n\u001b[0;32m----> 1\u001b[0;31m \u001b[0mspk_wav\u001b[0m\u001b[0;34m[\u001b[0m\u001b[0;34m:\u001b[0m\u001b[0;34m,\u001b[0m\u001b[0;36m10790\u001b[0m\u001b[0;34m]\u001b[0m\u001b[0;34m[\u001b[0m\u001b[0;34m:\u001b[0m\u001b[0;34m,\u001b[0m\u001b[0;36m2\u001b[0m\u001b[0;34m:\u001b[0m\u001b[0;34m]\u001b[0m\u001b[0;34m\u001b[0m\u001b[0m\n\u001b[0m",
      "\u001b[0;31mIndexError\u001b[0m: index 10790 is out of bounds for axis 1 with size 20"
     ]
    }
   ],
   "source": [
    "spk_wav[:,10790][:,2:]"
   ]
  },
  {
   "cell_type": "code",
   "execution_count": 62,
   "metadata": {
    "collapsed": true
   },
   "outputs": [],
   "source": [
    "fet_val = fet[:,2:6]/float(2**16)"
   ]
  },
  {
   "cell_type": "code",
   "execution_count": 63,
   "metadata": {
    "scrolled": true
   },
   "outputs": [
    {
     "data": {
      "text/plain": [
       "array([[ -9.95025635e-02,   7.73773193e-02,  -2.36053467e-02,\n",
       "          1.81274414e-02],\n",
       "       [ -1.52587891e-05,  -1.52587891e-05,  -1.52587891e-05,\n",
       "         -1.52587891e-05],\n",
       "       [  2.20031738e-02,   1.10321045e-02,   3.85894775e-02,\n",
       "          2.24914551e-02],\n",
       "       ..., \n",
       "       [ -1.14440918e-01,  -6.94274902e-03,   3.81164551e-02,\n",
       "         -2.61688232e-02],\n",
       "       [ -2.23083496e-02,  -4.40063477e-02,  -1.31774902e-01,\n",
       "          6.48498535e-03],\n",
       "       [  1.47537231e-01,   1.27105713e-01,   1.16485596e-01,\n",
       "         -7.15637207e-03]])"
      ]
     },
     "execution_count": 63,
     "metadata": {},
     "output_type": "execute_result"
    }
   ],
   "source": [
    "fet_val"
   ]
  },
  {
   "cell_type": "code",
   "execution_count": 64,
   "metadata": {
    "collapsed": true
   },
   "outputs": [],
   "source": [
    "label = fet[:,-1]"
   ]
  },
  {
   "cell_type": "code",
   "execution_count": 65,
   "metadata": {},
   "outputs": [
    {
     "data": {
      "text/plain": [
       "array([80, 66,  9, 89,  4, 62, 95, 81, 87, 58, 70, 98, 81, 20, 29, 92, 32,\n",
       "       81, 32, 57, 89, 57,  6, 76, 80, 79, 81, 20, 86, 43, 33, 10, 47, 81,\n",
       "       15, 11, 48, 89, 81, 48, 21, 32, 81,  5,  1, 89, 57,  1,  4, 73, 57,\n",
       "        5, 67, 89, 51, 90, 65, 32, 95, 37, 32, 60, 86, 99, 57, 52, 69, 32,\n",
       "       67, 99, 80, 35,  1, 97, 81, 81, 82, 67, 57, 66, 43, 59, 57, 38,  1,\n",
       "       37, 87, 29, 87, 11, 33, 97, 14, 33, 21, 80, 89, 79, 29, 70], dtype=int32)"
      ]
     },
     "execution_count": 65,
     "metadata": {},
     "output_type": "execute_result"
    }
   ],
   "source": [
    "label[-100:]"
   ]
  },
  {
   "cell_type": "code",
   "execution_count": 75,
   "metadata": {
    "collapsed": true
   },
   "outputs": [],
   "source": [
    "x = spk_wav[:,1:].transpose(0,2,1).ravel().reshape(-1, 76)/float(2**13)"
   ]
  },
  {
   "cell_type": "code",
   "execution_count": 76,
   "metadata": {
    "collapsed": true
   },
   "outputs": [],
   "source": [
    "_fet_val = np.zeros(fet_val.shape)\n",
    "for i, (t, grpNo) in enumerate(fet_info):\n",
    "#     print i, (t,grpNo)\n",
    "#     print grpNo\n",
    "    if config.transfomer_constructed[grpNo]:\n",
    "        _pca_comp, _shift, _scale = sorter.construct_transformer(groupNo=grpNo, ndim=4)\n",
    "        _fet_val[i] = sorter._transform(x[i], _pca_comp, _shift, _scale)"
   ]
  },
  {
   "cell_type": "code",
   "execution_count": 77,
   "metadata": {},
   "outputs": [
    {
     "data": {
      "text/plain": [
       "array([[ -1.53017446e-01,  -1.19958207e-01,  -9.12351759e-03,\n",
       "         -7.97430572e-02],\n",
       "       [ -7.10705983e-02,  -2.23868163e-01,  -2.55577410e-01,\n",
       "          1.31223996e+00],\n",
       "       [  2.73046574e-01,  -6.82853574e-02,   4.00844605e-01,\n",
       "         -2.24347399e-01],\n",
       "       ..., \n",
       "       [ -4.84577212e-02,  -2.68569050e-02,   2.85472859e-04,\n",
       "          1.15106418e-03],\n",
       "       [ -8.52187700e-05,  -1.85615968e-03,  -1.46606445e-03,\n",
       "         -1.15905267e-02],\n",
       "       [ -5.83231176e-02,   2.46056376e-02,  -1.34293235e-03,\n",
       "         -1.75121622e-02]])"
      ]
     },
     "execution_count": 77,
     "metadata": {},
     "output_type": "execute_result"
    }
   ],
   "source": [
    "_fet_val"
   ]
  },
  {
   "cell_type": "code",
   "execution_count": 78,
   "metadata": {},
   "outputs": [
    {
     "data": {
      "text/plain": [
       "array([[ -1.53015137e-01,  -1.19949341e-01,  -9.10949707e-03,\n",
       "         -7.97424316e-02],\n",
       "       [ -7.10601807e-02,  -2.23861694e-01,  -2.55569458e-01,\n",
       "          1.31222534e+00],\n",
       "       [  2.73040771e-01,  -6.82830811e-02,   4.00833130e-01,\n",
       "         -2.24334717e-01],\n",
       "       ..., \n",
       "       [ -4.84466553e-02,  -2.68554688e-02,   2.74658203e-04,\n",
       "          1.14440918e-03],\n",
       "       [ -7.62939453e-05,  -1.84631348e-03,  -1.46484375e-03,\n",
       "         -1.15814209e-02],\n",
       "       [ -5.83190918e-02,   2.45971680e-02,  -1.34277344e-03,\n",
       "         -1.75018311e-02]])"
      ]
     },
     "execution_count": 78,
     "metadata": {},
     "output_type": "execute_result"
    }
   ],
   "source": [
    "fet_val"
   ]
  },
  {
   "cell_type": "code",
   "execution_count": 79,
   "metadata": {
    "scrolled": false
   },
   "outputs": [
    {
     "data": {
      "text/plain": [
       "True"
      ]
     },
     "execution_count": 79,
     "metadata": {},
     "output_type": "execute_result"
    }
   ],
   "source": [
    "np.allclose(_fet_val, fet_val, atol=1e-4)"
   ]
  },
  {
   "cell_type": "code",
   "execution_count": null,
   "metadata": {
    "collapsed": true
   },
   "outputs": [],
   "source": []
  },
  {
   "cell_type": "code",
   "execution_count": null,
   "metadata": {
    "collapsed": true
   },
   "outputs": [],
   "source": []
  },
  {
   "cell_type": "code",
   "execution_count": null,
   "metadata": {
    "collapsed": true
   },
   "outputs": [],
   "source": []
  },
  {
   "cell_type": "code",
   "execution_count": null,
   "metadata": {
    "collapsed": true
   },
   "outputs": [],
   "source": []
  },
  {
   "cell_type": "code",
   "execution_count": null,
   "metadata": {
    "collapsed": true
   },
   "outputs": [],
   "source": []
  },
  {
   "cell_type": "code",
   "execution_count": 54,
   "metadata": {},
   "outputs": [
    {
     "data": {
      "text/plain": [
       "[<matplotlib.lines.Line2D at 0x7fdda76b04d0>,\n",
       " <matplotlib.lines.Line2D at 0x7fdda76b0610>,\n",
       " <matplotlib.lines.Line2D at 0x7fdda76b07d0>,\n",
       " <matplotlib.lines.Line2D at 0x7fdda76b08d0>]"
      ]
     },
     "execution_count": 54,
     "metadata": {},
     "output_type": "execute_result"
    },
    {
     "data": {
      "image/png": "[encoded data removed]",
      "text/plain": [
       "<matplotlib.figure.Figure at 0x7fdda7737dd0>"
      ]
     },
     "metadata": {},
     "output_type": "display_data"
    }
   ],
   "source": [
    "plot(sorter.model.spk[20][0], '-o')"
   ]
  },
  {
   "cell_type": "code",
   "execution_count": 55,
   "metadata": {},
   "outputs": [
    {
     "data": {
      "text/plain": [
       "[<matplotlib.lines.Line2D at 0x7fdda75c5150>,\n",
       " <matplotlib.lines.Line2D at 0x7fdda75c5290>,\n",
       " <matplotlib.lines.Line2D at 0x7fdda75c5450>,\n",
       " <matplotlib.lines.Line2D at 0x7fdda75c5550>]"
      ]
     },
     "execution_count": 55,
     "metadata": {},
     "output_type": "execute_result"
    },
    {
     "data": {
      "image/png": "[encoded data removed]",
      "text/plain": [
       "<matplotlib.figure.Figure at 0x7fdda766b550>"
      ]
     },
     "metadata": {},
     "output_type": "display_data"
    }
   ],
   "source": [
    "plot(spk_wav[0][1:]/float(2**13) , '-o')"
   ]
  },
  {
   "cell_type": "code",
   "execution_count": 56,
   "metadata": {},
   "outputs": [
    {
     "data": {
      "text/plain": [
       "array([[-0.00250244, -0.01405334, -0.06399536, -0.03611755],\n",
       "       [-0.07981873,  0.03050232, -0.06677246, -0.00202942],\n",
       "       [ 0.12345886, -0.1227417 ,  0.00271606,  0.0302887 ],\n",
       "       ..., \n",
       "       [-0.13063049, -0.05680847, -0.07524109, -0.02125549],\n",
       "       [-0.10162354, -0.03871155, -0.01298523, -0.00959778],\n",
       "       [-0.02603149,  0.03518677, -0.08352661, -0.02519226]])"
      ]
     },
     "execution_count": 56,
     "metadata": {},
     "output_type": "execute_result"
    }
   ],
   "source": [
    "fet_val[fet_info[:,1]==20]"
   ]
  },
  {
   "cell_type": "code",
   "execution_count": 58,
   "metadata": {},
   "outputs": [
    {
     "data": {
      "text/plain": [
       "array([ 0.02485381,  0.05687669, -0.04208599, -0.01066198])"
      ]
     },
     "execution_count": 58,
     "metadata": {},
     "output_type": "execute_result"
    }
   ],
   "source": [
    "sorter.model.fet[20][0]"
   ]
  },
  {
   "cell_type": "code",
   "execution_count": null,
   "metadata": {
    "collapsed": true
   },
   "outputs": [],
   "source": []
  },
  {
   "cell_type": "code",
   "execution_count": null,
   "metadata": {
    "collapsed": true
   },
   "outputs": [],
   "source": []
  },
  {
   "cell_type": "code",
   "execution_count": null,
   "metadata": {
    "collapsed": true
   },
   "outputs": [],
   "source": []
  },
  {
   "cell_type": "code",
   "execution_count": null,
   "metadata": {
    "collapsed": true
   },
   "outputs": [],
   "source": []
  },
  {
   "cell_type": "markdown",
   "metadata": {},
   "source": [
    "### classification"
   ]
  },
  {
   "cell_type": "code",
   "execution_count": 44,
   "metadata": {
    "collapsed": true
   },
   "outputs": [],
   "source": [
    "x = sorter.vq['points'][0]"
   ]
  },
  {
   "cell_type": "code",
   "execution_count": 45,
   "metadata": {
    "collapsed": true
   },
   "outputs": [],
   "source": [
    "# x[1:] = [0,0,0,0]"
   ]
  },
  {
   "cell_type": "code",
   "execution_count": 46,
   "metadata": {},
   "outputs": [
    {
     "name": "stderr",
     "output_type": "stream",
     "text": [
      "2017-10-18 17:46:18,024 - spiketag - WARNING -  group 5 has no spikes! \n",
      "2017-10-18 17:46:27,068 - spiketag - INFO - received model modified event, refine spikes[group=7, global_ids=[   2    3    6    7   15   23   29   32   36   37   46   49   51   53   54\n",
      "   56   61   64   65   66   71   73   74   75   78   87   95   98  100  101\n",
      "  109  110  111  112  114  123  126  131  132  133  136  141  144  153  154\n",
      "  160  166  168  170  172  173  176  189  192  194  195  196  199  201  202\n",
      "  203  205  206  207  209  210  211  212  213  215  216  219  220  222  223\n",
      "  224  226  228  229  230  234  237  240  241  244  245  246  250  256  257\n",
      "  260  264  265  272  275  276  278  287  288  292  295  296  297  302  303\n",
      "  304  306  311  319  320  321  323  326  330  334  337  345  347  348  349\n",
      "  351  355  356  357  359  360  361  363  365  366  367  369  370  372  375\n",
      "  376  377  378  379  380  384  385  388  389  393  394  397  400  401  402\n",
      "  404  405  406  407  408  409  414  416  417  418  420  421  425  426  428\n",
      "  429  433  435  436  446  447  449  453  456  457  460  463  464  465  471\n",
      "  473  474  478  479  480  481  482  486  489  492  494  495  497  498  499\n",
      "  501  503  505  506  507  511  512  513  514  516  517  520  523  524  525\n",
      "  526  529  533  534  537  539  540  542  549  551  552  554  556  559  565\n",
      "  566  567  572  573  574  575  576  577  582  583  587  590  591  593  594\n",
      "  597  600  604  605  606  608  609  612  614  617  618  620  621  624  626\n",
      "  630  631  635  636  642  644  645  646  651  653  654  655  656  661  666\n",
      "  669  671  677  683  685  686  688  694  696  698  700  702  703  704  706\n",
      "  707  708  709  711  716  717  723  727  731  733  734  742  743  746  749\n",
      "  753  761  762  765  770  775  776  780  781  786  788  798  799  801  803\n",
      "  804  806  809  810  816  824  828  830  831  832  833  834  838  843  845\n",
      "  849  851  852  856  857  858  863  867  869  875  876  877  878  881  882\n",
      "  883  884  888  889  892  898  900  901  904  909  912  921  922  935  936\n",
      "  939  940  948  949  957  958  961  963  965  972  974  975  983  994  995\n",
      "  998  999 1007 1014 1017 1021 1024 1025 1026 1028 1029 1030 1032 1037 1051\n",
      " 1060 1064 1066 1069 1072 1075 1083 1092 1096 1097 1101 1104 1105 1106 1107\n",
      " 1109 1111 1112 1114 1115 1118 1123 1124 1128 1130 1133 1137 1138 1139 1140\n",
      " 1142 1143 1145 1147 1148 1153 1154 1156 1157 1159 1170 1172 1173 1174 1177\n",
      " 1178 1179 1180 1181 1183 1185 1186 1187 1189 1192 1197 1200 1202 1205 1210\n",
      " 1216 1218 1220 1222 1223 1224 1225 1226 1228 1233 1234 1240 1242 1243 1244\n",
      " 1245 1246 1256 1258 1259 1260 1261 1266 1273 1277 1282 1283 1290 1292 1294\n",
      " 1298 1299 1301 1302 1303 1304 1306 1314 1327 1331 1332 1338 1342 1343 1346\n",
      " 1357 1359 1360 1361 1362 1364 1365 1367 1368 1369 1370 1371 1372 1373 1377\n",
      " 1378 1380 1381 1383 1384 1386 1387 1388 1389 1390 1391 1392 1393 1395 1396\n",
      " 1397 1398 1399 1400 1401 1402 1403 1404 1405 1407 1408 1409 1410 1411 1412\n",
      " 1413 1414 1415 1416 1417 1422 1423 1424 1425 1427 1428 1429 1430 1431 1434\n",
      " 1435 1438 1446 1451 1452 1454 1455 1456 1457 1459 1460 1461 1463 1464 1465\n",
      " 1466 1467 1468 1469 1473 1474 1475 1476 1479 1480 1481 1482 1483 1484 1485\n",
      " 1486 1489 1494]]\n",
      "2017-10-18 17:46:27,093 - spiketag - INFO - the result of refine: [2 4 4 2 4 2 2 3 4 2 2 4 4 2 2 3 2 4 2 4 3 4 3 2 2 2 2 4 4 4 1 2 2 2 2 2 3\n",
      " 3 2 2 3 2 4 2 3 2 2 2 2 2 2 1 2 2 2 4 4 4 2 2 4 4 3 2 2 2 2 2 2 2 2 4 4 3\n",
      " 4 4 4 4 2 4 2 3 3 4 3 4 3 4 4 1 4 3 2 4 4 2 3 3 4 3 4 2 4 2 2 2 2 2 4 4 3\n",
      " 4 3 2 2 2 4 3 4 2 4 3 2 3 4 3 3 4 1 1 1 3 2 3 4 2 1 3 2 4 4 3 2 1 4 4 3 4\n",
      " 2 2 4 1 2 3 1 2 2 1 3 2 3 1 2 2 4 1 1 3 4 4 3 2 4 4 4 1 2 1 2 1 1 3 1 2 2\n",
      " 4 2 2 4 2 1 2 3 1 2 2 3 2 2 4 1 1 2 4 4 2 3 3 2 4 4 3 3 1 2 3 3 2 3 3 3 3\n",
      " 3 4 4 2 1 4 1 4 2 2 4 2 3 2 2 2 3 4 3 4 2 2 4 2 4 4 4 4 2 4 2 3 4 4 2 4 4\n",
      " 3 2 4 4 4 2 3 2 2 2 4 4 4 3 4 2 4 4 2 3 3 3 3 3 2 4 4 3 4 2 1 1 3 4 3 2 3\n",
      " 4 3 3 4 2 4 4 3 3 2 2 2 2 4 4 2 2 3 3 3 2 4 2 4 1 3 2 4 4 3 1 3 2 1 4 3 2\n",
      " 1 2 4 3 3 3 1 3 4 1 4 1 3 2 1 2 1 3 1 3 1 3 3 1 2 1 2 2 4 3 1 2 3 1 3 3 4\n",
      " 2 3 3 4 2 4 3 4 3 3 4 4 2 3 4 3 2 4 3 1 3 2 4 2 2 4 3 2 3 2 1 2 1 1 2 4 4\n",
      " 2 2 1 2 1 2 2 4 4 3 2 1 1 3 2 2 2 2 3 2 3 4 4 2 2 3 2 4 4 3 1 2 2 4 4 2 4\n",
      " 3 3 4 2 3 3 2 3 2 3 2 2 2 2 4 4 2 2 2 3 1 2 4 4 2 2 3 2 2 4 2 3 2 4 4 4 4\n",
      " 4 4 1 2 1 4 3 1 3 2 2 3 2 4 4 2 3 2 2 2 4 2 2 2 4 3 2 4 2 2 4 3 2 2 3 4 4\n",
      " 4 4 2 3 2 2 4 1 1 1 2 2 4 2 2 3 4 2 1 4 3 4 4 2 4 4 2 4 2 4 4 4 4 4 3 2 1\n",
      " 2 1 2 2 3 2 4 1 3 1 1 2 3 3 2 4 2 3 4 4 3 2 4 2 3 4 4 2 4 2 4 2 1]\n"
     ]
    }
   ],
   "source": [
    "for i in range(40):\n",
    "    config.vq[i] = x"
   ]
  },
  {
   "cell_type": "code",
   "execution_count": 48,
   "metadata": {
    "collapsed": true
   },
   "outputs": [],
   "source": [
    "for i in range(20):\n",
    "    config.vq[i] = sorter.vq['points'][7]"
   ]
  },
  {
   "cell_type": "code",
   "execution_count": 54,
   "metadata": {},
   "outputs": [
    {
     "data": {
      "text/plain": [
       "array([[-0.01019156, -0.12588562,  0.0260838 ,  0.03621008],\n",
       "       [-0.05696325,  0.06610309, -0.0152795 ,  0.02633984],\n",
       "       [ 0.18422319,  0.04954461, -0.04198135, -0.04196046],\n",
       "       [ 0.40777998,  0.17364698,  0.08411459,  0.13845786],\n",
       "       [ 0.06401932, -0.0243188 ,  0.07044888,  0.00475412],\n",
       "       [-0.11935767, -0.06246127,  0.01786523, -0.0405165 ],\n",
       "       [ 0.34378244, -0.30743765,  0.11980039,  0.18903837],\n",
       "       [ 0.06827812,  0.18489786,  0.09689144,  0.02894944],\n",
       "       [-0.23914792,  0.03012344, -0.05053775,  0.01719984],\n",
       "       [-0.01855739, -0.05885   ,  0.13153113, -0.02172236],\n",
       "       [ 0.0058852 ,  0.15857857,  0.06753993,  0.00687078],\n",
       "       [-0.15003725,  0.06290691,  0.00304856,  0.01024053],\n",
       "       [ 0.10911199,  0.01599089, -0.04260325, -0.05255854],\n",
       "       [-0.11978366, -0.11089286, -0.15889176, -0.02531939],\n",
       "       [ 0.45506037, -0.41422341,  0.00242084,  0.0531831 ],\n",
       "       [ 0.01828711, -0.04047037, -0.05517607, -0.05037932],\n",
       "       [-0.17113911,  0.03412035, -0.05304956,  0.01631803],\n",
       "       [ 0.50562217, -0.15158808,  0.00926003,  0.03191622],\n",
       "       [ 0.22001506,  0.12195473, -0.06284507, -0.03565545],\n",
       "       [ 0.35625996,  0.42995734,  0.36149098,  0.00476344],\n",
       "       [ 0.17804708,  0.00053679, -0.03246876,  0.09870263],\n",
       "       [-0.0439896 , -0.07414187,  0.04654211, -0.01964884],\n",
       "       [-0.13111554,  0.14138615,  0.00860396,  0.00522707],\n",
       "       [ 0.32447759,  0.0122879 , -0.05351033,  0.21521533],\n",
       "       [-0.1822813 ,  0.12190647,  0.21633457, -0.08226843],\n",
       "       [-0.24276312, -0.01386767, -0.19548605, -0.01490732],\n",
       "       [ 0.08957939, -0.10180142,  0.01070664, -0.00969185],\n",
       "       [-0.08202789, -0.12765315, -0.00633772, -0.03323929],\n",
       "       [ 0.14156241, -0.03353119, -0.02645676,  0.01103474],\n",
       "       [-0.03753532,  0.00253051, -0.0739112 ,  0.00335755],\n",
       "       [ 0.03552718, -0.08618516, -0.04582803,  0.0828739 ],\n",
       "       [-0.14001084,  0.04733067, -0.05153618,  0.02889741],\n",
       "       [-0.05047847, -0.04858448,  0.00817604,  0.03361268],\n",
       "       [-0.15474148,  0.26711588,  0.1449569 , -0.04670142],\n",
       "       [ 0.12095334,  0.03422231, -0.10289537, -0.0395831 ],\n",
       "       [ 0.04038114, -0.11376905,  0.06058525,  0.00501214],\n",
       "       [ 0.19743543,  0.15339767,  0.0679213 , -0.05549937],\n",
       "       [-0.09176338, -0.07810283, -0.04965051, -0.00506302],\n",
       "       [ 0.26355294, -0.01008997,  0.10661616,  0.01287176],\n",
       "       [-0.06686632, -0.09369533,  0.08249385,  0.01333875],\n",
       "       [ 0.18775473,  0.03456935,  0.0294805 , -0.05498107],\n",
       "       [ 0.07150488,  0.03560032, -0.0130693 , -0.09267317],\n",
       "       [-0.18436906, -0.04137252, -0.07492607,  0.02433042],\n",
       "       [-0.09740563,  0.0839773 , -0.00906468,  0.01893137],\n",
       "       [ 0.13910688,  0.08023477,  0.00275968, -0.03742938],\n",
       "       [-0.04876022,  0.13114353, -0.00890604, -0.07293147],\n",
       "       [-0.08547943, -0.0870731 ,  0.0278071 , -0.036211  ],\n",
       "       [-0.10593903,  0.01706088, -0.05500122,  0.03553225],\n",
       "       [-0.02386929,  0.11388783,  0.01721324,  0.02108776],\n",
       "       [-0.2207343 ,  0.1043782 ,  0.01370294, -0.0078384 ],\n",
       "       [ 0.23704248, -0.22003116, -0.06581991,  0.01314895],\n",
       "       [-0.07781685, -0.16270903, -0.00054701,  0.09006028],\n",
       "       [ 0.21951057,  0.19106249,  0.27575733,  0.04816458],\n",
       "       [-0.06632313, -0.01805901,  0.08568259, -0.02518433],\n",
       "       [-0.0102485 , -0.13341624,  0.02278251, -0.03545965],\n",
       "       [ 0.23629596,  0.03395787,  0.03471587,  0.16046242],\n",
       "       [-0.2004423 , -0.06872566, -0.16438577,  0.071232  ],\n",
       "       [-0.02374471,  0.0452745 , -0.0059696 ,  0.00297162],\n",
       "       [-0.00962522, -0.02162051,  0.00284651, -0.06060963],\n",
       "       [ 0.12033513,  0.05877362,  0.09038653, -0.07202315],\n",
       "       [-0.12338186,  0.0728504 ,  0.1268145 , -0.06018453],\n",
       "       [ 0.06151959, -0.18535161, -0.04120326,  0.02783629],\n",
       "       [ 0.18210944, -0.30815444,  0.00902769,  0.09609298],\n",
       "       [-0.06279859, -0.15620344, -0.05021925, -0.04009985],\n",
       "       [ 0.08105835, -0.06934066, -0.11718406, -0.02521817],\n",
       "       [ 0.01330524,  0.27397905,  0.11576593, -0.00158603],\n",
       "       [ 0.08855545, -0.03170205, -0.05223317, -0.02736806],\n",
       "       [-0.01524391, -0.02537089, -0.05460114,  0.07698218],\n",
       "       [-0.11606081,  0.11761328, -0.04441511,  0.01576142],\n",
       "       [ 0.15166101,  0.04934018,  0.06625958,  0.03499562],\n",
       "       [ 0.15751738,  0.16889106,  0.11081791,  0.062281  ],\n",
       "       [ 0.08131756,  0.04871433,  0.16847141, -0.01366837],\n",
       "       [ 0.05400206,  0.05839994, -0.07160005, -0.04204211],\n",
       "       [ 0.1211914 , -0.22679726,  0.15677562,  0.07165387],\n",
       "       [ 0.17133402, -0.00772817, -0.07709382, -0.02949671],\n",
       "       [ 0.16581639, -0.05272101,  0.02371269,  0.05733834],\n",
       "       [-0.0236652 , -0.08535038,  0.07715064,  0.0253578 ],\n",
       "       [-0.23714943, -0.08233836, -0.04827658,  0.09002912],\n",
       "       [ 0.1362344 , -0.09253999,  0.10727667,  0.0011081 ],\n",
       "       [-0.12194726, -0.01787003,  0.08024022, -0.01260732],\n",
       "       [ 0.07541783,  0.0119197 ,  0.00400016,  0.05639613],\n",
       "       [-0.07594507,  0.03639123, -0.00678245,  0.01142141],\n",
       "       [-0.12507408,  0.0563904 , -0.03893547,  0.00335374],\n",
       "       [-0.04125902, -0.1166318 , -0.04254409, -0.02650966],\n",
       "       [ 0.27138886,  0.06121298, -0.10265952, -0.03577275],\n",
       "       [-0.07941305, -0.08521247, -0.08223523, -0.07140778],\n",
       "       [ 0.1235697 ,  0.07994029, -0.06325805, -0.04086751],\n",
       "       [ 0.01233031, -0.02632813,  0.0660782 , -0.00320279],\n",
       "       [ 0.08321232,  0.13766617, -0.02276407, -0.02676316],\n",
       "       [-0.08995753, -0.06517373,  0.03683535,  0.00340247],\n",
       "       [-0.07184896,  0.13315457,  0.03024216,  0.0186611 ],\n",
       "       [ 0.16422338, -0.0934493 , -0.05708002,  0.02395614],\n",
       "       [ 0.00481314, -0.08537437,  0.0254886 ,  0.00947909],\n",
       "       [ 0.23873641,  0.02853744, -0.03161193, -0.04185659],\n",
       "       [ 0.1735796 ,  0.05728067,  0.0109221 ,  0.11491886],\n",
       "       [ 0.17110118,  0.14118924, -0.02326726, -0.03554634],\n",
       "       [ 0.23765134,  0.11241582,  0.00123934, -0.04591654],\n",
       "       [ 0.17038405, -0.03154241,  0.0259202 , -0.04471392],\n",
       "       [-0.07237189,  0.07980576,  0.03976172,  0.00686512],\n",
       "       [ 0.02237095,  0.08241629, -0.00341554,  0.0184186 ]])"
      ]
     },
     "execution_count": 54,
     "metadata": {},
     "output_type": "execute_result"
    }
   ],
   "source": [
    "sorter.vq['points'][0]"
   ]
  },
  {
   "cell_type": "code",
   "execution_count": 57,
   "metadata": {
    "scrolled": false
   },
   "outputs": [
    {
     "data": {
      "text/plain": [
       "array([[-0.015625 , -0.1328125,  0.0234375,  0.03125  ],\n",
       "       [-0.0625   ,  0.0625   , -0.015625 ,  0.0234375],\n",
       "       [ 0.1796875,  0.046875 , -0.046875 , -0.046875 ],\n",
       "       [ 0.40625  ,  0.171875 ,  0.078125 ,  0.1328125],\n",
       "       [ 0.0625   , -0.03125  ,  0.0703125,  0.       ],\n",
       "       [-0.125    , -0.0625   ,  0.015625 , -0.046875 ],\n",
       "       [ 0.34375  , -0.3125   ,  0.1171875,  0.1875   ],\n",
       "       [ 0.0625   ,  0.1796875,  0.09375  ,  0.0234375],\n",
       "       [-0.2421875,  0.0234375, -0.0546875,  0.015625 ],\n",
       "       [-0.0234375, -0.0625   ,  0.125    , -0.0234375],\n",
       "       [ 0.       ,  0.15625  ,  0.0625   ,  0.       ],\n",
       "       [-0.15625  ,  0.0625   ,  0.       ,  0.0078125],\n",
       "       [ 0.1015625,  0.015625 , -0.046875 , -0.0546875],\n",
       "       [-0.125    , -0.1171875, -0.1640625, -0.03125  ],\n",
       "       [ 0.453125 , -0.421875 ,  0.       ,  0.046875 ],\n",
       "       [ 0.015625 , -0.046875 , -0.0625   , -0.0546875],\n",
       "       [-0.171875 ,  0.03125  , -0.0546875,  0.015625 ],\n",
       "       [ 0.5      , -0.15625  ,  0.0078125,  0.03125  ],\n",
       "       [ 0.21875  ,  0.1171875, -0.0703125, -0.0390625],\n",
       "       [ 0.3515625,  0.4296875,  0.359375 ,  0.       ],\n",
       "       [ 0.171875 ,  0.       , -0.0390625,  0.09375  ],\n",
       "       [-0.046875 , -0.078125 ,  0.0390625, -0.0234375],\n",
       "       [-0.1328125,  0.140625 ,  0.0078125,  0.       ],\n",
       "       [ 0.3203125,  0.0078125, -0.0546875,  0.2109375],\n",
       "       [-0.1875   ,  0.1171875,  0.2109375, -0.0859375],\n",
       "       [-0.25     , -0.015625 , -0.203125 , -0.015625 ],\n",
       "       [ 0.0859375, -0.109375 ,  0.0078125, -0.015625 ],\n",
       "       [-0.0859375, -0.1328125, -0.0078125, -0.0390625],\n",
       "       [ 0.140625 , -0.0390625, -0.03125  ,  0.0078125],\n",
       "       [-0.0390625,  0.       , -0.078125 ,  0.       ],\n",
       "       [ 0.03125  , -0.09375  , -0.046875 ,  0.078125 ],\n",
       "       [-0.140625 ,  0.046875 , -0.0546875,  0.0234375],\n",
       "       [-0.0546875, -0.0546875,  0.0078125,  0.03125  ],\n",
       "       [-0.15625  ,  0.265625 ,  0.140625 , -0.046875 ],\n",
       "       [ 0.1171875,  0.03125  , -0.109375 , -0.046875 ],\n",
       "       [ 0.0390625, -0.1171875,  0.0546875,  0.       ],\n",
       "       [ 0.1953125,  0.1484375,  0.0625   , -0.0625   ],\n",
       "       [-0.09375  , -0.078125 , -0.0546875, -0.0078125],\n",
       "       [ 0.2578125, -0.015625 ,  0.1015625,  0.0078125],\n",
       "       [-0.0703125, -0.09375  ,  0.078125 ,  0.0078125],\n",
       "       [ 0.1875   ,  0.03125  ,  0.0234375, -0.0625   ],\n",
       "       [ 0.0703125,  0.03125  , -0.015625 , -0.09375  ],\n",
       "       [-0.1875   , -0.046875 , -0.078125 ,  0.0234375],\n",
       "       [-0.1015625,  0.078125 , -0.015625 ,  0.015625 ],\n",
       "       [ 0.1328125,  0.078125 ,  0.       , -0.0390625],\n",
       "       [-0.0546875,  0.125    , -0.015625 , -0.078125 ],\n",
       "       [-0.0859375, -0.09375  ,  0.0234375, -0.0390625],\n",
       "       [-0.109375 ,  0.015625 , -0.0625   ,  0.03125  ],\n",
       "       [-0.03125  ,  0.109375 ,  0.015625 ,  0.015625 ],\n",
       "       [-0.2265625,  0.1015625,  0.0078125, -0.015625 ],\n",
       "       [ 0.234375 , -0.2265625, -0.0703125,  0.0078125],\n",
       "       [-0.078125 , -0.1640625, -0.0078125,  0.0859375],\n",
       "       [ 0.21875  ,  0.1875   ,  0.2734375,  0.046875 ],\n",
       "       [-0.0703125, -0.0234375,  0.078125 , -0.03125  ],\n",
       "       [-0.015625 , -0.140625 ,  0.015625 , -0.0390625],\n",
       "       [ 0.234375 ,  0.03125  ,  0.03125  ,  0.15625  ],\n",
       "       [-0.203125 , -0.0703125, -0.171875 ,  0.0703125],\n",
       "       [-0.03125  ,  0.0390625, -0.0078125,  0.       ],\n",
       "       [-0.015625 , -0.0234375,  0.       , -0.0625   ],\n",
       "       [ 0.1171875,  0.0546875,  0.0859375, -0.078125 ],\n",
       "       [-0.125    ,  0.0703125,  0.125    , -0.0625   ],\n",
       "       [ 0.0546875, -0.1875   , -0.046875 ,  0.0234375],\n",
       "       [ 0.1796875, -0.3125   ,  0.0078125,  0.09375  ],\n",
       "       [-0.0703125, -0.15625  , -0.0546875, -0.046875 ],\n",
       "       [ 0.078125 , -0.0703125, -0.1171875, -0.03125  ],\n",
       "       [ 0.0078125,  0.2734375,  0.109375 , -0.0078125],\n",
       "       [ 0.0859375, -0.0390625, -0.0546875, -0.03125  ],\n",
       "       [-0.015625 , -0.03125  , -0.0546875,  0.0703125],\n",
       "       [-0.1171875,  0.1171875, -0.046875 ,  0.015625 ],\n",
       "       [ 0.1484375,  0.046875 ,  0.0625   ,  0.03125  ],\n",
       "       [ 0.15625  ,  0.1640625,  0.109375 ,  0.0546875],\n",
       "       [ 0.078125 ,  0.046875 ,  0.1640625, -0.015625 ],\n",
       "       [ 0.046875 ,  0.0546875, -0.078125 , -0.046875 ],\n",
       "       [ 0.1171875, -0.234375 ,  0.15625  ,  0.0703125],\n",
       "       [ 0.1640625, -0.0078125, -0.078125 , -0.03125  ],\n",
       "       [ 0.1640625, -0.0546875,  0.0234375,  0.0546875],\n",
       "       [-0.03125  , -0.0859375,  0.0703125,  0.0234375],\n",
       "       [-0.2421875, -0.0859375, -0.0546875,  0.0859375],\n",
       "       [ 0.1328125, -0.09375  ,  0.1015625,  0.       ],\n",
       "       [-0.125    , -0.0234375,  0.078125 , -0.015625 ],\n",
       "       [ 0.0703125,  0.0078125,  0.       ,  0.0546875],\n",
       "       [-0.078125 ,  0.03125  , -0.0078125,  0.0078125],\n",
       "       [-0.1328125,  0.0546875, -0.0390625,  0.       ],\n",
       "       [-0.046875 , -0.1171875, -0.046875 , -0.03125  ],\n",
       "       [ 0.265625 ,  0.0546875, -0.109375 , -0.0390625],\n",
       "       [-0.0859375, -0.0859375, -0.0859375, -0.078125 ],\n",
       "       [ 0.1171875,  0.078125 , -0.0703125, -0.046875 ],\n",
       "       [ 0.0078125, -0.03125  ,  0.0625   , -0.0078125],\n",
       "       [ 0.078125 ,  0.1328125, -0.0234375, -0.03125  ],\n",
       "       [-0.09375  , -0.0703125,  0.03125  ,  0.       ],\n",
       "       [-0.078125 ,  0.1328125,  0.0234375,  0.015625 ],\n",
       "       [ 0.1640625, -0.09375  , -0.0625   ,  0.0234375],\n",
       "       [ 0.       , -0.0859375,  0.0234375,  0.0078125],\n",
       "       [ 0.234375 ,  0.0234375, -0.0390625, -0.046875 ],\n",
       "       [ 0.171875 ,  0.0546875,  0.0078125,  0.109375 ],\n",
       "       [ 0.1640625,  0.140625 , -0.0234375, -0.0390625],\n",
       "       [ 0.234375 ,  0.109375 ,  0.       , -0.046875 ],\n",
       "       [ 0.1640625, -0.0390625,  0.0234375, -0.046875 ],\n",
       "       [-0.078125 ,  0.078125 ,  0.0390625,  0.       ],\n",
       "       [ 0.015625 ,  0.078125 , -0.0078125,  0.015625 ]])"
      ]
     },
     "execution_count": 57,
     "metadata": {},
     "output_type": "execute_result"
    },
    {
     "name": "stderr",
     "output_type": "stream",
     "text": [
      "2017-10-18 20:53:37,542 - spiketag - WARNING -  group 5 has no spikes! \n",
      "2017-10-18 20:55:45,498 - spiketag - WARNING -  group 5 has no spikes! \n",
      "2017-10-18 20:55:47,530 - spiketag - WARNING -  group 16 has no spikes! \n",
      "2017-10-18 20:56:48,479 - spiketag - WARNING -  group 16 has no spikes! \n",
      "2017-10-18 21:48:34,098 - spiketag - DEBUG - ctree view collapse cluster 1500 here\n"
     ]
    }
   ],
   "source": [
    "config.vq[20]"
   ]
  },
  {
   "cell_type": "code",
   "execution_count": 114,
   "metadata": {
    "collapsed": true
   },
   "outputs": [],
   "source": [
    "x = fet_val[10790]"
   ]
  },
  {
   "cell_type": "code",
   "execution_count": 115,
   "metadata": {},
   "outputs": [
    {
     "data": {
      "text/plain": [
       "array([ 0.42457581,  0.0662384 ,  0.13998413, -0.25540161])"
      ]
     },
     "execution_count": 115,
     "metadata": {},
     "output_type": "execute_result"
    }
   ],
   "source": [
    "x"
   ]
  },
  {
   "cell_type": "code",
   "execution_count": 123,
   "metadata": {},
   "outputs": [
    {
     "name": "stdout",
     "output_type": "stream",
     "text": [
      "100 loops, best of 3: 6.51 ms per loop\n"
     ]
    }
   ],
   "source": [
    "%%timeit \n",
    "np.linalg.norm(x-config.vq[0], axis=1).argmin()"
   ]
  },
  {
   "cell_type": "code",
   "execution_count": null,
   "metadata": {
    "collapsed": true
   },
   "outputs": [],
   "source": []
  },
  {
   "cell_type": "code",
   "execution_count": 66,
   "metadata": {},
   "outputs": [
    {
     "data": {
      "text/plain": [
       "array([[555371,     39],\n",
       "       [555400,     32],\n",
       "       [555408,     21],\n",
       "       [555414,     28],\n",
       "       [555415,     27],\n",
       "       [555425,      0],\n",
       "       [555438,     36],\n",
       "       [555457,      6],\n",
       "       [555468,     10],\n",
       "       [555471,     26],\n",
       "       [555472,     39],\n",
       "       [555519,     13],\n",
       "       [555520,     10],\n",
       "       [555542,     39],\n",
       "       [555545,     20],\n",
       "       [555561,      6],\n",
       "       [555581,     35],\n",
       "       [555584,     30],\n",
       "       [555589,     36],\n",
       "       [555602,     39],\n",
       "       [555642,     13],\n",
       "       [555653,      7],\n",
       "       [555659,      9],\n",
       "       [555663,     32],\n",
       "       [555678,     27],\n",
       "       [555685,     28],\n",
       "       [555693,     13],\n",
       "       [555778,     30],\n",
       "       [555782,     29],\n",
       "       [555840,     14],\n",
       "       [555846,     27],\n",
       "       [555858,     32],\n",
       "       [555866,     20],\n",
       "       [555919,     36],\n",
       "       [555922,     39],\n",
       "       [555945,     25],\n",
       "       [555951,     28],\n",
       "       [555952,     27],\n",
       "       [555952,     29],\n",
       "       [555963,     13],\n",
       "       [555980,      7],\n",
       "       [555989,     32],\n",
       "       [555997,     13],\n",
       "       [556006,      0],\n",
       "       [556020,     10],\n",
       "       [556027,     27],\n",
       "       [556027,     28],\n",
       "       [556036,     32],\n",
       "       [556055,     30],\n",
       "       [556072,     27]], dtype=int32)"
      ]
     },
     "execution_count": 66,
     "metadata": {},
     "output_type": "execute_result"
    }
   ],
   "source": [
    "fet_info[-50:]"
   ]
  },
  {
   "cell_type": "code",
   "execution_count": 67,
   "metadata": {},
   "outputs": [
    {
     "data": {
      "text/plain": [
       "array([[ 0.00035095,  0.04072571,  0.04400635, -0.0231781 ],\n",
       "       [-0.11125183, -0.03483582,  0.02294922, -0.04112244],\n",
       "       [ 0.01016235, -0.01983643, -0.00106812,  0.05911255],\n",
       "       [-0.07943726, -0.04951477,  0.01699829,  0.00860596],\n",
       "       [-0.0854187 , -0.11132812,  0.07391357,  0.17671204],\n",
       "       [-0.30238342,  0.30253601, -0.12712097,  0.01676941],\n",
       "       [-0.06034851,  0.25585938,  0.10829163, -0.02503967],\n",
       "       [-0.04309082, -0.05033875, -0.0317688 ,  0.05558777],\n",
       "       [-0.04910278,  0.01387024, -0.02656555,  0.01809692],\n",
       "       [-0.06967163, -0.06666565, -0.0206604 , -0.0249939 ],\n",
       "       [-0.03041077, -0.03089905,  0.00248718,  0.02774048],\n",
       "       [-0.06762695,  0.01335144, -0.03910828, -0.02850342],\n",
       "       [ 0.02845764, -0.05038452,  0.00769043,  0.02053833],\n",
       "       [ 0.02897644,  0.07904053,  0.01245117, -0.01597595],\n",
       "       [-0.0466156 ,  0.05427551, -0.04934692, -0.03027344],\n",
       "       [-0.03231812,  0.00656128,  0.01678467, -0.01412964],\n",
       "       [ 0.10220337,  0.02787781,  0.07249451,  0.02017212],\n",
       "       [-0.06617737, -0.05651855, -0.04489136,  0.04855347],\n",
       "       [ 0.04551697,  0.0533905 , -0.09988403,  0.07939148],\n",
       "       [-0.01118469,  0.07261658,  0.01715088,  0.03239441],\n",
       "       [ 0.05081177, -0.06318665,  0.00645447,  0.02920532],\n",
       "       [-0.03424072, -0.09989929, -0.00840759, -0.0796051 ],\n",
       "       [-0.07447815, -0.03297424,  0.0657959 ,  0.0236969 ],\n",
       "       [ 0.15527344, -0.00793457,  0.02507019, -0.04177856],\n",
       "       [-0.11135864,  0.00047302,  0.02865601,  0.00149536],\n",
       "       [-0.06617737, -0.00299072, -0.00656128, -0.0133667 ],\n",
       "       [ 0.01771545,  0.13110352, -0.01739502, -0.01812744],\n",
       "       [-0.06248474, -0.03155518, -0.04351807,  0.04292297],\n",
       "       [-0.05001831,  0.03295898,  0.00726318, -0.01841736],\n",
       "       [ 0.17480469,  0.03027344, -0.0508728 , -0.01116943],\n",
       "       [-0.08563232,  0.06309509, -0.0040741 , -0.00369263],\n",
       "       [ 0.11105347,  0.02462769,  0.05801392, -0.08447266],\n",
       "       [-0.01690674,  0.0284729 ,  0.00177002, -0.01242065],\n",
       "       [ 0.3053894 , -0.13471985,  0.09202576, -0.10122681],\n",
       "       [-0.05891418,  0.06376648,  0.00074768,  0.07489014],\n",
       "       [-0.1631012 , -0.11802673, -0.02084351,  0.00149536],\n",
       "       [-0.00424194, -0.0274353 ,  0.03843689, -0.00344849],\n",
       "       [-0.06202698, -0.0202179 , -0.03570557,  0.01846313],\n",
       "       [-0.00036621,  0.0065918 ,  0.03204346, -0.02757263],\n",
       "       [-0.01934814, -0.10473633, -0.01416016,  0.00617981],\n",
       "       [-0.02722168, -0.08398438, -0.04719543, -0.04756165],\n",
       "       [ 0.13746643, -0.04000854,  0.03936768, -0.01303101],\n",
       "       [-0.16464233,  0.03294373, -0.04640198,  0.03392029],\n",
       "       [-0.03279114, -0.10787964,  0.02230835, -0.0219574 ],\n",
       "       [-0.10887146, -0.06445312,  0.01095581, -0.00741577],\n",
       "       [ 0.1259613 ,  0.01077271,  0.00747681,  0.0458374 ],\n",
       "       [-0.07849121, -0.03981018,  0.01678467, -0.00488281],\n",
       "       [-0.11444092, -0.00694275,  0.03811646, -0.02616882],\n",
       "       [-0.02230835, -0.04400635, -0.1317749 ,  0.00648499],\n",
       "       [ 0.14753723,  0.12710571,  0.1164856 , -0.00715637]])"
      ]
     },
     "execution_count": 67,
     "metadata": {},
     "output_type": "execute_result"
    }
   ],
   "source": [
    "fet_val[-50:]"
   ]
  },
  {
   "cell_type": "code",
   "execution_count": 78,
   "metadata": {},
   "outputs": [],
   "source": [
    "_nnid = []\n",
    "for i in range(2000):\n",
    "    nnid = np.linalg.norm(fet_val[i]-config.vq[fet_info[i,1]], axis=1).argmin()\n",
    "    _nnid.append(nnid)"
   ]
  },
  {
   "cell_type": "code",
   "execution_count": 77,
   "metadata": {
    "collapsed": true
   },
   "outputs": [],
   "source": [
    "_nnid = []\n",
    "for i in range(-50,0,1):\n",
    "    nnid = np.linalg.norm(fet_val[i]-sorter.vq['points'][0], axis=1).argmin()\n",
    "    _nnid.append(nnid)\n",
    "#     print nnid"
   ]
  },
  {
   "cell_type": "code",
   "execution_count": 83,
   "metadata": {},
   "outputs": [
    {
     "data": {
      "text/plain": [
       "array([31, 55, 66, 90, 40, 38, 65,  4, 94, 92, 38, 81, 79, 86, 48, 45, 75,\n",
       "       17, 66, 23, 69, 59, 64, 55, 64, 40, 66, 70, 38, 93, 29, 47, 48, 59,\n",
       "       99, 61, 65, 81, 83, 59, 23, 32, 70, 32, 32, 58, 72, 30, 96, 70])"
      ]
     },
     "execution_count": 83,
     "metadata": {},
     "output_type": "execute_result"
    }
   ],
   "source": [
    "np.array(_nnid)"
   ]
  },
  {
   "cell_type": "code",
   "execution_count": 80,
   "metadata": {},
   "outputs": [
    {
     "data": {
      "text/plain": [
       "(array([ 619, 1199]),)"
      ]
     },
     "execution_count": 80,
     "metadata": {},
     "output_type": "execute_result"
    }
   ],
   "source": [
    "np.nonzero(label[:2000]-np.array(_nnid))"
   ]
  },
  {
   "cell_type": "code",
   "execution_count": 89,
   "metadata": {},
   "outputs": [
    {
     "data": {
      "text/plain": [
       "1"
      ]
     },
     "execution_count": 89,
     "metadata": {},
     "output_type": "execute_result"
    }
   ],
   "source": [
    "label[1199]"
   ]
  },
  {
   "cell_type": "code",
   "execution_count": 90,
   "metadata": {},
   "outputs": [
    {
     "data": {
      "text/plain": [
       "48"
      ]
     },
     "execution_count": 90,
     "metadata": {},
     "output_type": "execute_result"
    }
   ],
   "source": [
    "_nnid[1199]"
   ]
  },
  {
   "cell_type": "code",
   "execution_count": 91,
   "metadata": {},
   "outputs": [],
   "source": [
    "i = 1199\n",
    "distance = np.linalg.norm(fet_val[i]-config.vq[fet_info[i,1]], axis=1)"
   ]
  },
  {
   "cell_type": "code",
   "execution_count": 92,
   "metadata": {},
   "outputs": [
    {
     "data": {
      "text/plain": [
       "0.051848929652045336"
      ]
     },
     "execution_count": 92,
     "metadata": {},
     "output_type": "execute_result"
    }
   ],
   "source": [
    "distance[1]"
   ]
  },
  {
   "cell_type": "code",
   "execution_count": 93,
   "metadata": {},
   "outputs": [
    {
     "data": {
      "text/plain": [
       "0.051819031875696267"
      ]
     },
     "execution_count": 93,
     "metadata": {},
     "output_type": "execute_result"
    },
    {
     "name": "stderr",
     "output_type": "stream",
     "text": [
      "2017-10-23 15:21:34,044 - spiketag - INFO - received model modified event, refine spikes[group=7, global_ids=[   2    3    6    7   15   23   29   32   36   37   46   49   51   53   54\n",
      "   56   61   64   65   66   73   75   78   79   87   95   98  100  101  109\n",
      "  110  111  112  114  123  126  131  132  133  136  141  144  153  154  160\n",
      "  166  168  170  172  173  176  189  192  194  195  196  199  201  202  203\n",
      "  205  207  208  209  210  211  212  213  215  216  219  220  222  223  224\n",
      "  226  228  229  230  234  237  240  241  244  245  246  250  256  260  264\n",
      "  265  272  275  276  278  287  288  292  295  296  297  302  303  304  306\n",
      "  311  319  320  321  323  326  330  334  337  345  347  348  351  355  356\n",
      "  357  359  361  363  367  369  370  372  375  376  379  380  384  385  388\n",
      "  393  394  397  400  401  402  404  406  407  409  417  418  420  425  426\n",
      "  428  435  436  446  447  452  453  456  457  463  464  465  474  479  480\n",
      "  481  482  486  489  492  495  497  499  501  503  505  506  507  511  514\n",
      "  516  517  520  523  524  525  526  529  533  537  539  540  542  549  551\n",
      "  552  554  556  559  565  566  567  572  573  574  575  576  577  581  582\n",
      "  583  587  590  591  593  594  597  600  604  605  606  609  612  614  617\n",
      "  620  621  626  630  631  635  636  642  644  645  646  647  651  653  654\n",
      "  655  656  658  661  666  668  669  671  677  683  685  686  688  694  696\n",
      "  698  700  702  704  706  707  709  711  723  727  731  733  734  742  743\n",
      "  746  749  753  761  762  765  770  775  776  780  781  786  788  798  799\n",
      "  803  804  806  809  810  816  823  828  830  831  832  833  834  838  849\n",
      "  851  852  857  858  863  867  869  876  877  881  889  898  901  922  934\n",
      "  936  939  940  948  951  952  958  963  965  972  974  975  983  994  995\n",
      "  998  999 1002 1007 1017 1021 1024 1025 1026 1028 1029 1030 1032 1037 1060\n",
      " 1064 1066 1069 1072 1075 1083 1092 1097 1102 1104 1105 1107 1109 1111 1112\n",
      " 1114 1118 1120 1124 1128 1130 1133 1137 1138 1139 1142 1143 1145 1147 1148\n",
      " 1154 1156 1157 1159 1170 1172 1173 1174 1177 1178 1179 1180 1181 1183 1185\n",
      " 1186 1187 1189 1192 1197 1200 1202 1205 1210 1216 1218 1220 1222 1223 1224\n",
      " 1225 1228 1233 1234 1240 1242 1243 1244 1245 1246 1256 1258 1259 1260 1261\n",
      " 1266 1273 1277 1282 1283 1290 1292 1294 1298 1299 1301 1303 1306 1314 1346\n",
      " 1357 1359 1360 1361 1362 1364 1365 1367 1368 1369 1370 1372 1373 1377 1378\n",
      " 1379 1380 1381 1383 1384 1386 1387 1388 1389 1390 1391 1392 1393 1395 1396\n",
      " 1399 1400 1401 1402 1403 1404 1405 1407 1408 1410 1411 1412 1413 1414 1415\n",
      " 1416 1417 1420 1422 1424 1425 1427 1428 1429 1430 1431 1435 1437 1438 1442\n",
      " 1446 1448 1451 1452 1454 1455 1456 1457 1461 1464 1465 1466 1469 1473 1475\n",
      " 1476 1479 1480 1481 1482 1483 1484 1485 1486 1489 1494]]\n",
      "2017-10-23 15:21:34,057 - spiketag - INFO - the result of refine: [5 4 4 5 4 2 5 3 4 2 5 4 4 2 2 3 5 4 2 4 4 5 4 4 2 5 4 4 4 1 2 2 2 2 5 3 3\n",
      " 5 2 3 1 4 5 3 4 5 5 5 5 5 1 2 5 4 4 4 4 5 5 4 4 5 3 4 5 5 5 5 5 5 4 2 3 5\n",
      " 2 5 4 2 4 2 3 3 4 3 4 4 4 4 4 3 2 4 4 2 3 3 4 3 4 4 4 5 5 2 5 5 3 4 3 3 3\n",
      " 2 1 4 4 3 4 4 3 5 3 4 3 4 1 3 2 3 4 2 2 4 4 3 2 4 3 3 4 2 2 4 2 1 5 1 2 4\n",
      " 5 2 4 3 4 4 3 4 4 4 2 4 1 5 3 1 2 4 4 4 4 2 2 3 5 2 3 2 2 4 1 4 4 2 1 3 2\n",
      " 4 4 3 3 2 3 1 2 3 1 1 3 3 4 1 2 1 4 1 5 2 5 4 4 2 3 2 4 4 3 4 3 4 5 4 4 4\n",
      " 4 4 4 4 5 4 4 2 4 4 3 5 4 4 4 3 4 3 2 4 2 5 5 4 4 4 3 5 5 4 4 2 3 3 3 3 2\n",
      " 2 4 4 2 1 4 3 2 3 4 3 3 4 2 4 4 3 3 5 5 5 4 5 4 2 5 3 3 2 4 2 4 3 4 2 4 4\n",
      " 3 1 3 4 3 4 5 2 3 3 3 3 4 4 2 3 3 2 3 5 5 4 3 4 4 3 3 3 4 5 4 1 4 2 4 3 3\n",
      " 4 3 4 4 2 3 2 3 2 4 3 3 2 4 5 5 4 3 3 2 2 5 1 2 4 4 5 4 2 4 2 2 4 4 3 2 1\n",
      " 3 5 5 1 5 4 3 4 4 2 2 3 3 4 5 5 1 2 5 4 4 2 4 3 3 5 2 3 3 2 4 5 3 2 5 2 4\n",
      " 1 5 2 2 3 1 2 4 5 2 2 3 2 5 4 5 3 2 5 4 4 4 4 4 2 4 3 4 4 2 3 2 1 2 4 5 5\n",
      " 5 4 5 4 4 2 4 4 3 5 2 3 4 4 4 4 5 3 2 2 4 1 2 5 2 2 1 4 4 2 4 3 1 5 2 5 5\n",
      " 5 4 1 4 4 4 4 4 3 2 2 4 1 4 5 3 2 3 4 5 1 3 5 3 2 4 4 4 5 4 2 3 1 5 5 4 1\n",
      " 3 1 1]\n"
     ]
    }
   ],
   "source": [
    "distance[48]"
   ]
  },
  {
   "cell_type": "code",
   "execution_count": null,
   "metadata": {
    "collapsed": true
   },
   "outputs": [],
   "source": []
  }
 ],
 "metadata": {
  "kernelspec": {
   "display_name": "Python [conda root]",
   "language": "python",
   "name": "conda-root-py"
  },
  "language_info": {
   "codemirror_mode": {
    "name": "ipython",
    "version": 2
   },
   "file_extension": ".py",
   "mimetype": "text/x-python",
   "name": "python",
   "nbconvert_exporter": "python",
   "pygments_lexer": "ipython2",
   "version": "2.7.13"
  }
 },
 "nbformat": 4,
 "nbformat_minor": 2
}
