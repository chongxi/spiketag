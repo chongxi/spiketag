{
 "cells": [
  {
   "cell_type": "code",
   "execution_count": 1,
   "metadata": {
    "ExecuteTime": {
     "end_time": "2019-12-10T21:37:22.510093Z",
     "start_time": "2019-12-10T21:37:21.487220Z"
    }
   },
   "outputs": [
    {
     "name": "stdout",
     "output_type": "stream",
     "text": [
      "Populating the interactive namespace from numpy and matplotlib\n"
     ]
    }
   ],
   "source": [
    "%pylab inline"
   ]
  },
  {
   "cell_type": "code",
   "execution_count": 2,
   "metadata": {
    "ExecuteTime": {
     "end_time": "2019-12-10T21:37:22.620110Z",
     "start_time": "2019-12-10T21:37:22.615478Z"
    }
   },
   "outputs": [],
   "source": [
    "%gui qt"
   ]
  },
  {
   "cell_type": "code",
   "execution_count": 3,
   "metadata": {
    "ExecuteTime": {
     "end_time": "2019-12-10T21:37:31.073422Z",
     "start_time": "2019-12-10T21:37:26.674727Z"
    }
   },
   "outputs": [
    {
     "name": "stderr",
     "output_type": "stream",
     "text": [
      "/Users/laic/Work/pydev/smart/vispy/vispy/visuals/line/line.py:392: FutureWarning: Passing (type, 1) or '1type' as a synonym of type is deprecated; in a future version of numpy, it will be understood as (type, (1,)) / '(1,)type'.\n",
      "  ('color', np.float32, 4)])\n",
      "/Users/laic/Work/pydev/smart/vispy/vispy/visuals/line/arrow.py:55: FutureWarning: Passing (type, 1) or '1type' as a synonym of type is deprecated; in a future version of numpy, it will be understood as (type, (1,)) / '(1,)type'.\n",
      "  ('linewidth', np.float32, 1)\n",
      "/Users/laic/opt/anaconda3/lib/python3.7/site-packages/statsmodels/tools/_testing.py:19: FutureWarning: pandas.util.testing is deprecated. Use the functions in the public API at pandas.testing instead.\n",
      "  import pandas.util.testing as tm\n"
     ]
    }
   ],
   "source": [
    "import numpy as np\n",
    "from spiketag.base import probe\n",
    "from spiketag.view import probe_view"
   ]
  },
  {
   "cell_type": "code",
   "execution_count": 4,
   "metadata": {
    "ExecuteTime": {
     "end_time": "2019-11-12T20:08:10.483226Z",
     "start_time": "2019-11-12T20:08:10.455400Z"
    }
   },
   "outputs": [],
   "source": [
    "prb_bowtie_LL = probe(shank_no=6, prb_type='bow_tie')\n",
    "\n",
    "prb_bowtie_LL.shanks[0].l = [59,60,10,58,12,11,57,56]\n",
    "prb_bowtie_LL.shanks[0].r = [5,52,3,54,53,4,13,2,55]\n",
    "prb_bowtie_LL.shanks[0].xl = -100.\n",
    "prb_bowtie_LL.shanks[0].yl = 20\n",
    "prb_bowtie_LL.shanks[0].xr = -80.\n",
    "prb_bowtie_LL.shanks[0].yr = 5\n",
    "\n",
    "prb_bowtie_LL.shanks[1].l = [15,63,48,47,0,61,9,14,62,6]\n",
    "prb_bowtie_LL.shanks[1].r = [8, 1,51,50,18,34,31,25,33,17,22,49]\n",
    "prb_bowtie_LL.shanks[1].xl = -10.\n",
    "prb_bowtie_LL.shanks[1].yl = 15\n",
    "prb_bowtie_LL.shanks[1].xr = 10.\n",
    "prb_bowtie_LL.shanks[1].yr = 0 \n",
    "\n",
    "prb_bowtie_LL.shanks[2].l = [39,38,20,45,44,24,7,32,16,23,46,30]\n",
    "prb_bowtie_LL.shanks[2].r = [19,37,21,35,36,26,29,40,27,42,41,28,43]\n",
    "prb_bowtie_LL.shanks[2].xl = 80.\n",
    "prb_bowtie_LL.shanks[2].yl = 10 \n",
    "prb_bowtie_LL.shanks[2].xr = 100.\n",
    "prb_bowtie_LL.shanks[2].yr = -5\n",
    "\n",
    "prb_bowtie_LL.shanks[3].l = [123,124,74,122,76,75,121,120]\n",
    "prb_bowtie_LL.shanks[3].r = [69,116,67,118,117,68,77,66,119]\n",
    "prb_bowtie_LL.shanks[3].xl = 350\n",
    "prb_bowtie_LL.shanks[3].yl = 10\n",
    "prb_bowtie_LL.shanks[3].xr = 370.\n",
    "prb_bowtie_LL.shanks[3].yr = -5\n",
    "\n",
    "prb_bowtie_LL.shanks[4].l = [79,127,112,111,64,125,73,78,126,70]\n",
    "prb_bowtie_LL.shanks[4].r = [72,65,115,114,82,98,95,89,97,81,86,113]\n",
    "prb_bowtie_LL.shanks[4].xl = 260.\n",
    "prb_bowtie_LL.shanks[4].yl = 15\n",
    "prb_bowtie_LL.shanks[4].xr = 280.\n",
    "prb_bowtie_LL.shanks[4].yr = 0 \n",
    "\n",
    "prb_bowtie_LL.shanks[5].l = [103,102,84,109,108,88,71,96,80,87,110,94]\n",
    "prb_bowtie_LL.shanks[5].r = [83,101,85,99,100,90,93,104,91,106,105,92,107]\n",
    "prb_bowtie_LL.shanks[5].xl = 170.\n",
    "prb_bowtie_LL.shanks[5].yl = 20\n",
    "prb_bowtie_LL.shanks[5].xr = 190.\n",
    "prb_bowtie_LL.shanks[5].yr = 5"
   ]
  },
  {
   "cell_type": "code",
   "execution_count": 5,
   "metadata": {
    "ExecuteTime": {
     "end_time": "2019-11-12T20:08:10.569248Z",
     "start_time": "2019-11-12T20:08:10.530706Z"
    }
   },
   "outputs": [
    {
     "data": {
      "text/plain": [
       "OrderedDict([(59, array([-100.,   20.])),\n",
       "             (60, array([-100.,   30.])),\n",
       "             (10, array([-100.,   40.])),\n",
       "             (58, array([-100.,   50.])),\n",
       "             (12, array([-100.,   60.])),\n",
       "             (11, array([-100.,   70.])),\n",
       "             (57, array([-100.,   80.])),\n",
       "             (56, array([-100.,   90.])),\n",
       "             (5, array([-80.,   5.])),\n",
       "             (52, array([-80.,  15.])),\n",
       "             (3, array([-80.,  25.])),\n",
       "             (54, array([-80.,  35.])),\n",
       "             (53, array([-80.,  45.])),\n",
       "             (4, array([-80.,  55.])),\n",
       "             (13, array([-80.,  65.])),\n",
       "             (2, array([-80.,  75.])),\n",
       "             (55, array([-80.,  85.])),\n",
       "             (15, array([-10.,  15.])),\n",
       "             (63, array([-10.,  25.])),\n",
       "             (48, array([-10.,  35.])),\n",
       "             (47, array([-10.,  45.])),\n",
       "             (0, array([-10.,  55.])),\n",
       "             (61, array([-10.,  65.])),\n",
       "             (9, array([-10.,  75.])),\n",
       "             (14, array([-10.,  85.])),\n",
       "             (62, array([-10.,  95.])),\n",
       "             (6, array([-10., 105.])),\n",
       "             (8, array([10.,  0.])),\n",
       "             (1, array([10., 10.])),\n",
       "             (51, array([10., 20.])),\n",
       "             (50, array([10., 30.])),\n",
       "             (18, array([10., 40.])),\n",
       "             (34, array([10., 50.])),\n",
       "             (31, array([10., 60.])),\n",
       "             (25, array([10., 70.])),\n",
       "             (33, array([10., 80.])),\n",
       "             (17, array([10., 90.])),\n",
       "             (22, array([ 10., 100.])),\n",
       "             (49, array([ 10., 110.])),\n",
       "             (39, array([80., 10.])),\n",
       "             (38, array([80., 20.])),\n",
       "             (20, array([80., 30.])),\n",
       "             (45, array([80., 40.])),\n",
       "             (44, array([80., 50.])),\n",
       "             (24, array([80., 60.])),\n",
       "             (7, array([80., 70.])),\n",
       "             (32, array([80., 80.])),\n",
       "             (16, array([80., 90.])),\n",
       "             (23, array([ 80., 100.])),\n",
       "             (46, array([ 80., 110.])),\n",
       "             (30, array([ 80., 120.])),\n",
       "             (19, array([100.,  -5.])),\n",
       "             (37, array([100.,   5.])),\n",
       "             (21, array([100.,  15.])),\n",
       "             (35, array([100.,  25.])),\n",
       "             (36, array([100.,  35.])),\n",
       "             (26, array([100.,  45.])),\n",
       "             (29, array([100.,  55.])),\n",
       "             (40, array([100.,  65.])),\n",
       "             (27, array([100.,  75.])),\n",
       "             (42, array([100.,  85.])),\n",
       "             (41, array([100.,  95.])),\n",
       "             (28, array([100., 105.])),\n",
       "             (43, array([100., 115.])),\n",
       "             (123, array([350,  10])),\n",
       "             (124, array([350,  20])),\n",
       "             (74, array([350,  30])),\n",
       "             (122, array([350,  40])),\n",
       "             (76, array([350,  50])),\n",
       "             (75, array([350,  60])),\n",
       "             (121, array([350,  70])),\n",
       "             (120, array([350,  80])),\n",
       "             (69, array([370.,  -5.])),\n",
       "             (116, array([370.,   5.])),\n",
       "             (67, array([370.,  15.])),\n",
       "             (118, array([370.,  25.])),\n",
       "             (117, array([370.,  35.])),\n",
       "             (68, array([370.,  45.])),\n",
       "             (77, array([370.,  55.])),\n",
       "             (66, array([370.,  65.])),\n",
       "             (119, array([370.,  75.])),\n",
       "             (79, array([260.,  15.])),\n",
       "             (127, array([260.,  25.])),\n",
       "             (112, array([260.,  35.])),\n",
       "             (111, array([260.,  45.])),\n",
       "             (64, array([260.,  55.])),\n",
       "             (125, array([260.,  65.])),\n",
       "             (73, array([260.,  75.])),\n",
       "             (78, array([260.,  85.])),\n",
       "             (126, array([260.,  95.])),\n",
       "             (70, array([260., 105.])),\n",
       "             (72, array([280.,   0.])),\n",
       "             (65, array([280.,  10.])),\n",
       "             (115, array([280.,  20.])),\n",
       "             (114, array([280.,  30.])),\n",
       "             (82, array([280.,  40.])),\n",
       "             (98, array([280.,  50.])),\n",
       "             (95, array([280.,  60.])),\n",
       "             (89, array([280.,  70.])),\n",
       "             (97, array([280.,  80.])),\n",
       "             (81, array([280.,  90.])),\n",
       "             (86, array([280., 100.])),\n",
       "             (113, array([280., 110.])),\n",
       "             (103, array([170.,  20.])),\n",
       "             (102, array([170.,  30.])),\n",
       "             (84, array([170.,  40.])),\n",
       "             (109, array([170.,  50.])),\n",
       "             (108, array([170.,  60.])),\n",
       "             (88, array([170.,  70.])),\n",
       "             (71, array([170.,  80.])),\n",
       "             (96, array([170.,  90.])),\n",
       "             (80, array([170., 100.])),\n",
       "             (87, array([170., 110.])),\n",
       "             (110, array([170., 120.])),\n",
       "             (94, array([170., 130.])),\n",
       "             (83, array([190.,   5.])),\n",
       "             (101, array([190.,  15.])),\n",
       "             (85, array([190.,  25.])),\n",
       "             (99, array([190.,  35.])),\n",
       "             (100, array([190.,  45.])),\n",
       "             (90, array([190.,  55.])),\n",
       "             (93, array([190.,  65.])),\n",
       "             (104, array([190.,  75.])),\n",
       "             (91, array([190.,  85.])),\n",
       "             (106, array([190.,  95.])),\n",
       "             (105, array([190., 105.])),\n",
       "             (92, array([190., 115.])),\n",
       "             (107, array([190., 125.]))])"
      ]
     },
     "execution_count": 5,
     "metadata": {},
     "output_type": "execute_result"
    }
   ],
   "source": [
    "prb_bowtie_LL.auto_pos()\n",
    "prb_bowtie_LL.mapping"
   ]
  },
  {
   "cell_type": "code",
   "execution_count": 6,
   "metadata": {
    "ExecuteTime": {
     "end_time": "2019-11-12T20:08:10.598023Z",
     "start_time": "2019-11-12T20:08:10.571327Z"
    }
   },
   "outputs": [],
   "source": [
    "prb_bowtie_LL.mapping[5]  += np.array([-10,2])\n",
    "prb_bowtie_LL.mapping[52] += np.array([-2, 0])\n",
    "prb_bowtie_LL.mapping[8]  += np.array([-10,2])\n",
    "prb_bowtie_LL.mapping[1]  += np.array([-2, 0])\n",
    "prb_bowtie_LL.mapping[19] += np.array([-10,2])\n",
    "prb_bowtie_LL.mapping[37] += np.array([-2, 0])\n",
    "prb_bowtie_LL.mapping[69]  += np.array([-10,2])\n",
    "prb_bowtie_LL.mapping[116] += np.array([-2, 0])\n",
    "prb_bowtie_LL.mapping[72]  += np.array([-10,2])\n",
    "prb_bowtie_LL.mapping[65]  += np.array([-2, 0])\n",
    "prb_bowtie_LL.mapping[83] += np.array([-10,2])\n",
    "prb_bowtie_LL.mapping[101] += np.array([-2, 0])\n",
    "\n",
    "prb_bowtie_LL[0] = np.array([59,  5, 52,  3])\n",
    "prb_bowtie_LL[1] = np.array([60, 10, 54, 53])\n",
    "prb_bowtie_LL[2] = np.array([58, 12,  4, 13])\n",
    "prb_bowtie_LL[3] = np.array([11, 57,  2, 55])\n",
    "\n",
    "prb_bowtie_LL[4] = np.array([15,  8,  1, 51])\n",
    "prb_bowtie_LL[5] = np.array([63, 48, 50, 18])\n",
    "prb_bowtie_LL[6] = np.array([47,  0, 34, 31])\n",
    "prb_bowtie_LL[7] = np.array([61,  9, 25, 33])\n",
    "prb_bowtie_LL[8] = np.array([14, 62, 22, 17])\n",
    "\n",
    "prb_bowtie_LL[9]  = np.array([39, 19, 37, 21])\n",
    "prb_bowtie_LL[10] = np.array([38, 20, 35, 36])\n",
    "prb_bowtie_LL[11] = np.array([45, 44, 26, 29])\n",
    "prb_bowtie_LL[12] = np.array([24,  7, 40, 27])\n",
    "prb_bowtie_LL[13] = np.array([32, 16, 42, 41])\n",
    "prb_bowtie_LL[14] = np.array([23, 46, 28, 43])\n",
    "\n",
    "for prb_id_LL in range(15):\n",
    "    prb_bowtie_LL[prb_id_LL+15] = prb_bowtie_LL[prb_id_LL] + 64\n",
    "# prb_bowtie_LL.n_ch = 160"
   ]
  },
  {
   "cell_type": "code",
   "execution_count": 7,
   "metadata": {
    "ExecuteTime": {
     "end_time": "2019-11-12T20:08:11.203135Z",
     "start_time": "2019-11-12T20:08:11.199105Z"
    }
   },
   "outputs": [],
   "source": [
    "prb = prb_bowtie_LL"
   ]
  },
  {
   "cell_type": "code",
   "execution_count": 8,
   "metadata": {
    "ExecuteTime": {
     "end_time": "2019-11-12T19:43:22.227283Z",
     "start_time": "2019-11-12T19:43:21.942753Z"
    }
   },
   "outputs": [],
   "source": [
    "prb.show()"
   ]
  },
  {
   "cell_type": "code",
   "execution_count": null,
   "metadata": {},
   "outputs": [],
   "source": []
  },
  {
   "cell_type": "code",
   "execution_count": null,
   "metadata": {},
   "outputs": [],
   "source": []
  },
  {
   "cell_type": "markdown",
   "metadata": {},
   "source": [
    "## one shank v1"
   ]
  },
  {
   "cell_type": "code",
   "execution_count": 36,
   "metadata": {
    "ExecuteTime": {
     "end_time": "2019-12-10T21:44:40.395234Z",
     "start_time": "2019-12-10T21:44:40.392014Z"
    }
   },
   "outputs": [],
   "source": [
    "prb_v1 = probe(shank_no=1, prb_type='bow_tie')"
   ]
  },
  {
   "cell_type": "code",
   "execution_count": 37,
   "metadata": {
    "ExecuteTime": {
     "end_time": "2019-12-10T21:44:56.697282Z",
     "start_time": "2019-12-10T21:44:56.691420Z"
    }
   },
   "outputs": [],
   "source": [
    "elecNo = np.array([16,17,18,19,21,20,23,22,25,24,27,26,29,28,31,30,47,46,45,44,42,43,40,41,38,39,36,37,34,35,32,33,62,63,60,61,58,59,56,57,54,55,52,53,51,50,49,48,1,0,3,2,5,4,7,6,9,8,11,10,12,13,14,15])"
   ]
  },
  {
   "cell_type": "code",
   "execution_count": 38,
   "metadata": {
    "ExecuteTime": {
     "end_time": "2019-12-10T21:45:17.787950Z",
     "start_time": "2019-12-10T21:45:07.784061Z"
    }
   },
   "outputs": [],
   "source": [
    "# prb_v1.shanks[0].l = np.array([30,31,28,29,26,27,24,25,22,23,20,21,19,18,17,16,33,32,35,34,37,36,39,38,41,40,43,42,44,45,46,47])\n",
    "prb_v1.shanks[0].l = elecNo\n",
    "prb_v1.shanks[0].xl = -50.\n",
    "prb_v1.shanks[0].yl = 20"
   ]
  },
  {
   "cell_type": "code",
   "execution_count": 39,
   "metadata": {
    "ExecuteTime": {
     "end_time": "2019-12-10T21:45:30.458515Z",
     "start_time": "2019-12-10T21:45:20.453280Z"
    }
   },
   "outputs": [],
   "source": [
    "prb_v1.shanks[0].r = elecNo + 64\n",
    "prb_v1.shanks[0].xr = 50.\n",
    "prb_v1.shanks[0].yr = 20"
   ]
  },
  {
   "cell_type": "code",
   "execution_count": 40,
   "metadata": {
    "ExecuteTime": {
     "end_time": "2019-12-10T21:45:32.881263Z",
     "start_time": "2019-12-10T21:45:31.675793Z"
    }
   },
   "outputs": [],
   "source": [
    "prb_v1.auto_pos()"
   ]
  },
  {
   "cell_type": "code",
   "execution_count": 41,
   "metadata": {
    "ExecuteTime": {
     "end_time": "2019-12-10T21:45:42.917665Z",
     "start_time": "2019-12-10T21:45:32.885157Z"
    },
    "scrolled": true
   },
   "outputs": [
    {
     "data": {
      "text/plain": [
       "OrderedDict([(16, array([-50.,  20.])),\n",
       "             (17, array([-50.,  30.])),\n",
       "             (18, array([-50.,  40.])),\n",
       "             (19, array([-50.,  50.])),\n",
       "             (21, array([-50.,  60.])),\n",
       "             (20, array([-50.,  70.])),\n",
       "             (23, array([-50.,  80.])),\n",
       "             (22, array([-50.,  90.])),\n",
       "             (25, array([-50., 100.])),\n",
       "             (24, array([-50., 110.])),\n",
       "             (27, array([-50., 120.])),\n",
       "             (26, array([-50., 130.])),\n",
       "             (29, array([-50., 140.])),\n",
       "             (28, array([-50., 150.])),\n",
       "             (31, array([-50., 160.])),\n",
       "             (30, array([-50., 170.])),\n",
       "             (47, array([-50., 180.])),\n",
       "             (46, array([-50., 190.])),\n",
       "             (45, array([-50., 200.])),\n",
       "             (44, array([-50., 210.])),\n",
       "             (42, array([-50., 220.])),\n",
       "             (43, array([-50., 230.])),\n",
       "             (40, array([-50., 240.])),\n",
       "             (41, array([-50., 250.])),\n",
       "             (38, array([-50., 260.])),\n",
       "             (39, array([-50., 270.])),\n",
       "             (36, array([-50., 280.])),\n",
       "             (37, array([-50., 290.])),\n",
       "             (34, array([-50., 300.])),\n",
       "             (35, array([-50., 310.])),\n",
       "             (32, array([-50., 320.])),\n",
       "             (33, array([-50., 330.])),\n",
       "             (62, array([-50., 340.])),\n",
       "             (63, array([-50., 350.])),\n",
       "             (60, array([-50., 360.])),\n",
       "             (61, array([-50., 370.])),\n",
       "             (58, array([-50., 380.])),\n",
       "             (59, array([-50., 390.])),\n",
       "             (56, array([-50., 400.])),\n",
       "             (57, array([-50., 410.])),\n",
       "             (54, array([-50., 420.])),\n",
       "             (55, array([-50., 430.])),\n",
       "             (52, array([-50., 440.])),\n",
       "             (53, array([-50., 450.])),\n",
       "             (51, array([-50., 460.])),\n",
       "             (50, array([-50., 470.])),\n",
       "             (49, array([-50., 480.])),\n",
       "             (48, array([-50., 490.])),\n",
       "             (1, array([-50., 500.])),\n",
       "             (0, array([-50., 510.])),\n",
       "             (3, array([-50., 520.])),\n",
       "             (2, array([-50., 530.])),\n",
       "             (5, array([-50., 540.])),\n",
       "             (4, array([-50., 550.])),\n",
       "             (7, array([-50., 560.])),\n",
       "             (6, array([-50., 570.])),\n",
       "             (9, array([-50., 580.])),\n",
       "             (8, array([-50., 590.])),\n",
       "             (11, array([-50., 600.])),\n",
       "             (10, array([-50., 610.])),\n",
       "             (12, array([-50., 620.])),\n",
       "             (13, array([-50., 630.])),\n",
       "             (14, array([-50., 640.])),\n",
       "             (15, array([-50., 650.])),\n",
       "             (80, array([50., 20.])),\n",
       "             (81, array([50., 30.])),\n",
       "             (82, array([50., 40.])),\n",
       "             (83, array([50., 50.])),\n",
       "             (85, array([50., 60.])),\n",
       "             (84, array([50., 70.])),\n",
       "             (87, array([50., 80.])),\n",
       "             (86, array([50., 90.])),\n",
       "             (89, array([ 50., 100.])),\n",
       "             (88, array([ 50., 110.])),\n",
       "             (91, array([ 50., 120.])),\n",
       "             (90, array([ 50., 130.])),\n",
       "             (93, array([ 50., 140.])),\n",
       "             (92, array([ 50., 150.])),\n",
       "             (95, array([ 50., 160.])),\n",
       "             (94, array([ 50., 170.])),\n",
       "             (111, array([ 50., 180.])),\n",
       "             (110, array([ 50., 190.])),\n",
       "             (109, array([ 50., 200.])),\n",
       "             (108, array([ 50., 210.])),\n",
       "             (106, array([ 50., 220.])),\n",
       "             (107, array([ 50., 230.])),\n",
       "             (104, array([ 50., 240.])),\n",
       "             (105, array([ 50., 250.])),\n",
       "             (102, array([ 50., 260.])),\n",
       "             (103, array([ 50., 270.])),\n",
       "             (100, array([ 50., 280.])),\n",
       "             (101, array([ 50., 290.])),\n",
       "             (98, array([ 50., 300.])),\n",
       "             (99, array([ 50., 310.])),\n",
       "             (96, array([ 50., 320.])),\n",
       "             (97, array([ 50., 330.])),\n",
       "             (126, array([ 50., 340.])),\n",
       "             (127, array([ 50., 350.])),\n",
       "             (124, array([ 50., 360.])),\n",
       "             (125, array([ 50., 370.])),\n",
       "             (122, array([ 50., 380.])),\n",
       "             (123, array([ 50., 390.])),\n",
       "             (120, array([ 50., 400.])),\n",
       "             (121, array([ 50., 410.])),\n",
       "             (118, array([ 50., 420.])),\n",
       "             (119, array([ 50., 430.])),\n",
       "             (116, array([ 50., 440.])),\n",
       "             (117, array([ 50., 450.])),\n",
       "             (115, array([ 50., 460.])),\n",
       "             (114, array([ 50., 470.])),\n",
       "             (113, array([ 50., 480.])),\n",
       "             (112, array([ 50., 490.])),\n",
       "             (65, array([ 50., 500.])),\n",
       "             (64, array([ 50., 510.])),\n",
       "             (67, array([ 50., 520.])),\n",
       "             (66, array([ 50., 530.])),\n",
       "             (69, array([ 50., 540.])),\n",
       "             (68, array([ 50., 550.])),\n",
       "             (71, array([ 50., 560.])),\n",
       "             (70, array([ 50., 570.])),\n",
       "             (73, array([ 50., 580.])),\n",
       "             (72, array([ 50., 590.])),\n",
       "             (75, array([ 50., 600.])),\n",
       "             (74, array([ 50., 610.])),\n",
       "             (76, array([ 50., 620.])),\n",
       "             (77, array([ 50., 630.])),\n",
       "             (78, array([ 50., 640.])),\n",
       "             (79, array([ 50., 650.]))])"
      ]
     },
     "execution_count": 41,
     "metadata": {},
     "output_type": "execute_result"
    }
   ],
   "source": [
    "prb_v1.mapping"
   ]
  },
  {
   "cell_type": "code",
   "execution_count": 42,
   "metadata": {
    "ExecuteTime": {
     "end_time": "2019-12-10T21:45:50.385220Z",
     "start_time": "2019-12-10T21:45:42.922542Z"
    }
   },
   "outputs": [],
   "source": [
    "for i, tetrode in enumerate(prb_v1.shanks[0].l.reshape(-1,4)):\n",
    "    prb_v1[i] = tetrode\n",
    "for j, tetrode in enumerate(prb_v1.shanks[0].r.reshape(-1,4)):\n",
    "    prb_v1[i+j+1] = tetrode"
   ]
  },
  {
   "cell_type": "code",
   "execution_count": 43,
   "metadata": {
    "ExecuteTime": {
     "end_time": "2019-12-10T21:45:53.297727Z",
     "start_time": "2019-12-10T21:45:50.397199Z"
    }
   },
   "outputs": [
    {
     "data": {
      "text/plain": [
       "128"
      ]
     },
     "execution_count": 43,
     "metadata": {},
     "output_type": "execute_result"
    }
   ],
   "source": [
    "np.unique(prb_v1.chs).shape[0]"
   ]
  },
  {
   "cell_type": "code",
   "execution_count": 12,
   "metadata": {
    "ExecuteTime": {
     "end_time": "2019-12-10T21:45:53.697220Z",
     "start_time": "2019-12-10T21:45:53.306411Z"
    }
   },
   "outputs": [
    {
     "name": "stderr",
     "output_type": "stream",
     "text": [
      "/Users/laic/Work/pydev/smart/vispy/vispy/visuals/markers.py:563: FutureWarning: Passing (type, 1) or '1type' as a synonym of type is deprecated; in a future version of numpy, it will be understood as (type, (1,)) / '(1,)type'.\n",
      "  ('a_edgewidth', np.float32, 1)])\n",
      "/Users/laic/opt/anaconda3/lib/python3.7/site-packages/IPython/config.py:13: ShimWarning: The `IPython.config` package has been deprecated since IPython 4.0. You should import from traitlets.config instead.\n",
      "  \"You should import from traitlets.config instead.\", ShimWarning)\n"
     ]
    }
   ],
   "source": [
    "prb_v1.show()"
   ]
  },
  {
   "cell_type": "code",
   "execution_count": 18,
   "metadata": {
    "ExecuteTime": {
     "end_time": "2019-12-10T21:43:59.745972Z",
     "start_time": "2019-12-10T21:43:59.742881Z"
    }
   },
   "outputs": [],
   "source": [
    "prb_v1.prb_view.select(1)"
   ]
  },
  {
   "cell_type": "code",
   "execution_count": 30,
   "metadata": {
    "ExecuteTime": {
     "end_time": "2019-12-10T21:47:11.808466Z",
     "start_time": "2019-12-10T21:47:11.800870Z"
    }
   },
   "outputs": [],
   "source": [
    "prb_v1.save('./prb_v1.prb')"
   ]
  },
  {
   "cell_type": "code",
   "execution_count": 19,
   "metadata": {
    "ExecuteTime": {
     "end_time": "2019-01-16T23:06:25.751831Z",
     "start_time": "2019-01-16T23:06:25.736339Z"
    }
   },
   "outputs": [
    {
     "data": {
      "text/plain": [
       "0:[ 3  5 52 59]\n",
       "1:[10 53 54 60]\n",
       "2:[ 4 12 13 58]\n",
       "3:[ 2 11 55 57]\n",
       "4:[ 1  8 15 51]\n",
       "5:[18 48 50 63]\n",
       "6:[ 0 31 34 47]\n",
       "7:[ 9 25 33 61]\n",
       "8:[14 17 22 62]\n",
       "9:[19 21 37 39]\n",
       "10:[20 35 36 38]\n",
       "11:[26 29 44 45]\n",
       "12:[ 7 24 27 40]\n",
       "13:[16 32 41 42]\n",
       "14:[23 28 43 46]\n",
       "15:[ 67  69 116 123]\n",
       "16:[ 74 117 118 124]\n",
       "17:[ 68  76  77 122]\n",
       "18:[ 66  75 119 121]\n",
       "19:[ 65  72  79 115]\n",
       "20:[ 82 112 114 127]\n",
       "21:[ 64  95  98 111]\n",
       "22:[ 73  89  97 125]\n",
       "23:[ 78  81  86 126]\n",
       "24:[ 83  85 101 103]\n",
       "25:[ 84  99 100 102]\n",
       "26:[ 90  93 108 109]\n",
       "27:[ 71  88  91 104]\n",
       "28:[ 80  96 105 106]\n",
       "29:[ 87  92 107 110]"
      ]
     },
     "execution_count": 19,
     "metadata": {},
     "output_type": "execute_result"
    }
   ],
   "source": [
    "prb"
   ]
  },
  {
   "cell_type": "code",
   "execution_count": 16,
   "metadata": {
    "ExecuteTime": {
     "end_time": "2019-01-16T23:02:54.658698Z",
     "start_time": "2019-01-16T23:02:54.647083Z"
    }
   },
   "outputs": [
    {
     "data": {
      "text/plain": [
       "30"
      ]
     },
     "execution_count": 16,
     "metadata": {},
     "output_type": "execute_result"
    }
   ],
   "source": [
    "len(prb.grp_dict.keys())"
   ]
  },
  {
   "cell_type": "code",
   "execution_count": 13,
   "metadata": {
    "ExecuteTime": {
     "end_time": "2019-01-16T23:00:15.970254Z",
     "start_time": "2019-01-16T23:00:15.957761Z"
    }
   },
   "outputs": [
    {
     "data": {
      "text/plain": [
       "array([  0,   1,   2,   3,   4,   5,   6,   7,   8,   9,  10,  11,  12,\n",
       "        13,  14,  15,  16,  17,  18,  19,  20,  21,  22,  23,  24,  25,\n",
       "        26,  27,  28,  29,  30,  31,  32,  33,  34,  35,  36,  37,  38,\n",
       "        39,  40,  41,  42,  43,  44,  45,  46,  47,  48,  49,  50,  51,\n",
       "        52,  53,  54,  55,  56,  57,  58,  59,  60,  61,  62,  63,  64,\n",
       "        65,  66,  67,  68,  69,  70,  71,  72,  73,  74,  75,  76,  77,\n",
       "        78,  79,  80,  81,  82,  83,  84,  85,  86,  87,  88,  89,  90,\n",
       "        91,  92,  93,  94,  95,  96,  97,  98,  99, 100, 101, 102, 103,\n",
       "       104, 105, 106, 107, 108, 109, 110, 111, 112, 113, 114, 115, 116,\n",
       "       117, 118, 119, 120, 121, 122, 123, 124, 125, 126, 127])"
      ]
     },
     "execution_count": 13,
     "metadata": {},
     "output_type": "execute_result"
    }
   ],
   "source": [
    "np.sort(prb.mapping.keys())"
   ]
  },
  {
   "cell_type": "markdown",
   "metadata": {},
   "source": [
    "## two shank V1"
   ]
  },
  {
   "cell_type": "code",
   "execution_count": 69,
   "metadata": {
    "ExecuteTime": {
     "end_time": "2019-12-10T21:44:40.395234Z",
     "start_time": "2019-12-10T21:44:40.392014Z"
    }
   },
   "outputs": [],
   "source": [
    "prb_v2 = probe(shank_no=2, prb_type='bow_tie')"
   ]
  },
  {
   "cell_type": "code",
   "execution_count": 70,
   "metadata": {
    "ExecuteTime": {
     "end_time": "2019-12-10T21:44:56.697282Z",
     "start_time": "2019-12-10T21:44:56.691420Z"
    }
   },
   "outputs": [],
   "source": [
    "elecNo = np.array([16,17,18,19,21,20,23,22,25,24,27,26,29,28,31,30,47,46,45,44,42,43,40,41,38,39,36,37,34,35,32,33,\n",
    "                   62,63,60,61,58,59,56,57,54,55,52,53,51,50,49,48,1,0,3,2,5,4,7,6,9,8,11,10,12,13,14,15])"
   ]
  },
  {
   "cell_type": "code",
   "execution_count": 72,
   "metadata": {},
   "outputs": [
    {
     "data": {
      "text/plain": [
       "(64,)"
      ]
     },
     "execution_count": 72,
     "metadata": {},
     "output_type": "execute_result"
    }
   ],
   "source": [
    "elecNo.shape"
   ]
  },
  {
   "cell_type": "code",
   "execution_count": 73,
   "metadata": {},
   "outputs": [
    {
     "data": {
      "text/plain": [
       "array([32, 39, 36, 33, 37, 35, 40, 21, 41, 19, 42, 17, 34, 20, 45, 22, 38,\n",
       "       16, 47, 24, 43, 18, 31, 26, 44, 23, 29, 28, 46, 25, 27, 30])"
      ]
     },
     "execution_count": 73,
     "metadata": {},
     "output_type": "execute_result"
    }
   ],
   "source": [
    "elecNo_l = elecNo[:elecNo.shape[0]//2]\n",
    "elecNo_l"
   ]
  },
  {
   "cell_type": "code",
   "execution_count": 74,
   "metadata": {},
   "outputs": [
    {
     "data": {
      "text/plain": [
       "array([56, 63, 62, 59, 60, 58, 10, 55, 12, 54, 14, 53, 11, 61,  9, 50, 15,\n",
       "       57,  7, 48, 13, 52,  5,  0,  8, 51,  3,  2,  6, 49,  1,  4])"
      ]
     },
     "execution_count": 74,
     "metadata": {},
     "output_type": "execute_result"
    }
   ],
   "source": [
    "elecNo_r = elecNo[elecNo.shape[0]//2:]\n",
    "elecNo_r"
   ]
  },
  {
   "cell_type": "code",
   "execution_count": 75,
   "metadata": {
    "ExecuteTime": {
     "end_time": "2019-12-10T21:45:17.787950Z",
     "start_time": "2019-12-10T21:45:07.784061Z"
    }
   },
   "outputs": [],
   "source": [
    "prb_v2.shanks[0].l = elecNo_l\n",
    "prb_v2.shanks[0].xl = -200.\n",
    "prb_v2.shanks[0].yl = 20"
   ]
  },
  {
   "cell_type": "code",
   "execution_count": 76,
   "metadata": {
    "ExecuteTime": {
     "end_time": "2019-12-10T21:45:30.458515Z",
     "start_time": "2019-12-10T21:45:20.453280Z"
    }
   },
   "outputs": [],
   "source": [
    "prb_v2.shanks[0].r = elecNo_r \n",
    "prb_v2.shanks[0].xr = -100.\n",
    "prb_v2.shanks[0].yr = 20"
   ]
  },
  {
   "cell_type": "code",
   "execution_count": 77,
   "metadata": {
    "ExecuteTime": {
     "end_time": "2019-12-10T21:45:17.787950Z",
     "start_time": "2019-12-10T21:45:07.784061Z"
    }
   },
   "outputs": [],
   "source": [
    "# prb_v1.shanks[0].l = np.array([30,31,28,29,26,27,24,25,22,23,20,21,19,18,17,16,33,32,35,34,37,36,39,38,41,40,43,42,44,45,46,47])\n",
    "prb_v2.shanks[1].l = elecNo_l + 64\n",
    "prb_v2.shanks[1].xl = 100.\n",
    "prb_v2.shanks[1].yl = 20"
   ]
  },
  {
   "cell_type": "code",
   "execution_count": 78,
   "metadata": {
    "ExecuteTime": {
     "end_time": "2019-12-10T21:45:30.458515Z",
     "start_time": "2019-12-10T21:45:20.453280Z"
    }
   },
   "outputs": [],
   "source": [
    "prb_v2.shanks[1].r = elecNo_r + 64\n",
    "prb_v2.shanks[1].xr = 200.\n",
    "prb_v2.shanks[1].yr = 20"
   ]
  },
  {
   "cell_type": "code",
   "execution_count": 79,
   "metadata": {
    "ExecuteTime": {
     "end_time": "2019-12-10T21:45:32.881263Z",
     "start_time": "2019-12-10T21:45:31.675793Z"
    }
   },
   "outputs": [],
   "source": [
    "prb_v2.auto_pos()"
   ]
  },
  {
   "cell_type": "code",
   "execution_count": 80,
   "metadata": {
    "ExecuteTime": {
     "end_time": "2019-12-10T21:45:42.917665Z",
     "start_time": "2019-12-10T21:45:32.885157Z"
    },
    "scrolled": true
   },
   "outputs": [
    {
     "data": {
      "text/plain": [
       "OrderedDict([(32, array([-200.,   20.])),\n",
       "             (39, array([-200.,   30.])),\n",
       "             (36, array([-200.,   40.])),\n",
       "             (33, array([-200.,   50.])),\n",
       "             (37, array([-200.,   60.])),\n",
       "             (35, array([-200.,   70.])),\n",
       "             (40, array([-200.,   80.])),\n",
       "             (21, array([-200.,   90.])),\n",
       "             (41, array([-200.,  100.])),\n",
       "             (19, array([-200.,  110.])),\n",
       "             (42, array([-200.,  120.])),\n",
       "             (17, array([-200.,  130.])),\n",
       "             (34, array([-200.,  140.])),\n",
       "             (20, array([-200.,  150.])),\n",
       "             (45, array([-200.,  160.])),\n",
       "             (22, array([-200.,  170.])),\n",
       "             (38, array([-200.,  180.])),\n",
       "             (16, array([-200.,  190.])),\n",
       "             (47, array([-200.,  200.])),\n",
       "             (24, array([-200.,  210.])),\n",
       "             (43, array([-200.,  220.])),\n",
       "             (18, array([-200.,  230.])),\n",
       "             (31, array([-200.,  240.])),\n",
       "             (26, array([-200.,  250.])),\n",
       "             (44, array([-200.,  260.])),\n",
       "             (23, array([-200.,  270.])),\n",
       "             (29, array([-200.,  280.])),\n",
       "             (28, array([-200.,  290.])),\n",
       "             (46, array([-200.,  300.])),\n",
       "             (25, array([-200.,  310.])),\n",
       "             (27, array([-200.,  320.])),\n",
       "             (30, array([-200.,  330.])),\n",
       "             (56, array([-100.,   20.])),\n",
       "             (63, array([-100.,   30.])),\n",
       "             (62, array([-100.,   40.])),\n",
       "             (59, array([-100.,   50.])),\n",
       "             (60, array([-100.,   60.])),\n",
       "             (58, array([-100.,   70.])),\n",
       "             (10, array([-100.,   80.])),\n",
       "             (55, array([-100.,   90.])),\n",
       "             (12, array([-100.,  100.])),\n",
       "             (54, array([-100.,  110.])),\n",
       "             (14, array([-100.,  120.])),\n",
       "             (53, array([-100.,  130.])),\n",
       "             (11, array([-100.,  140.])),\n",
       "             (61, array([-100.,  150.])),\n",
       "             (9, array([-100.,  160.])),\n",
       "             (50, array([-100.,  170.])),\n",
       "             (15, array([-100.,  180.])),\n",
       "             (57, array([-100.,  190.])),\n",
       "             (7, array([-100.,  200.])),\n",
       "             (48, array([-100.,  210.])),\n",
       "             (13, array([-100.,  220.])),\n",
       "             (52, array([-100.,  230.])),\n",
       "             (5, array([-100.,  240.])),\n",
       "             (0, array([-100.,  250.])),\n",
       "             (8, array([-100.,  260.])),\n",
       "             (51, array([-100.,  270.])),\n",
       "             (3, array([-100.,  280.])),\n",
       "             (2, array([-100.,  290.])),\n",
       "             (6, array([-100.,  300.])),\n",
       "             (49, array([-100.,  310.])),\n",
       "             (1, array([-100.,  320.])),\n",
       "             (4, array([-100.,  330.])),\n",
       "             (96, array([100.,  20.])),\n",
       "             (103, array([100.,  30.])),\n",
       "             (100, array([100.,  40.])),\n",
       "             (97, array([100.,  50.])),\n",
       "             (101, array([100.,  60.])),\n",
       "             (99, array([100.,  70.])),\n",
       "             (104, array([100.,  80.])),\n",
       "             (85, array([100.,  90.])),\n",
       "             (105, array([100., 100.])),\n",
       "             (83, array([100., 110.])),\n",
       "             (106, array([100., 120.])),\n",
       "             (81, array([100., 130.])),\n",
       "             (98, array([100., 140.])),\n",
       "             (84, array([100., 150.])),\n",
       "             (109, array([100., 160.])),\n",
       "             (86, array([100., 170.])),\n",
       "             (102, array([100., 180.])),\n",
       "             (80, array([100., 190.])),\n",
       "             (111, array([100., 200.])),\n",
       "             (88, array([100., 210.])),\n",
       "             (107, array([100., 220.])),\n",
       "             (82, array([100., 230.])),\n",
       "             (95, array([100., 240.])),\n",
       "             (90, array([100., 250.])),\n",
       "             (108, array([100., 260.])),\n",
       "             (87, array([100., 270.])),\n",
       "             (93, array([100., 280.])),\n",
       "             (92, array([100., 290.])),\n",
       "             (110, array([100., 300.])),\n",
       "             (89, array([100., 310.])),\n",
       "             (91, array([100., 320.])),\n",
       "             (94, array([100., 330.])),\n",
       "             (120, array([200.,  20.])),\n",
       "             (127, array([200.,  30.])),\n",
       "             (126, array([200.,  40.])),\n",
       "             (123, array([200.,  50.])),\n",
       "             (124, array([200.,  60.])),\n",
       "             (122, array([200.,  70.])),\n",
       "             (74, array([200.,  80.])),\n",
       "             (119, array([200.,  90.])),\n",
       "             (76, array([200., 100.])),\n",
       "             (118, array([200., 110.])),\n",
       "             (78, array([200., 120.])),\n",
       "             (117, array([200., 130.])),\n",
       "             (75, array([200., 140.])),\n",
       "             (125, array([200., 150.])),\n",
       "             (73, array([200., 160.])),\n",
       "             (114, array([200., 170.])),\n",
       "             (79, array([200., 180.])),\n",
       "             (121, array([200., 190.])),\n",
       "             (71, array([200., 200.])),\n",
       "             (112, array([200., 210.])),\n",
       "             (77, array([200., 220.])),\n",
       "             (116, array([200., 230.])),\n",
       "             (69, array([200., 240.])),\n",
       "             (64, array([200., 250.])),\n",
       "             (72, array([200., 260.])),\n",
       "             (115, array([200., 270.])),\n",
       "             (67, array([200., 280.])),\n",
       "             (66, array([200., 290.])),\n",
       "             (70, array([200., 300.])),\n",
       "             (113, array([200., 310.])),\n",
       "             (65, array([200., 320.])),\n",
       "             (68, array([200., 330.]))])"
      ]
     },
     "execution_count": 80,
     "metadata": {},
     "output_type": "execute_result"
    }
   ],
   "source": [
    "prb_v2.mapping"
   ]
  },
  {
   "cell_type": "code",
   "execution_count": 81,
   "metadata": {},
   "outputs": [
    {
     "data": {
      "text/plain": [
       "array([32, 39, 36, 33, 37, 35, 40, 21, 41, 19, 42, 17, 34, 20, 45, 22, 38,\n",
       "       16, 47, 24, 43, 18, 31, 26, 44, 23, 29, 28, 46, 25, 27, 30])"
      ]
     },
     "execution_count": 81,
     "metadata": {},
     "output_type": "execute_result"
    }
   ],
   "source": [
    "prb_v2.shanks[0].l"
   ]
  },
  {
   "cell_type": "code",
   "execution_count": 86,
   "metadata": {},
   "outputs": [
    {
     "data": {
      "text/plain": [
       "array([56, 63, 62, 59, 60, 58, 10, 55, 12, 54, 14, 53, 11, 61,  9, 50, 15,\n",
       "       57,  7, 48, 13, 52,  5,  0,  8, 51,  3,  2,  6, 49,  1,  4])"
      ]
     },
     "execution_count": 86,
     "metadata": {},
     "output_type": "execute_result"
    }
   ],
   "source": [
    "prb_v2.shanks[0].r"
   ]
  },
  {
   "cell_type": "code",
   "execution_count": 87,
   "metadata": {},
   "outputs": [
    {
     "data": {
      "text/plain": [
       "{0: array([32, 33, 36, 39]),\n",
       " 1: array([21, 35, 37, 40]),\n",
       " 2: array([17, 19, 41, 42]),\n",
       " 3: array([20, 22, 34, 45]),\n",
       " 4: array([16, 24, 38, 47]),\n",
       " 5: array([18, 26, 31, 43]),\n",
       " 6: array([23, 28, 29, 44]),\n",
       " 7: array([25, 27, 30, 46]),\n",
       " 8: array([56, 59, 62, 63]),\n",
       " 9: array([10, 55, 58, 60]),\n",
       " 10: array([12, 14, 53, 54]),\n",
       " 11: array([ 9, 11, 50, 61]),\n",
       " 12: array([ 7, 15, 48, 57]),\n",
       " 13: array([ 0,  5, 13, 52]),\n",
       " 14: array([ 2,  3,  8, 51]),\n",
       " 15: array([ 96,  97, 100, 103]),\n",
       " 16: array([ 85,  99, 101, 104]),\n",
       " 17: array([ 81,  83, 105, 106]),\n",
       " 18: array([ 84,  86,  98, 109]),\n",
       " 19: array([ 80,  88, 102, 111]),\n",
       " 20: array([ 82,  90,  95, 107]),\n",
       " 21: array([ 87,  92,  93, 108]),\n",
       " 22: array([120, 123, 126, 127]),\n",
       " 23: array([ 74, 119, 122, 124]),\n",
       " 24: array([ 76,  78, 117, 118]),\n",
       " 25: array([ 73,  75, 114, 125]),\n",
       " 26: array([ 71,  79, 112, 121]),\n",
       " 27: array([ 64,  69,  77, 116]),\n",
       " 28: array([ 66,  67,  72, 115]),\n",
       " 29: array([ 65,  68,  70, 113])}"
      ]
     },
     "execution_count": 87,
     "metadata": {},
     "output_type": "execute_result"
    }
   ],
   "source": [
    "prb_v2.grp_dict"
   ]
  },
  {
   "cell_type": "code",
   "execution_count": 88,
   "metadata": {},
   "outputs": [
    {
     "data": {
      "text/plain": [
       "array([[56, 63, 62, 59],\n",
       "       [60, 58, 10, 55],\n",
       "       [12, 54, 14, 53],\n",
       "       [11, 61,  9, 50],\n",
       "       [15, 57,  7, 48],\n",
       "       [13, 52,  5,  0],\n",
       "       [ 8, 51,  3,  2],\n",
       "       [ 6, 49,  1,  4]])"
      ]
     },
     "execution_count": 88,
     "metadata": {},
     "output_type": "execute_result"
    }
   ],
   "source": [
    "prb_v2.shanks[0].r.reshape(-1,4)"
   ]
  },
  {
   "cell_type": "code",
   "execution_count": 89,
   "metadata": {},
   "outputs": [],
   "source": [
    "for i, tetrode in enumerate(prb_v2.shanks[0].l.reshape(-1,4)):\n",
    "    prb_v2[i] = tetrode\n",
    "for j, tetrode in enumerate(prb_v2.shanks[0].r.reshape(-1,4)):\n",
    "    prb_v2[i+j+1] = tetrode\n",
    "for k, tetrode in enumerate(prb_v2.shanks[1].l.reshape(-1,4)):\n",
    "    prb_v2[i+j+k+2] = tetrode\n",
    "for l, tetrode in enumerate(prb_v2.shanks[1].r.reshape(-1,4)):\n",
    "    prb_v2[i+j+k+l+3] = tetrode"
   ]
  },
  {
   "cell_type": "code",
   "execution_count": 90,
   "metadata": {
    "ExecuteTime": {
     "end_time": "2019-12-10T21:45:53.297727Z",
     "start_time": "2019-12-10T21:45:50.397199Z"
    }
   },
   "outputs": [
    {
     "data": {
      "text/plain": [
       "128"
      ]
     },
     "execution_count": 90,
     "metadata": {},
     "output_type": "execute_result"
    }
   ],
   "source": [
    "np.unique(prb_v2.chs).shape[0]"
   ]
  },
  {
   "cell_type": "code",
   "execution_count": 92,
   "metadata": {},
   "outputs": [
    {
     "data": {
      "text/plain": [
       "0:[32 33 36 39]\n",
       "1:[21 35 37 40]\n",
       "2:[17 19 41 42]\n",
       "3:[20 22 34 45]\n",
       "4:[16 24 38 47]\n",
       "5:[18 26 31 43]\n",
       "6:[23 28 29 44]\n",
       "7:[25 27 30 46]\n",
       "8:[56 59 62 63]\n",
       "9:[10 55 58 60]\n",
       "10:[12 14 53 54]\n",
       "11:[ 9 11 50 61]\n",
       "12:[ 7 15 48 57]\n",
       "13:[ 0  5 13 52]\n",
       "14:[ 2  3  8 51]\n",
       "15:[ 1  4  6 49]\n",
       "16:[ 96  97 100 103]\n",
       "17:[ 85  99 101 104]\n",
       "18:[ 81  83 105 106]\n",
       "19:[ 84  86  98 109]\n",
       "20:[ 80  88 102 111]\n",
       "21:[ 82  90  95 107]\n",
       "22:[ 87  92  93 108]\n",
       "23:[ 89  91  94 110]\n",
       "24:[120 123 126 127]\n",
       "25:[ 74 119 122 124]\n",
       "26:[ 76  78 117 118]\n",
       "27:[ 73  75 114 125]\n",
       "28:[ 71  79 112 121]\n",
       "29:[ 64  69  77 116]\n",
       "30:[ 66  67  72 115]\n",
       "31:[ 65  68  70 113]"
      ]
     },
     "execution_count": 92,
     "metadata": {},
     "output_type": "execute_result"
    }
   ],
   "source": [
    "prb_v2"
   ]
  },
  {
   "cell_type": "code",
   "execution_count": 93,
   "metadata": {
    "ExecuteTime": {
     "end_time": "2019-12-10T21:45:53.697220Z",
     "start_time": "2019-12-10T21:45:53.306411Z"
    }
   },
   "outputs": [
    {
     "name": "stderr",
     "output_type": "stream",
     "text": [
      "/Users/laic/Work/pydev/smart/vispy/vispy/visuals/markers.py:563: FutureWarning: Passing (type, 1) or '1type' as a synonym of type is deprecated; in a future version of numpy, it will be understood as (type, (1,)) / '(1,)type'.\n",
      "  ('a_edgewidth', np.float32, 1)])\n"
     ]
    }
   ],
   "source": [
    "prb_v2.show()"
   ]
  },
  {
   "cell_type": "code",
   "execution_count": 94,
   "metadata": {},
   "outputs": [],
   "source": [
    "prb_v2.save('./prb_v2.prb')"
   ]
  },
  {
   "cell_type": "code",
   "execution_count": 96,
   "metadata": {},
   "outputs": [
    {
     "data": {
      "text/plain": [
       "(128,)"
      ]
     },
     "execution_count": 96,
     "metadata": {},
     "output_type": "execute_result"
    }
   ],
   "source": [
    "prb_v2.chs.shape"
   ]
  },
  {
   "cell_type": "markdown",
   "metadata": {},
   "source": [
    "## two shank V3"
   ]
  },
  {
   "cell_type": "code",
   "execution_count": 113,
   "metadata": {
    "ExecuteTime": {
     "end_time": "2019-12-10T21:44:40.395234Z",
     "start_time": "2019-12-10T21:44:40.392014Z"
    }
   },
   "outputs": [],
   "source": [
    "prb_v3 = probe(shank_no=2, prb_type='bow_tie')"
   ]
  },
  {
   "cell_type": "code",
   "execution_count": 114,
   "metadata": {},
   "outputs": [],
   "source": [
    "elecNo = np.array([32, 39, 36, 33, 37, 35, 40, 21, 41, 19, 42, 17, 34, 20, 45, 22, 38,\n",
    "                   16, 47, 24, 43, 18, 31, 26, 44, 23, 29, 28, 46, 25, 27, 30, 56, 63,\n",
    "                   62, 59, 60, 58, 10, 55, 12, 54, 14, 53, 11, 61,  9, 50, 15, 57,  7,\n",
    "                   48, 13, 52,  5,  0,  8, 51,  3,  2,  6, 49,  1,  4])"
   ]
  },
  {
   "cell_type": "code",
   "execution_count": 115,
   "metadata": {},
   "outputs": [
    {
     "data": {
      "text/plain": [
       "(64,)"
      ]
     },
     "execution_count": 115,
     "metadata": {},
     "output_type": "execute_result"
    }
   ],
   "source": [
    "elecNo.shape"
   ]
  },
  {
   "cell_type": "code",
   "execution_count": 116,
   "metadata": {},
   "outputs": [
    {
     "data": {
      "text/plain": [
       "array([32, 39, 36, 33, 37, 35, 40, 21, 41, 19, 42, 17, 34, 20, 45, 22, 38,\n",
       "       16, 47, 24, 43, 18, 31, 26, 44, 23, 29, 28, 46, 25, 27, 30])"
      ]
     },
     "execution_count": 116,
     "metadata": {},
     "output_type": "execute_result"
    }
   ],
   "source": [
    "elecNo_l = elecNo[:elecNo.shape[0]//2]\n",
    "elecNo_l"
   ]
  },
  {
   "cell_type": "code",
   "execution_count": 117,
   "metadata": {},
   "outputs": [
    {
     "data": {
      "text/plain": [
       "array([56, 63, 62, 59, 60, 58, 10, 55, 12, 54, 14, 53, 11, 61,  9, 50, 15,\n",
       "       57,  7, 48, 13, 52,  5,  0,  8, 51,  3,  2,  6, 49,  1,  4])"
      ]
     },
     "execution_count": 117,
     "metadata": {},
     "output_type": "execute_result"
    }
   ],
   "source": [
    "elecNo_r = elecNo[elecNo.shape[0]//2:]\n",
    "elecNo_r"
   ]
  },
  {
   "cell_type": "code",
   "execution_count": 118,
   "metadata": {
    "ExecuteTime": {
     "end_time": "2019-12-10T21:45:17.787950Z",
     "start_time": "2019-12-10T21:45:07.784061Z"
    }
   },
   "outputs": [],
   "source": [
    "prb_v3.shanks[0].l = elecNo_l\n",
    "prb_v3.shanks[0].xl = -200.\n",
    "prb_v3.shanks[0].yl = 20"
   ]
  },
  {
   "cell_type": "code",
   "execution_count": 119,
   "metadata": {
    "ExecuteTime": {
     "end_time": "2019-12-10T21:45:30.458515Z",
     "start_time": "2019-12-10T21:45:20.453280Z"
    }
   },
   "outputs": [],
   "source": [
    "prb_v3.shanks[0].r = elecNo_r \n",
    "prb_v3.shanks[0].xr = -100.\n",
    "prb_v3.shanks[0].yr = 20"
   ]
  },
  {
   "cell_type": "code",
   "execution_count": 120,
   "metadata": {
    "ExecuteTime": {
     "end_time": "2019-12-10T21:45:17.787950Z",
     "start_time": "2019-12-10T21:45:07.784061Z"
    }
   },
   "outputs": [],
   "source": [
    "# prb_v1.shanks[0].l = np.array([30,31,28,29,26,27,24,25,22,23,20,21,19,18,17,16,33,32,35,34,37,36,39,38,41,40,43,42,44,45,46,47])\n",
    "prb_v3.shanks[1].l = elecNo_l + 64\n",
    "prb_v3.shanks[1].xl = 100.\n",
    "prb_v3.shanks[1].yl = 20"
   ]
  },
  {
   "cell_type": "code",
   "execution_count": 121,
   "metadata": {
    "ExecuteTime": {
     "end_time": "2019-12-10T21:45:30.458515Z",
     "start_time": "2019-12-10T21:45:20.453280Z"
    }
   },
   "outputs": [],
   "source": [
    "prb_v3.shanks[1].r = elecNo_r + 64\n",
    "prb_v3.shanks[1].xr = 200.\n",
    "prb_v3.shanks[1].yr = 20"
   ]
  },
  {
   "cell_type": "code",
   "execution_count": 122,
   "metadata": {
    "ExecuteTime": {
     "end_time": "2019-12-10T21:45:32.881263Z",
     "start_time": "2019-12-10T21:45:31.675793Z"
    }
   },
   "outputs": [],
   "source": [
    "prb_v3.auto_pos()"
   ]
  },
  {
   "cell_type": "code",
   "execution_count": 123,
   "metadata": {
    "ExecuteTime": {
     "end_time": "2019-12-10T21:45:42.917665Z",
     "start_time": "2019-12-10T21:45:32.885157Z"
    },
    "scrolled": true
   },
   "outputs": [
    {
     "data": {
      "text/plain": [
       "OrderedDict([(32, array([-200.,   20.])),\n",
       "             (39, array([-200.,   30.])),\n",
       "             (36, array([-200.,   40.])),\n",
       "             (33, array([-200.,   50.])),\n",
       "             (37, array([-200.,   60.])),\n",
       "             (35, array([-200.,   70.])),\n",
       "             (40, array([-200.,   80.])),\n",
       "             (21, array([-200.,   90.])),\n",
       "             (41, array([-200.,  100.])),\n",
       "             (19, array([-200.,  110.])),\n",
       "             (42, array([-200.,  120.])),\n",
       "             (17, array([-200.,  130.])),\n",
       "             (34, array([-200.,  140.])),\n",
       "             (20, array([-200.,  150.])),\n",
       "             (45, array([-200.,  160.])),\n",
       "             (22, array([-200.,  170.])),\n",
       "             (38, array([-200.,  180.])),\n",
       "             (16, array([-200.,  190.])),\n",
       "             (47, array([-200.,  200.])),\n",
       "             (24, array([-200.,  210.])),\n",
       "             (43, array([-200.,  220.])),\n",
       "             (18, array([-200.,  230.])),\n",
       "             (31, array([-200.,  240.])),\n",
       "             (26, array([-200.,  250.])),\n",
       "             (44, array([-200.,  260.])),\n",
       "             (23, array([-200.,  270.])),\n",
       "             (29, array([-200.,  280.])),\n",
       "             (28, array([-200.,  290.])),\n",
       "             (46, array([-200.,  300.])),\n",
       "             (25, array([-200.,  310.])),\n",
       "             (27, array([-200.,  320.])),\n",
       "             (30, array([-200.,  330.])),\n",
       "             (56, array([-100.,   20.])),\n",
       "             (63, array([-100.,   30.])),\n",
       "             (62, array([-100.,   40.])),\n",
       "             (59, array([-100.,   50.])),\n",
       "             (60, array([-100.,   60.])),\n",
       "             (58, array([-100.,   70.])),\n",
       "             (10, array([-100.,   80.])),\n",
       "             (55, array([-100.,   90.])),\n",
       "             (12, array([-100.,  100.])),\n",
       "             (54, array([-100.,  110.])),\n",
       "             (14, array([-100.,  120.])),\n",
       "             (53, array([-100.,  130.])),\n",
       "             (11, array([-100.,  140.])),\n",
       "             (61, array([-100.,  150.])),\n",
       "             (9, array([-100.,  160.])),\n",
       "             (50, array([-100.,  170.])),\n",
       "             (15, array([-100.,  180.])),\n",
       "             (57, array([-100.,  190.])),\n",
       "             (7, array([-100.,  200.])),\n",
       "             (48, array([-100.,  210.])),\n",
       "             (13, array([-100.,  220.])),\n",
       "             (52, array([-100.,  230.])),\n",
       "             (5, array([-100.,  240.])),\n",
       "             (0, array([-100.,  250.])),\n",
       "             (8, array([-100.,  260.])),\n",
       "             (51, array([-100.,  270.])),\n",
       "             (3, array([-100.,  280.])),\n",
       "             (2, array([-100.,  290.])),\n",
       "             (6, array([-100.,  300.])),\n",
       "             (49, array([-100.,  310.])),\n",
       "             (1, array([-100.,  320.])),\n",
       "             (4, array([-100.,  330.])),\n",
       "             (96, array([100.,  20.])),\n",
       "             (103, array([100.,  30.])),\n",
       "             (100, array([100.,  40.])),\n",
       "             (97, array([100.,  50.])),\n",
       "             (101, array([100.,  60.])),\n",
       "             (99, array([100.,  70.])),\n",
       "             (104, array([100.,  80.])),\n",
       "             (85, array([100.,  90.])),\n",
       "             (105, array([100., 100.])),\n",
       "             (83, array([100., 110.])),\n",
       "             (106, array([100., 120.])),\n",
       "             (81, array([100., 130.])),\n",
       "             (98, array([100., 140.])),\n",
       "             (84, array([100., 150.])),\n",
       "             (109, array([100., 160.])),\n",
       "             (86, array([100., 170.])),\n",
       "             (102, array([100., 180.])),\n",
       "             (80, array([100., 190.])),\n",
       "             (111, array([100., 200.])),\n",
       "             (88, array([100., 210.])),\n",
       "             (107, array([100., 220.])),\n",
       "             (82, array([100., 230.])),\n",
       "             (95, array([100., 240.])),\n",
       "             (90, array([100., 250.])),\n",
       "             (108, array([100., 260.])),\n",
       "             (87, array([100., 270.])),\n",
       "             (93, array([100., 280.])),\n",
       "             (92, array([100., 290.])),\n",
       "             (110, array([100., 300.])),\n",
       "             (89, array([100., 310.])),\n",
       "             (91, array([100., 320.])),\n",
       "             (94, array([100., 330.])),\n",
       "             (120, array([200.,  20.])),\n",
       "             (127, array([200.,  30.])),\n",
       "             (126, array([200.,  40.])),\n",
       "             (123, array([200.,  50.])),\n",
       "             (124, array([200.,  60.])),\n",
       "             (122, array([200.,  70.])),\n",
       "             (74, array([200.,  80.])),\n",
       "             (119, array([200.,  90.])),\n",
       "             (76, array([200., 100.])),\n",
       "             (118, array([200., 110.])),\n",
       "             (78, array([200., 120.])),\n",
       "             (117, array([200., 130.])),\n",
       "             (75, array([200., 140.])),\n",
       "             (125, array([200., 150.])),\n",
       "             (73, array([200., 160.])),\n",
       "             (114, array([200., 170.])),\n",
       "             (79, array([200., 180.])),\n",
       "             (121, array([200., 190.])),\n",
       "             (71, array([200., 200.])),\n",
       "             (112, array([200., 210.])),\n",
       "             (77, array([200., 220.])),\n",
       "             (116, array([200., 230.])),\n",
       "             (69, array([200., 240.])),\n",
       "             (64, array([200., 250.])),\n",
       "             (72, array([200., 260.])),\n",
       "             (115, array([200., 270.])),\n",
       "             (67, array([200., 280.])),\n",
       "             (66, array([200., 290.])),\n",
       "             (70, array([200., 300.])),\n",
       "             (113, array([200., 310.])),\n",
       "             (65, array([200., 320.])),\n",
       "             (68, array([200., 330.]))])"
      ]
     },
     "execution_count": 123,
     "metadata": {},
     "output_type": "execute_result"
    }
   ],
   "source": [
    "prb_v3.mapping"
   ]
  },
  {
   "cell_type": "code",
   "execution_count": 124,
   "metadata": {},
   "outputs": [
    {
     "data": {
      "text/plain": [
       "array([32, 39, 36, 33, 37, 35, 40, 21, 41, 19, 42, 17, 34, 20, 45, 22, 38,\n",
       "       16, 47, 24, 43, 18, 31, 26, 44, 23, 29, 28, 46, 25, 27, 30])"
      ]
     },
     "execution_count": 124,
     "metadata": {},
     "output_type": "execute_result"
    }
   ],
   "source": [
    "prb_v3.shanks[0].l"
   ]
  },
  {
   "cell_type": "code",
   "execution_count": 125,
   "metadata": {},
   "outputs": [
    {
     "data": {
      "text/plain": [
       "array([56, 63, 62, 59, 60, 58, 10, 55, 12, 54, 14, 53, 11, 61,  9, 50, 15,\n",
       "       57,  7, 48, 13, 52,  5,  0,  8, 51,  3,  2,  6, 49,  1,  4])"
      ]
     },
     "execution_count": 125,
     "metadata": {},
     "output_type": "execute_result"
    }
   ],
   "source": [
    "prb_v3.shanks[0].r"
   ]
  },
  {
   "cell_type": "code",
   "execution_count": 126,
   "metadata": {},
   "outputs": [
    {
     "data": {
      "text/plain": [
       "{}"
      ]
     },
     "execution_count": 126,
     "metadata": {},
     "output_type": "execute_result"
    }
   ],
   "source": [
    "prb_v3.grp_dict"
   ]
  },
  {
   "cell_type": "code",
   "execution_count": 127,
   "metadata": {},
   "outputs": [
    {
     "data": {
      "text/plain": [
       "array([[56, 63, 62, 59],\n",
       "       [60, 58, 10, 55],\n",
       "       [12, 54, 14, 53],\n",
       "       [11, 61,  9, 50],\n",
       "       [15, 57,  7, 48],\n",
       "       [13, 52,  5,  0],\n",
       "       [ 8, 51,  3,  2],\n",
       "       [ 6, 49,  1,  4]])"
      ]
     },
     "execution_count": 127,
     "metadata": {},
     "output_type": "execute_result"
    }
   ],
   "source": [
    "prb_v3.shanks[0].r.reshape(-1,4)"
   ]
  },
  {
   "cell_type": "code",
   "execution_count": 130,
   "metadata": {},
   "outputs": [],
   "source": [
    "for i, tetrode in enumerate(prb_v3.shanks[0].l.reshape(-1,4)):\n",
    "    prb_v3[i] = tetrode\n",
    "for j, tetrode in enumerate(prb_v3.shanks[0].r.reshape(-1,4)):\n",
    "    prb_v3[i+j+1] = tetrode\n",
    "for k, tetrode in enumerate(prb_v3.shanks[1].l.reshape(-1,4)):\n",
    "    prb_v3[i+j+k+2] = tetrode\n",
    "for l, tetrode in enumerate(prb_v3.shanks[1].r.reshape(-1,4)):\n",
    "    prb_v3[i+j+k+l+3] = tetrode"
   ]
  },
  {
   "cell_type": "code",
   "execution_count": 131,
   "metadata": {
    "ExecuteTime": {
     "end_time": "2019-12-10T21:45:53.297727Z",
     "start_time": "2019-12-10T21:45:50.397199Z"
    }
   },
   "outputs": [
    {
     "data": {
      "text/plain": [
       "128"
      ]
     },
     "execution_count": 131,
     "metadata": {},
     "output_type": "execute_result"
    }
   ],
   "source": [
    "np.unique(prb_v3.chs).shape[0]"
   ]
  },
  {
   "cell_type": "code",
   "execution_count": 132,
   "metadata": {},
   "outputs": [
    {
     "data": {
      "text/plain": [
       "0:[32 33 36 39]\n",
       "1:[21 35 37 40]\n",
       "2:[17 19 41 42]\n",
       "3:[20 22 34 45]\n",
       "4:[16 24 38 47]\n",
       "5:[18 26 31 43]\n",
       "6:[23 28 29 44]\n",
       "7:[25 27 30 46]\n",
       "8:[56 59 62 63]\n",
       "9:[10 55 58 60]\n",
       "10:[12 14 53 54]\n",
       "11:[ 9 11 50 61]\n",
       "12:[ 7 15 48 57]\n",
       "13:[ 0  5 13 52]\n",
       "14:[ 2  3  8 51]\n",
       "15:[ 1  4  6 49]\n",
       "16:[ 96  97 100 103]\n",
       "17:[ 85  99 101 104]\n",
       "18:[ 81  83 105 106]\n",
       "19:[ 84  86  98 109]\n",
       "20:[ 80  88 102 111]\n",
       "21:[ 82  90  95 107]\n",
       "22:[ 87  92  93 108]\n",
       "23:[ 89  91  94 110]\n",
       "24:[120 123 126 127]\n",
       "25:[ 74 119 122 124]\n",
       "26:[ 76  78 117 118]\n",
       "27:[ 73  75 114 125]\n",
       "28:[ 71  79 112 121]\n",
       "29:[ 64  69  77 116]\n",
       "30:[ 66  67  72 115]\n",
       "31:[ 65  68  70 113]"
      ]
     },
     "execution_count": 132,
     "metadata": {},
     "output_type": "execute_result"
    }
   ],
   "source": [
    "prb_v3"
   ]
  },
  {
   "cell_type": "code",
   "execution_count": 135,
   "metadata": {
    "ExecuteTime": {
     "end_time": "2019-12-10T21:45:53.697220Z",
     "start_time": "2019-12-10T21:45:53.306411Z"
    }
   },
   "outputs": [
    {
     "name": "stderr",
     "output_type": "stream",
     "text": [
      "/Users/laic/Work/pydev/smart/vispy/vispy/visuals/markers.py:563: FutureWarning: Passing (type, 1) or '1type' as a synonym of type is deprecated; in a future version of numpy, it will be understood as (type, (1,)) / '(1,)type'.\n",
      "  ('a_edgewidth', np.float32, 1)])\n"
     ]
    }
   ],
   "source": [
    "prb_v3.show()"
   ]
  },
  {
   "cell_type": "code",
   "execution_count": 134,
   "metadata": {},
   "outputs": [],
   "source": [
    "prb_v3.save('./prb_v3.prb')"
   ]
  },
  {
   "cell_type": "code",
   "execution_count": 96,
   "metadata": {},
   "outputs": [
    {
     "data": {
      "text/plain": [
       "(128,)"
      ]
     },
     "execution_count": 96,
     "metadata": {},
     "output_type": "execute_result"
    }
   ],
   "source": [
    "prb_v3.chs.shape"
   ]
  },
  {
   "cell_type": "code",
   "execution_count": 136,
   "metadata": {},
   "outputs": [],
   "source": [
    "!open ."
   ]
  }
 ],
 "metadata": {
  "kernelspec": {
   "display_name": "Python 3",
   "language": "python",
   "name": "python3"
  },
  "language_info": {
   "codemirror_mode": {
    "name": "ipython",
    "version": 3
   },
   "file_extension": ".py",
   "mimetype": "text/x-python",
   "name": "python",
   "nbconvert_exporter": "python",
   "pygments_lexer": "ipython3",
   "version": "3.7.4"
  }
 },
 "nbformat": 4,
 "nbformat_minor": 4
}
