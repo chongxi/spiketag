{
 "cells": [
  {
   "cell_type": "code",
   "execution_count": 1,
   "metadata": {
    "collapsed": true
   },
   "outputs": [],
   "source": [
    "%load_ext autoreload"
   ]
  },
  {
   "cell_type": "code",
   "execution_count": 2,
   "metadata": {
    "collapsed": true
   },
   "outputs": [],
   "source": [
    "%autoreload 2"
   ]
  },
  {
   "cell_type": "code",
   "execution_count": 47,
   "metadata": {
    "scrolled": true
   },
   "outputs": [
    {
     "name": "stdout",
     "output_type": "stream",
     "text": [
      "Populating the interactive namespace from numpy and matplotlib\n"
     ]
    }
   ],
   "source": [
    "%pylab inline\n",
    "from ipywidgets import interact\n",
    "import seaborn as sns\n",
    "sns.set_context('poster')"
   ]
  },
  {
   "cell_type": "markdown",
   "metadata": {},
   "source": [
    "### FPGA and Spiketag Configuration"
   ]
  },
  {
   "cell_type": "code",
   "execution_count": 48,
   "metadata": {
    "collapsed": true
   },
   "outputs": [],
   "source": [
    "from spiketag.base import ProbeFactory, bload\n",
    "from spiketag.mvc  import Sorter\n",
    "from spiketag.fpga import FPGA"
   ]
  },
  {
   "cell_type": "markdown",
   "metadata": {},
   "source": [
    "#### spiketag"
   ]
  },
  {
   "cell_type": "code",
   "execution_count": 49,
   "metadata": {
    "collapsed": true
   },
   "outputs": [],
   "source": [
    "nCh = 160\n",
    "fs = 25000.\n",
    "tetrodes = ProbeFactory.genTetrodeProbe(fs=fs, n_ch=nCh)\n",
    "tetrodes.fromfile('./open-ephys-load/40 tetrode_channel_map')"
   ]
  },
  {
   "cell_type": "code",
   "execution_count": 50,
   "metadata": {
    "scrolled": false
   },
   "outputs": [
    {
     "data": {
      "text/plain": [
       "array([ 0,  1, 14, 15])"
      ]
     },
     "execution_count": 50,
     "metadata": {},
     "output_type": "execute_result"
    }
   ],
   "source": [
    "tetrodes.ch_hash(14)"
   ]
  },
  {
   "cell_type": "code",
   "execution_count": 51,
   "metadata": {
    "collapsed": true
   },
   "outputs": [],
   "source": [
    "tetrodes.reorder_by_chip = True\n",
    "tetrodes._nchips = 5"
   ]
  },
  {
   "cell_type": "markdown",
   "metadata": {},
   "source": [
    "#### FPGA"
   ]
  },
  {
   "cell_type": "code",
   "execution_count": 52,
   "metadata": {
    "collapsed": true
   },
   "outputs": [],
   "source": [
    "config = FPGA(probe=tetrodes, offset_value=32, thres_value=-500)"
   ]
  },
  {
   "cell_type": "code",
   "execution_count": 53,
   "metadata": {
    "scrolled": false
   },
   "outputs": [
    {
     "data": {
      "text/plain": [
       "(0, 1, 14, 15)"
      ]
     },
     "execution_count": 53,
     "metadata": {},
     "output_type": "execute_result"
    }
   ],
   "source": [
    "config.ch_ugp[14]"
   ]
  },
  {
   "cell_type": "markdown",
   "metadata": {},
   "source": [
    "### Sorting"
   ]
  },
  {
   "cell_type": "code",
   "execution_count": 56,
   "metadata": {
    "collapsed": true
   },
   "outputs": [],
   "source": [
    "!cp spk.bin mua.bin.spk"
   ]
  },
  {
   "cell_type": "code",
   "execution_count": 57,
   "metadata": {
    "collapsed": true
   },
   "outputs": [],
   "source": [
    "%gui qt"
   ]
  },
  {
   "cell_type": "code",
   "execution_count": 58,
   "metadata": {},
   "outputs": [
    {
     "name": "stderr",
     "output_type": "stream",
     "text": [
      "2017-08-16 17:13:43,998 - spiketag - INFO - load mua data\n",
      "2017-08-16 17:13:44,001 - spiketag - INFO - #############  load data  ###################\n",
      "2017-08-16 17:13:44,002 - spiketag - INFO - /disk0/testbench/mua.bin loaded, it contains: \n",
      "2017-08-16 17:13:44,003 - spiketag - INFO - 166017 * 160 points (106250880 bytes) \n",
      "2017-08-16 17:13:44,005 - spiketag - INFO - 160 channels with sampling rate of 25000.0000 \n",
      "2017-08-16 17:13:44,006 - spiketag - INFO - 6.641 secs (0.111 mins) of data\n",
      "2017-08-16 17:13:44,007 - spiketag - INFO - #############################################\n",
      "2017-08-16 17:13:44,109 - spiketag - INFO - reordered with nchips=5 and nch_perchip=32\n",
      "2017-08-16 17:13:44,175 - spiketag - INFO - raw data have 7303 spks\n",
      "2017-08-16 17:13:44,177 - spiketag - INFO - removing all spks on group which len(spks) less then fetlen\n",
      "2017-08-16 17:13:44,182 - spiketag - INFO - removed all spks on these groups: {32: 0, 33: 0, 34: 0, 35: 0, 36: 0, 37: 0, 18: 0, 19: 0, 22: 0, 23: 0, 24: 0, 25: 0, 26: 0, 27: 0, 28: 0, 29: 0, 30: 0, 31: 0}\n",
      "2017-08-16 17:13:44,183 - spiketag - INFO - grouping spike time\n",
      "2017-08-16 17:13:44,187 - spiketag - INFO - extract spikes from pivital meta data\n",
      "2017-08-16 17:13:44,588 - spiketag - INFO - extrat features with pca\n",
      "2017-08-16 17:13:44,688 - spiketag - INFO - clustering with hdbscan\n",
      "2017-08-16 17:13:45,349 - spiketag - INFO - clustering finished, used 0.659574985504 seconds\n",
      "2017-08-16 17:13:45,352 - spiketag - INFO - Model.spktag is generated, nspk:7303\n"
     ]
    }
   ],
   "source": [
    "sorter = Sorter('/disk0/testbench/mua.bin', \n",
    "                probe=tetrodes, \n",
    "                fet_method='pca', \n",
    "                clu_method='hdbscan',\n",
    "                n_jobs=24)"
   ]
  },
  {
   "cell_type": "code",
   "execution_count": 59,
   "metadata": {},
   "outputs": [
    {
     "data": {
      "text/plain": [
       "array([[     0,      5,      5, ..., 165933, 165933, 165991],\n",
       "       [    82,     56,     58, ...,     57,     59,     68]], dtype=int32)"
      ]
     },
     "execution_count": 59,
     "metadata": {},
     "output_type": "execute_result"
    }
   ],
   "source": [
    "spks = np.fromfile('./spk.bin', dtype=np.int32).reshape(-1,2).T\n",
    "spks"
   ]
  },
  {
   "cell_type": "code",
   "execution_count": 60,
   "metadata": {
    "collapsed": true
   },
   "outputs": [],
   "source": [
    "sorter.show_mua(chs=tetrodes[0], spks=spks)"
   ]
  },
  {
   "cell_type": "markdown",
   "metadata": {},
   "source": [
    "### Calculate and Download Threshold"
   ]
  },
  {
   "cell_type": "code",
   "execution_count": 30,
   "metadata": {
    "scrolled": false
   },
   "outputs": [],
   "source": [
    "thr = sorter.model.mua.get_threshold()"
   ]
  },
  {
   "cell_type": "code",
   "execution_count": 31,
   "metadata": {},
   "outputs": [
    {
     "data": {
      "text/plain": [
       "array([-283.14520264, -276.16522217, -310.15524292, -274.3416748 ,\n",
       "       -267.74752808, -260.79141235, -269.56164551, -274.4654541 ,\n",
       "       -313.02194214, -281.74084473, -304.44064331, -277.62969971,\n",
       "       -300.39178467, -302.0994873 , -296.72589111, -299.1227417 ,\n",
       "       -327.89624023, -323.41088867, -345.29556274, -326.10961914,\n",
       "       -297.66189575, -291.78442383, -292.42437744, -296.15325928,\n",
       "       -310.00323486, -323.5838623 , -315.53173828, -308.92962646,\n",
       "       -280.25317383, -279.90353394, -277.38574219, -270.51071167,\n",
       "       -264.37841797, -266.21356201, -265.58010864, -263.95275879,\n",
       "       -285.34954834, -275.87420654, -302.82559204, -278.24502563,\n",
       "       -303.13760376, -291.53253174, -300.64227295, -297.08636475,\n",
       "       -301.0201416 , -293.93371582, -286.50708008, -296.45080566,\n",
       "       -350.64385986, -354.0824585 , -350.59173584, -350.5171814 ,\n",
       "       -377.69226074, -379.65911865, -388.90280151, -385.05953979,\n",
       "       -378.18450928, -385.53878784, -374.17401123, -379.42022705,\n",
       "       -425.28030396, -442.05053711, -443.04666138, -433.68569946,\n",
       "       -319.25561523, -321.99200439, -317.97570801, -322.40316772,\n",
       "       -329.05957031, -320.51376343, -328.73669434, -325.89245605,\n",
       "       -301.10629272, -293.43713379, -304.66143799, -298.56463623,\n",
       "       -361.10516357, -365.45013428, -355.87487793, -375.40322876,\n",
       "       -261.99023438, -382.65252686, -384.07574463, -368.19592285,\n",
       "        -27.39152908,  -23.71982765,  -25.05979538,  -21.6639061 ,\n",
       "        -28.32248497,  -25.22267723,  -22.63395309,  -28.87266159,\n",
       "        -23.48383141,  -25.10250664,  -26.42582512,  -23.89501572,\n",
       "        -21.31787491,  -22.43560028,  -26.41424179,  -26.43451118,\n",
       "        -24.06151581,  -26.00450516,  -28.54327774,  -31.01689911,\n",
       "        -27.44220352,  -28.82198715,  -21.46265793,  -21.95926476,\n",
       "        -24.05717278,  -21.15716553,  -23.20077896,  -21.53360176,\n",
       "        -23.49831009,  -23.68073654,  -27.08748436,  -23.13055992,\n",
       "        -27.58771133,  -24.52482224,  -28.67792892,  -26.91519165,\n",
       "        -21.89121628,  -22.59920502,  -22.88442802,  -24.58345795,\n",
       "        -25.97989273,  -23.42446899,  -29.36926651,  -24.53061295,\n",
       "        -22.0953598 ,  -29.01744461,  -28.20520973,  -25.25018501,\n",
       "        -23.9022541 ,  -24.94469261,  -25.64689255,  -33.05979156,\n",
       "        -24.77819252,  -24.57477188,  -26.70525742,  -23.6170311 ,\n",
       "        -28.39632416,  -28.07345772,  -21.1325531 ,  -20.90089989,\n",
       "        -29.51984215,  -21.02830887,  -21.22666168,  -27.33506393,\n",
       "        -28.72932625,  -25.62083054,  -30.91989517,  -23.79221916,\n",
       "        -23.55622292,  -22.68462753,  -23.5837307 ,  -23.25362587,\n",
       "        -27.03319168,  -22.47469139,  -25.71059608,  -27.69702148], dtype=float32)"
      ]
     },
     "execution_count": 31,
     "metadata": {},
     "output_type": "execute_result"
    }
   ],
   "source": [
    "thr"
   ]
  },
  {
   "cell_type": "code",
   "execution_count": 22,
   "metadata": {
    "collapsed": true
   },
   "outputs": [],
   "source": [
    "config.thres[0:84] = thr[:84]"
   ]
  },
  {
   "cell_type": "code",
   "execution_count": 23,
   "metadata": {},
   "outputs": [
    {
     "name": "stdout",
     "output_type": "stream",
     "text": [
      "threshold of ch0 is -301.710034053\n",
      "threshold of ch1 is -297.682166188\n",
      "threshold of ch2 is -333.306789752\n",
      "threshold of ch3 is -299.273333256\n",
      "threshold of ch4 is -282.757192828\n",
      "threshold of ch5 is -279.909307821\n",
      "threshold of ch6 is -289.660454503\n",
      "threshold of ch7 is -291.651947044\n",
      "threshold of ch8 is -323.043834553\n",
      "threshold of ch9 is -288.898895015\n",
      "threshold of ch10 is -317.061393857\n",
      "threshold of ch11 is -291.574488047\n",
      "threshold of ch12 is -319.883941809\n",
      "threshold of ch13 is -311.185368792\n",
      "threshold of ch14 is -310.677903771\n",
      "threshold of ch15 is -310.302915354\n",
      "threshold of ch16 is -343.925911555\n",
      "threshold of ch17 is -335.186075334\n",
      "threshold of ch18 is -359.456802493\n",
      "threshold of ch19 is -339.550564075\n",
      "threshold of ch20 is -302.049550593\n",
      "threshold of ch21 is -300.307809025\n",
      "threshold of ch22 is -301.497926705\n",
      "threshold of ch23 is -305.166008386\n",
      "threshold of ch24 is -319.215767467\n",
      "threshold of ch25 is -321.264449361\n",
      "threshold of ch26 is -319.481444589\n",
      "threshold of ch27 is -314.788298045\n",
      "threshold of ch28 is -292.266551612\n",
      "threshold of ch29 is -286.72787134\n",
      "threshold of ch30 is -286.50562917\n",
      "threshold of ch31 is -281.073364529\n",
      "threshold of ch32 is -282.000700751\n",
      "threshold of ch33 is -281.512781458\n",
      "threshold of ch34 is -280.534047211\n",
      "threshold of ch35 is -282.254795219\n",
      "threshold of ch36 is -307.499189214\n",
      "threshold of ch37 is -299.161126297\n",
      "threshold of ch38 is -324.09278864\n",
      "threshold of ch39 is -303.407616753\n",
      "threshold of ch40 is -346.718778957\n",
      "threshold of ch41 is -334.426687593\n",
      "threshold of ch42 is -340.398269552\n",
      "threshold of ch43 is -340.023281134\n",
      "threshold of ch44 is -332.747202789\n",
      "threshold of ch45 is -325.867830337\n",
      "threshold of ch46 is -312.604243884\n",
      "threshold of ch47 is -323.968275111\n",
      "threshold of ch48 is -397.402300315\n",
      "threshold of ch49 is -403.043052724\n",
      "threshold of ch50 is -395.297152984\n",
      "threshold of ch51 is -397.752675593\n",
      "threshold of ch52 is -449.276663269\n",
      "threshold of ch53 is -448.106091318\n",
      "threshold of ch54 is -458.687569496\n",
      "threshold of ch55 is -445.074331681\n",
      "threshold of ch56 is -461.117031134\n",
      "threshold of ch57 is -476.167241938\n",
      "threshold of ch58 is -451.876245135\n",
      "threshold of ch59 is -464.029344653\n",
      "threshold of ch60 is -460.831808284\n",
      "threshold of ch61 is -481.52059975\n",
      "threshold of ch62 is -482.434905486\n",
      "threshold of ch63 is -472.71054369\n",
      "threshold of ch64 is -350.722757598\n",
      "threshold of ch65 is -354.448752548\n",
      "threshold of ch66 is -347.746015567\n",
      "threshold of ch67 is -356.385951399\n",
      "threshold of ch68 is -376.612884544\n",
      "threshold of ch69 is -360.248766447\n",
      "threshold of ch70 is -368.159719005\n",
      "threshold of ch71 is -370.815766308\n",
      "threshold of ch72 is -343.390937732\n",
      "threshold of ch73 is -335.066629216\n",
      "threshold of ch74 is -345.307866938\n",
      "threshold of ch75 is -339.038031644\n",
      "threshold of ch76 is -426.134520941\n",
      "threshold of ch77 is -441.599535536\n",
      "threshold of ch78 is -425.434494301\n",
      "threshold of ch79 is -441.558996247\n",
      "threshold of ch80 is -266.360498517\n",
      "threshold of ch81 is -374.218894783\n",
      "threshold of ch82 is -386.934476927\n",
      "threshold of ch83 is -381.108402057\n",
      "threshold of ch84 is -500.0\n",
      "threshold of ch85 is -500.0\n",
      "threshold of ch86 is -500.0\n",
      "threshold of ch87 is -500.0\n",
      "threshold of ch88 is -500.0\n",
      "threshold of ch89 is -500.0\n",
      "threshold of ch90 is -500.0\n",
      "threshold of ch91 is -500.0\n",
      "threshold of ch92 is -500.0\n",
      "threshold of ch93 is -500.0\n",
      "threshold of ch94 is -500.0\n",
      "threshold of ch95 is -500.0\n",
      "threshold of ch96 is -500.0\n",
      "threshold of ch97 is -500.0\n",
      "threshold of ch98 is -500.0\n",
      "threshold of ch99 is -500.0\n",
      "threshold of ch100 is -500.0\n",
      "threshold of ch101 is -500.0\n",
      "threshold of ch102 is -500.0\n",
      "threshold of ch103 is -500.0\n",
      "threshold of ch104 is -500.0\n",
      "threshold of ch105 is -500.0\n",
      "threshold of ch106 is -500.0\n",
      "threshold of ch107 is -500.0\n",
      "threshold of ch108 is -500.0\n",
      "threshold of ch109 is -500.0\n",
      "threshold of ch110 is -500.0\n",
      "threshold of ch111 is -500.0\n",
      "threshold of ch112 is -500.0\n",
      "threshold of ch113 is -500.0\n",
      "threshold of ch114 is -500.0\n",
      "threshold of ch115 is -500.0\n",
      "threshold of ch116 is -500.0\n",
      "threshold of ch117 is -500.0\n",
      "threshold of ch118 is -500.0\n",
      "threshold of ch119 is -500.0\n",
      "threshold of ch120 is -500.0\n",
      "threshold of ch121 is -500.0\n",
      "threshold of ch122 is -500.0\n",
      "threshold of ch123 is -500.0\n",
      "threshold of ch124 is -500.0\n",
      "threshold of ch125 is -500.0\n",
      "threshold of ch126 is -500.0\n",
      "threshold of ch127 is -500.0\n",
      "threshold of ch128 is -500.0\n",
      "threshold of ch129 is -500.0\n",
      "threshold of ch130 is -500.0\n",
      "threshold of ch131 is -500.0\n",
      "threshold of ch132 is -500.0\n",
      "threshold of ch133 is -500.0\n",
      "threshold of ch134 is -500.0\n",
      "threshold of ch135 is -500.0\n",
      "threshold of ch136 is -500.0\n",
      "threshold of ch137 is -500.0\n",
      "threshold of ch138 is -500.0\n",
      "threshold of ch139 is -500.0\n",
      "threshold of ch140 is -500.0\n",
      "threshold of ch141 is -500.0\n",
      "threshold of ch142 is -500.0\n",
      "threshold of ch143 is -500.0\n",
      "threshold of ch144 is -500.0\n",
      "threshold of ch145 is -500.0\n",
      "threshold of ch146 is -500.0\n",
      "threshold of ch147 is -500.0\n",
      "threshold of ch148 is -500.0\n",
      "threshold of ch149 is -500.0\n",
      "threshold of ch150 is -500.0\n",
      "threshold of ch151 is -500.0\n",
      "threshold of ch152 is -500.0\n",
      "threshold of ch153 is -500.0\n",
      "threshold of ch154 is -500.0\n",
      "threshold of ch155 is -500.0\n",
      "threshold of ch156 is -500.0\n",
      "threshold of ch157 is -500.0\n",
      "threshold of ch158 is -500.0\n",
      "threshold of ch159 is -500.0\n"
     ]
    },
    {
     "data": {
      "text/plain": [
       "threshold enable status: True"
      ]
     },
     "execution_count": 23,
     "metadata": {},
     "output_type": "execute_result"
    }
   ],
   "source": [
    "config.thres"
   ]
  },
  {
   "cell_type": "code",
   "execution_count": 45,
   "metadata": {
    "collapsed": true
   },
   "outputs": [],
   "source": [
    "!rm *.bin"
   ]
  },
  {
   "cell_type": "markdown",
   "metadata": {},
   "source": [
    "### Go Sorting Again"
   ]
  },
  {
   "cell_type": "code",
   "execution_count": 46,
   "metadata": {},
   "outputs": [
    {
     "name": "stdout",
     "output_type": "stream",
     "text": [
      "cp: cannot stat 'spk.bin': No such file or directory\r\n"
     ]
    }
   ],
   "source": [
    "!cp spk.bin mua.bin.spk"
   ]
  },
  {
   "cell_type": "code",
   "execution_count": 16,
   "metadata": {},
   "outputs": [
    {
     "name": "stderr",
     "output_type": "stream",
     "text": [
      "2017-08-16 16:57:35,644 - spiketag - INFO - load mua data\n",
      "2017-08-16 16:57:35,647 - spiketag - INFO - #############  load data  ###################\n",
      "2017-08-16 16:57:35,648 - spiketag - INFO - /disk0/testbench/mua.bin loaded, it contains: \n",
      "2017-08-16 16:57:35,649 - spiketag - INFO - 613492 * 160 points (392634880 bytes) \n",
      "2017-08-16 16:57:35,650 - spiketag - INFO - 160 channels with sampling rate of 25000.0000 \n",
      "2017-08-16 16:57:35,651 - spiketag - INFO - 24.540 secs (0.409 mins) of data\n",
      "2017-08-16 16:57:35,653 - spiketag - INFO - #############################################\n",
      "2017-08-16 16:57:35,929 - spiketag - INFO - reordered with nchips=5 and nch_perchip=32\n",
      "2017-08-16 16:57:36,108 - spiketag - INFO - raw data have 26152 spks\n",
      "2017-08-16 16:57:36,109 - spiketag - INFO - removing all spks on group which len(spks) less then fetlen\n",
      "2017-08-16 16:57:36,116 - spiketag - INFO - removed all spks on these groups: {32: 0, 33: 0, 34: 0, 35: 0, 36: 0, 37: 0, 18: 0, 19: 0, 22: 0, 23: 0, 24: 0, 25: 0, 26: 0, 27: 0, 28: 0, 29: 0, 30: 0, 31: 0}\n",
      "2017-08-16 16:57:36,117 - spiketag - INFO - grouping spike time\n",
      "2017-08-16 16:57:36,124 - spiketag - INFO - extract spikes from pivital meta data\n",
      "2017-08-16 16:57:36,649 - spiketag - INFO - extrat features with pca\n",
      "2017-08-16 16:57:37,015 - spiketag - INFO - clustering with hdbscan\n",
      "2017-08-16 16:57:37,605 - spiketag - INFO - clustering finished, used 0.588123083115 seconds\n",
      "2017-08-16 16:57:37,608 - spiketag - INFO - Model.spktag is generated, nspk:26152\n"
     ]
    }
   ],
   "source": [
    "sorter = Sorter('/disk0/testbench/mua.bin', \n",
    "                probe=tetrodes, \n",
    "                fet_method='pca', \n",
    "                clu_method='hdbscan',\n",
    "                n_jobs=24)"
   ]
  },
  {
   "cell_type": "code",
   "execution_count": 17,
   "metadata": {
    "collapsed": true
   },
   "outputs": [],
   "source": [
    "sorter.run()"
   ]
  }
 ],
 "metadata": {
  "kernelspec": {
   "display_name": "Python [conda root]",
   "language": "python",
   "name": "conda-root-py"
  },
  "language_info": {
   "codemirror_mode": {
    "name": "ipython",
    "version": 2
   },
   "file_extension": ".py",
   "mimetype": "text/x-python",
   "name": "python",
   "nbconvert_exporter": "python",
   "pygments_lexer": "ipython2",
   "version": "2.7.13"
  }
 },
 "nbformat": 4,
 "nbformat_minor": 2
}
