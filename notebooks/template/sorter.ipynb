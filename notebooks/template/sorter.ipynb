{
 "cells": [
  {
   "cell_type": "code",
   "execution_count": 1,
   "metadata": {
    "ExecuteTime": {
     "end_time": "2019-03-14T19:52:00.639338Z",
     "start_time": "2019-03-14T19:52:00.372933Z"
    }
   },
   "outputs": [
    {
     "name": "stdout",
     "output_type": "stream",
     "text": [
      "Populating the interactive namespace from numpy and matplotlib\n"
     ]
    }
   ],
   "source": [
    "%pylab inline\n",
    "%gui qt"
   ]
  },
  {
   "cell_type": "code",
   "execution_count": 4,
   "metadata": {
    "ExecuteTime": {
     "end_time": "2019-03-14T19:54:07.690861Z",
     "start_time": "2019-03-14T19:54:07.684942Z"
    }
   },
   "outputs": [],
   "source": [
    "from spiketag.mvc.Control import controller\n",
    "from spiketag.base import probe"
   ]
  },
  {
   "cell_type": "code",
   "execution_count": 7,
   "metadata": {
    "ExecuteTime": {
     "end_time": "2019-03-14T19:54:53.210359Z",
     "start_time": "2019-03-14T19:54:53.205661Z"
    }
   },
   "outputs": [],
   "source": [
    "mua_filename = './mua.bin'\n",
    "spk_filename = './spk.bin'\n",
    "prb_filename = './prb_neuronexus_ff.json'"
   ]
  },
  {
   "cell_type": "code",
   "execution_count": 8,
   "metadata": {
    "ExecuteTime": {
     "end_time": "2019-03-14T19:54:59.238246Z",
     "start_time": "2019-03-14T19:54:59.231409Z"
    }
   },
   "outputs": [],
   "source": [
    "prb = probe()\n",
    "prb.load(prb_filename)"
   ]
  },
  {
   "cell_type": "code",
   "execution_count": 9,
   "metadata": {
    "ExecuteTime": {
     "end_time": "2019-03-14T19:55:04.169910Z",
     "start_time": "2019-03-14T19:55:00.384297Z"
    },
    "collapsed": true,
    "jupyter": {
     "outputs_hidden": true
    }
   },
   "outputs": [
    {
     "name": "stderr",
     "output_type": "stream",
     "text": [
      "2019-03-14 15:55:00,387 - spiketag - INFO - load mua data\n",
      "2019-03-14 15:55:00,440 - spiketag - INFO - #############  load data  ###################\n",
      "2019-03-14 15:55:00,442 - spiketag - INFO - ./mua.bin loaded, it contains: \n",
      "2019-03-14 15:55:00,443 - spiketag - INFO - 7572682.0 * 160 points (4846516480 bytes) \n",
      "2019-03-14 15:55:00,444 - spiketag - INFO - 160 channels with sampling rate of 25000.0000 \n",
      "2019-03-14 15:55:00,445 - spiketag - INFO - 302.907 secs (5.048 mins) of data\n",
      "2019-03-14 15:55:00,447 - spiketag - INFO - #############################################\n",
      "2019-03-14 15:55:00,449 - spiketag - INFO - processing folder: ./\n",
      "2019-03-14 15:55:00,468 - spiketag - INFO - raw data have 169336 spks\n",
      "2019-03-14 15:55:00,469 - spiketag - INFO - ----------------success------------------\n",
      "2019-03-14 15:55:00,470 - spiketag - INFO -  \n",
      "2019-03-14 15:55:00,471 - spiketag - INFO - extract spikes from pivital meta data\n",
      "2019-03-14 15:55:00,472 - spiketag - INFO - mua.tospk() with time_cutoff=True, amp_cutoff=True, speed_cutoff=True\n",
      "2019-03-14 15:55:00,624 - spiketag - INFO - group 0 delete 0.2165583874729302%(26.0/12006.0) spks via cutoff\n",
      "2019-03-14 15:55:00,683 - spiketag - INFO - group 1 delete 0.1707941929974381%(16.0/9368.0) spks via cutoff\n",
      "2019-03-14 15:55:00,696 - spiketag - INFO - group 2 delete 0.0%(0.0/2068.0) spks via cutoff\n",
      "2019-03-14 15:55:00,702 - spiketag - INFO - group 3 delete 0.0%(0.0/1452.0) spks via cutoff\n",
      "2019-03-14 15:55:00,708 - spiketag - INFO - group 4 delete 0.0%(0.0/831.0) spks via cutoff\n",
      "2019-03-14 15:55:00,711 - spiketag - INFO - group 5 delete 0.0%(0.0/15.0) spks via cutoff\n",
      "2019-03-14 15:55:00,713 - spiketag - INFO - group 6 delete 0.0%(0.0/33.0) spks via cutoff\n",
      "2019-03-14 15:55:00,721 - spiketag - INFO - group 7 delete 0.0%(0.0/1339.0) spks via cutoff\n",
      "2019-03-14 15:55:00,795 - spiketag - INFO - group 8 delete 0.35658569199910856%(48.0/13461.0) spks via cutoff\n",
      "2019-03-14 15:55:00,807 - spiketag - INFO - group 9 delete 0.16813787305590583%(4.0/2379.0) spks via cutoff\n",
      "2019-03-14 15:55:00,852 - spiketag - INFO - group 10 delete 0.6711409395973155%(58.0/8642.0) spks via cutoff\n",
      "2019-03-14 15:55:00,863 - spiketag - INFO - group 11 delete 0.0%(0.0/3398.0) spks via cutoff\n",
      "2019-03-14 15:55:00,876 - spiketag - INFO - group 12 delete 0.0%(0.0/2541.0) spks via cutoff\n",
      "2019-03-14 15:55:00,889 - spiketag - INFO - group 13 delete 0.026288117770767613%(1.0/3804.0) spks via cutoff\n",
      "2019-03-14 15:55:00,907 - spiketag - INFO - group 14 delete 0.0%(0.0/4528.0) spks via cutoff\n",
      "2019-03-14 15:55:00,911 - spiketag - INFO - group 15 delete 0.36363636363636365%(1.0/275.0) spks via cutoff\n",
      "2019-03-14 15:55:00,913 - spiketag - INFO - group 16 delete 0.0%(0.0/29.0) spks via cutoff\n",
      "2019-03-14 15:55:00,914 - spiketag - INFO - group 17 delete 0.0%(0.0/30.0) spks via cutoff\n",
      "2019-03-14 15:55:00,916 - spiketag - INFO - group 18 delete 0.0%(0.0/19.0) spks via cutoff\n",
      "2019-03-14 15:55:00,918 - spiketag - INFO - group 19 delete 0.0%(0.0/14.0) spks via cutoff\n",
      "2019-03-14 15:55:00,920 - spiketag - INFO - group 20 delete 0.0%(0.0/34.0) spks via cutoff\n",
      "2019-03-14 15:55:00,922 - spiketag - INFO - group 21 delete 0.0%(0.0/39.0) spks via cutoff\n",
      "2019-03-14 15:55:00,924 - spiketag - INFO - group 22 delete 0.0%(0.0/27.0) spks via cutoff\n",
      "2019-03-14 15:55:00,926 - spiketag - INFO - group 23 delete 0.0%(0.0/45.0) spks via cutoff\n",
      "2019-03-14 15:55:00,931 - spiketag - INFO - group 24 delete 0.0%(0.0/14.0) spks via cutoff\n",
      "2019-03-14 15:55:00,975 - spiketag - INFO - group 25 delete 0.05743825387708214%(6.0/10446.0) spks via cutoff\n",
      "2019-03-14 15:55:01,027 - spiketag - INFO - group 26 delete 0.1253394610403175%(18.0/14361.0) spks via cutoff\n",
      "2019-03-14 15:55:01,035 - spiketag - INFO - group 27 delete 0.0%(0.0/1450.0) spks via cutoff\n",
      "2019-03-14 15:55:01,093 - spiketag - INFO - group 28 delete 0.8761858722581425%(145.0/16549.0) spks via cutoff\n",
      "2019-03-14 15:55:01,142 - spiketag - INFO - group 29 delete 7.546783924736681%(1476.0/19558.0) spks via cutoff\n",
      "2019-03-14 15:55:01,148 - spiketag - INFO - group 30 delete 3.571428571428571%(1.0/28.0) spks via cutoff\n",
      "2019-03-14 15:55:01,170 - spiketag - INFO - group 31 delete 1.4053254437869822%(152.0/10816.0) spks via cutoff\n",
      "2019-03-14 15:55:01,197 - spiketag - INFO - group 32 delete 5.567246986799311%(291.0/5227.0) spks via cutoff\n",
      "2019-03-14 15:55:01,215 - spiketag - INFO - group 33 delete 3.4060779114827655%(167.0/4903.0) spks via cutoff\n",
      "2019-03-14 15:55:01,223 - spiketag - INFO - group 34 delete 4.3%(86.0/2000.0) spks via cutoff\n",
      "2019-03-14 15:55:01,240 - spiketag - INFO - group 35 delete 11.343576332134685%(694.0/6118.0) spks via cutoff\n",
      "2019-03-14 15:55:01,247 - spiketag - INFO - group 36 delete 2.582496413199426%(36.0/1394.0) spks via cutoff\n",
      "2019-03-14 15:55:01,256 - spiketag - INFO - group 37 delete 4.6445984090325885%(181.0/3897.0) spks via cutoff\n",
      "2019-03-14 15:55:01,265 - spiketag - INFO - group 38 delete 5.7243364246882%(179.0/3127.0) spks via cutoff\n",
      "2019-03-14 15:55:01,274 - spiketag - INFO - group 39 delete 3.223705633344188%(99.0/3071.0) spks via cutoff\n",
      "2019-03-14 15:55:01,276 - spiketag - INFO - ----------------success------------------\n",
      "2019-03-14 15:55:01,277 - spiketag - INFO -  \n",
      "2019-03-14 15:55:01,278 - spiketag - INFO - grouping spike time\n",
      "2019-03-14 15:55:01,279 - spiketag - INFO - extract features with pca\n",
      "2019-03-14 15:55:01,354 - spiketag - INFO - spk._tofet(group_id=0, method=pca, ncomp=6, whiten=False)\n",
      "2019-03-14 15:55:01,380 - spiketag - INFO - spk._tofet(group_id=1, method=pca, ncomp=6, whiten=False)\n",
      "2019-03-14 15:55:01,388 - spiketag - INFO - spk._tofet(group_id=2, method=pca, ncomp=6, whiten=False)\n",
      "2019-03-14 15:55:01,395 - spiketag - INFO - spk._tofet(group_id=3, method=pca, ncomp=6, whiten=False)\n",
      "2019-03-14 15:55:01,405 - spiketag - INFO - spk._tofet(group_id=4, method=pca, ncomp=6, whiten=False)\n",
      "2019-03-14 15:55:01,408 - spiketag - INFO - spk._tofet(group_id=5, method=pca, ncomp=6, whiten=False)\n",
      "2019-03-14 15:55:01,413 - spiketag - INFO - spk._tofet(group_id=6, method=pca, ncomp=6, whiten=False)\n",
      "2019-03-14 15:55:01,420 - spiketag - INFO - spk._tofet(group_id=7, method=pca, ncomp=6, whiten=False)\n",
      "2019-03-14 15:55:01,458 - spiketag - INFO - spk._tofet(group_id=8, method=pca, ncomp=6, whiten=False)\n",
      "2019-03-14 15:55:01,468 - spiketag - INFO - spk._tofet(group_id=9, method=pca, ncomp=6, whiten=False)\n",
      "2019-03-14 15:55:01,491 - spiketag - INFO - spk._tofet(group_id=10, method=pca, ncomp=6, whiten=False)\n",
      "2019-03-14 15:55:01,503 - spiketag - INFO - spk._tofet(group_id=11, method=pca, ncomp=6, whiten=False)\n",
      "2019-03-14 15:55:01,513 - spiketag - INFO - spk._tofet(group_id=12, method=pca, ncomp=6, whiten=False)\n",
      "2019-03-14 15:55:01,526 - spiketag - INFO - spk._tofet(group_id=13, method=pca, ncomp=6, whiten=False)\n",
      "2019-03-14 15:55:01,541 - spiketag - INFO - spk._tofet(group_id=14, method=pca, ncomp=6, whiten=False)\n",
      "2019-03-14 15:55:01,546 - spiketag - INFO - spk._tofet(group_id=15, method=pca, ncomp=6, whiten=False)\n",
      "2019-03-14 15:55:01,549 - spiketag - INFO - spk._tofet(group_id=16, method=pca, ncomp=6, whiten=False)\n",
      "2019-03-14 15:55:01,552 - spiketag - INFO - spk._tofet(group_id=17, method=pca, ncomp=6, whiten=False)\n",
      "2019-03-14 15:55:01,554 - spiketag - INFO - spk._tofet(group_id=18, method=pca, ncomp=6, whiten=False)\n",
      "2019-03-14 15:55:01,556 - spiketag - INFO - spk._tofet(group_id=19, method=pca, ncomp=6, whiten=False)\n",
      "2019-03-14 15:55:01,558 - spiketag - INFO - spk._tofet(group_id=20, method=pca, ncomp=6, whiten=False)\n",
      "2019-03-14 15:55:01,561 - spiketag - INFO - spk._tofet(group_id=21, method=pca, ncomp=6, whiten=False)\n",
      "2019-03-14 15:55:01,563 - spiketag - INFO - spk._tofet(group_id=22, method=pca, ncomp=6, whiten=False)\n",
      "2019-03-14 15:55:01,567 - spiketag - INFO - spk._tofet(group_id=23, method=pca, ncomp=6, whiten=False)\n",
      "2019-03-14 15:55:01,568 - spiketag - INFO - spk._tofet(group_id=24, method=pca, ncomp=6, whiten=False)\n",
      "2019-03-14 15:55:01,593 - spiketag - INFO - spk._tofet(group_id=25, method=pca, ncomp=6, whiten=False)\n",
      "2019-03-14 15:55:01,633 - spiketag - INFO - spk._tofet(group_id=26, method=pca, ncomp=6, whiten=False)\n",
      "2019-03-14 15:55:01,643 - spiketag - INFO - spk._tofet(group_id=27, method=pca, ncomp=6, whiten=False)\n",
      "2019-03-14 15:55:01,693 - spiketag - INFO - spk._tofet(group_id=28, method=pca, ncomp=6, whiten=False)\n",
      "2019-03-14 15:55:01,746 - spiketag - INFO - spk._tofet(group_id=29, method=pca, ncomp=6, whiten=False)\n",
      "2019-03-14 15:55:01,749 - spiketag - INFO - spk._tofet(group_id=30, method=pca, ncomp=6, whiten=False)\n",
      "2019-03-14 15:55:01,781 - spiketag - INFO - spk._tofet(group_id=31, method=pca, ncomp=6, whiten=False)\n",
      "2019-03-14 15:55:01,796 - spiketag - INFO - spk._tofet(group_id=32, method=pca, ncomp=6, whiten=False)\n",
      "2019-03-14 15:55:01,810 - spiketag - INFO - spk._tofet(group_id=33, method=pca, ncomp=6, whiten=False)\n",
      "2019-03-14 15:55:01,817 - spiketag - INFO - spk._tofet(group_id=34, method=pca, ncomp=6, whiten=False)\n",
      "2019-03-14 15:55:01,833 - spiketag - INFO - spk._tofet(group_id=35, method=pca, ncomp=6, whiten=False)\n",
      "2019-03-14 15:55:01,840 - spiketag - INFO - spk._tofet(group_id=36, method=pca, ncomp=6, whiten=False)\n",
      "2019-03-14 15:55:01,851 - spiketag - INFO - spk._tofet(group_id=37, method=pca, ncomp=6, whiten=False)\n",
      "2019-03-14 15:55:01,860 - spiketag - INFO - spk._tofet(group_id=38, method=pca, ncomp=6, whiten=False)\n",
      "2019-03-14 15:55:01,870 - spiketag - INFO - spk._tofet(group_id=39, method=pca, ncomp=6, whiten=False)\n",
      "2019-03-14 15:55:01,871 - spiketag - INFO - ----------------success------------------\n",
      "2019-03-14 15:55:01,871 - spiketag - INFO -  \n"
     ]
    }
   ],
   "source": [
    "ctrl = controller(\n",
    "                  probe = prb,\n",
    "                  mua_filename=mua_filename, \n",
    "                  spk_filename=spk_filename, \n",
    "                  binary_radix=13, \n",
    "                  scale=False\n",
    "                  # time_segs=[[0,320]]\n",
    "                 )"
   ]
  },
  {
   "cell_type": "code",
   "execution_count": 10,
   "metadata": {
    "ExecuteTime": {
     "end_time": "2019-03-14T19:55:10.655717Z",
     "start_time": "2019-03-14T19:55:10.348850Z"
    }
   },
   "outputs": [],
   "source": [
    "ctrl.show()"
   ]
  },
  {
   "cell_type": "code",
   "execution_count": null,
   "metadata": {},
   "outputs": [],
   "source": []
  }
 ],
 "metadata": {
  "kernelspec": {
   "display_name": "Python 3",
   "language": "python",
   "name": "python3"
  },
  "language_info": {
   "codemirror_mode": {
    "name": "ipython",
    "version": 3
   },
   "file_extension": ".py",
   "mimetype": "text/x-python",
   "name": "python",
   "nbconvert_exporter": "python",
   "pygments_lexer": "ipython3",
   "version": "3.7.4"
  }
 },
 "nbformat": 4,
 "nbformat_minor": 4
}
