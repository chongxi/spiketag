{
 "cells": [
  {
   "cell_type": "code",
   "execution_count": 2,
   "metadata": {
    "ExecuteTime": {
     "end_time": "2019-03-14T19:57:40.066392Z",
     "start_time": "2019-03-14T19:57:39.794774Z"
    },
    "scrolled": true
   },
   "outputs": [
    {
     "name": "stdout",
     "output_type": "stream",
     "text": [
      "Populating the interactive namespace from numpy and matplotlib\n"
     ]
    }
   ],
   "source": [
    "%pylab inline\n",
    "%gui qt"
   ]
  },
  {
   "cell_type": "code",
   "execution_count": 2,
   "metadata": {
    "ExecuteTime": {
     "end_time": "2019-03-14T19:57:42.701937Z",
     "start_time": "2019-03-14T19:57:40.880179Z"
    }
   },
   "outputs": [],
   "source": [
    "from spiketag.mvc.Control import controller\n",
    "from spiketag.base import probe"
   ]
  },
  {
   "cell_type": "code",
   "execution_count": 3,
   "metadata": {
    "ExecuteTime": {
     "end_time": "2019-03-14T19:57:43.328909Z",
     "start_time": "2019-03-14T19:57:43.323522Z"
    }
   },
   "outputs": [],
   "source": [
    "mua_filename = './mua.bin'\n",
    "spk_filename = './spk.bin'\n",
    "prb_filename = './prb_neuronexus_ff.json'"
   ]
  },
  {
   "cell_type": "code",
   "execution_count": 4,
   "metadata": {
    "ExecuteTime": {
     "end_time": "2019-03-14T19:57:43.960725Z",
     "start_time": "2019-03-14T19:57:43.953372Z"
    }
   },
   "outputs": [],
   "source": [
    "prb = probe()\n",
    "prb.load(prb_filename)"
   ]
  },
  {
   "cell_type": "code",
   "execution_count": 5,
   "metadata": {
    "ExecuteTime": {
     "end_time": "2019-03-14T19:57:48.965222Z",
     "start_time": "2019-03-14T19:57:45.319222Z"
    },
    "collapsed": true,
    "jupyter": {
     "outputs_hidden": true
    }
   },
   "outputs": [
    {
     "name": "stderr",
     "output_type": "stream",
     "text": [
      "2019-03-14 15:57:45,324 - spiketag - INFO - load mua data\n",
      "2019-03-14 15:57:45,380 - spiketag - INFO - #############  load data  ###################\n",
      "2019-03-14 15:57:45,381 - spiketag - INFO - ./mua.bin loaded, it contains: \n",
      "2019-03-14 15:57:45,383 - spiketag - INFO - 7572682.0 * 160 points (4846516480 bytes) \n",
      "2019-03-14 15:57:45,386 - spiketag - INFO - 160 channels with sampling rate of 25000.0000 \n",
      "2019-03-14 15:57:45,387 - spiketag - INFO - 302.907 secs (5.048 mins) of data\n",
      "2019-03-14 15:57:45,388 - spiketag - INFO - #############################################\n",
      "2019-03-14 15:57:45,389 - spiketag - INFO - processing folder: ./\n",
      "2019-03-14 15:57:45,409 - spiketag - INFO - raw data have 169336 spks\n",
      "2019-03-14 15:57:45,410 - spiketag - INFO - ----------------success------------------\n",
      "2019-03-14 15:57:45,411 - spiketag - INFO -  \n",
      "2019-03-14 15:57:45,412 - spiketag - INFO - extract spikes from pivital meta data\n",
      "2019-03-14 15:57:45,413 - spiketag - INFO - mua.tospk() with time_cutoff=True, amp_cutoff=True, speed_cutoff=True\n",
      "2019-03-14 15:57:45,641 - spiketag - INFO - group 0 delete 0.2165583874729302%(26.0/12006.0) spks via cutoff\n",
      "2019-03-14 15:57:45,679 - spiketag - INFO - group 1 delete 0.1707941929974381%(16.0/9368.0) spks via cutoff\n",
      "2019-03-14 15:57:45,695 - spiketag - INFO - group 2 delete 0.0%(0.0/2068.0) spks via cutoff\n",
      "2019-03-14 15:57:45,703 - spiketag - INFO - group 3 delete 0.0%(0.0/1452.0) spks via cutoff\n",
      "2019-03-14 15:57:45,710 - spiketag - INFO - group 4 delete 0.0%(0.0/831.0) spks via cutoff\n",
      "2019-03-14 15:57:45,713 - spiketag - INFO - group 5 delete 0.0%(0.0/15.0) spks via cutoff\n",
      "2019-03-14 15:57:45,716 - spiketag - INFO - group 6 delete 0.0%(0.0/33.0) spks via cutoff\n",
      "2019-03-14 15:57:45,724 - spiketag - INFO - group 7 delete 0.0%(0.0/1339.0) spks via cutoff\n",
      "2019-03-14 15:57:45,787 - spiketag - INFO - group 8 delete 0.35658569199910856%(48.0/13461.0) spks via cutoff\n",
      "2019-03-14 15:57:45,797 - spiketag - INFO - group 9 delete 0.16813787305590583%(4.0/2379.0) spks via cutoff\n",
      "2019-03-14 15:57:45,830 - spiketag - INFO - group 10 delete 0.6711409395973155%(58.0/8642.0) spks via cutoff\n",
      "2019-03-14 15:57:45,839 - spiketag - INFO - group 11 delete 0.0%(0.0/3398.0) spks via cutoff\n",
      "2019-03-14 15:57:45,849 - spiketag - INFO - group 12 delete 0.0%(0.0/2541.0) spks via cutoff\n",
      "2019-03-14 15:57:45,859 - spiketag - INFO - group 13 delete 0.026288117770767613%(1.0/3804.0) spks via cutoff\n",
      "2019-03-14 15:57:45,873 - spiketag - INFO - group 14 delete 0.0%(0.0/4528.0) spks via cutoff\n",
      "2019-03-14 15:57:45,876 - spiketag - INFO - group 15 delete 0.36363636363636365%(1.0/275.0) spks via cutoff\n",
      "2019-03-14 15:57:45,878 - spiketag - INFO - group 16 delete 0.0%(0.0/29.0) spks via cutoff\n",
      "2019-03-14 15:57:45,880 - spiketag - INFO - group 17 delete 0.0%(0.0/30.0) spks via cutoff\n",
      "2019-03-14 15:57:45,882 - spiketag - INFO - group 18 delete 0.0%(0.0/19.0) spks via cutoff\n",
      "2019-03-14 15:57:45,884 - spiketag - INFO - group 19 delete 0.0%(0.0/14.0) spks via cutoff\n",
      "2019-03-14 15:57:45,886 - spiketag - INFO - group 20 delete 0.0%(0.0/34.0) spks via cutoff\n",
      "2019-03-14 15:57:45,888 - spiketag - INFO - group 21 delete 0.0%(0.0/39.0) spks via cutoff\n",
      "2019-03-14 15:57:45,890 - spiketag - INFO - group 22 delete 0.0%(0.0/27.0) spks via cutoff\n",
      "2019-03-14 15:57:45,892 - spiketag - INFO - group 23 delete 0.0%(0.0/45.0) spks via cutoff\n",
      "2019-03-14 15:57:45,894 - spiketag - INFO - group 24 delete 0.0%(0.0/14.0) spks via cutoff\n",
      "2019-03-14 15:57:45,930 - spiketag - INFO - group 25 delete 0.05743825387708214%(6.0/10446.0) spks via cutoff\n",
      "2019-03-14 15:57:45,965 - spiketag - INFO - group 26 delete 0.1253394610403175%(18.0/14361.0) spks via cutoff\n",
      "2019-03-14 15:57:45,969 - spiketag - INFO - group 27 delete 0.0%(0.0/1450.0) spks via cutoff\n",
      "2019-03-14 15:57:46,013 - spiketag - INFO - group 28 delete 0.8761858722581425%(145.0/16549.0) spks via cutoff\n",
      "2019-03-14 15:57:46,054 - spiketag - INFO - group 29 delete 7.546783924736681%(1476.0/19558.0) spks via cutoff\n",
      "2019-03-14 15:57:46,059 - spiketag - INFO - group 30 delete 3.571428571428571%(1.0/28.0) spks via cutoff\n",
      "2019-03-14 15:57:46,079 - spiketag - INFO - group 31 delete 1.4053254437869822%(152.0/10816.0) spks via cutoff\n",
      "2019-03-14 15:57:46,093 - spiketag - INFO - group 32 delete 5.567246986799311%(291.0/5227.0) spks via cutoff\n",
      "2019-03-14 15:57:46,102 - spiketag - INFO - group 33 delete 3.4060779114827655%(167.0/4903.0) spks via cutoff\n",
      "2019-03-14 15:57:46,106 - spiketag - INFO - group 34 delete 4.3%(86.0/2000.0) spks via cutoff\n",
      "2019-03-14 15:57:46,117 - spiketag - INFO - group 35 delete 11.343576332134685%(694.0/6118.0) spks via cutoff\n",
      "2019-03-14 15:57:46,121 - spiketag - INFO - group 36 delete 2.582496413199426%(36.0/1394.0) spks via cutoff\n",
      "2019-03-14 15:57:46,129 - spiketag - INFO - group 37 delete 4.6445984090325885%(181.0/3897.0) spks via cutoff\n",
      "2019-03-14 15:57:46,134 - spiketag - INFO - group 38 delete 5.7243364246882%(179.0/3127.0) spks via cutoff\n",
      "2019-03-14 15:57:46,139 - spiketag - INFO - group 39 delete 3.223705633344188%(99.0/3071.0) spks via cutoff\n",
      "2019-03-14 15:57:46,141 - spiketag - INFO - ----------------success------------------\n",
      "2019-03-14 15:57:46,141 - spiketag - INFO -  \n",
      "2019-03-14 15:57:46,142 - spiketag - INFO - grouping spike time\n",
      "2019-03-14 15:57:46,143 - spiketag - INFO - extract features with pca\n",
      "2019-03-14 15:57:46,241 - spiketag - INFO - spk._tofet(group_id=0, method=pca, ncomp=6, whiten=False)\n",
      "2019-03-14 15:57:46,269 - spiketag - INFO - spk._tofet(group_id=1, method=pca, ncomp=6, whiten=False)\n",
      "2019-03-14 15:57:46,279 - spiketag - INFO - spk._tofet(group_id=2, method=pca, ncomp=6, whiten=False)\n",
      "2019-03-14 15:57:46,287 - spiketag - INFO - spk._tofet(group_id=3, method=pca, ncomp=6, whiten=False)\n",
      "2019-03-14 15:57:46,293 - spiketag - INFO - spk._tofet(group_id=4, method=pca, ncomp=6, whiten=False)\n",
      "2019-03-14 15:57:46,295 - spiketag - INFO - spk._tofet(group_id=5, method=pca, ncomp=6, whiten=False)\n",
      "2019-03-14 15:57:46,299 - spiketag - INFO - spk._tofet(group_id=6, method=pca, ncomp=6, whiten=False)\n",
      "2019-03-14 15:57:46,306 - spiketag - INFO - spk._tofet(group_id=7, method=pca, ncomp=6, whiten=False)\n",
      "2019-03-14 15:57:46,340 - spiketag - INFO - spk._tofet(group_id=8, method=pca, ncomp=6, whiten=False)\n",
      "2019-03-14 15:57:46,348 - spiketag - INFO - spk._tofet(group_id=9, method=pca, ncomp=6, whiten=False)\n",
      "2019-03-14 15:57:46,369 - spiketag - INFO - spk._tofet(group_id=10, method=pca, ncomp=6, whiten=False)\n",
      "2019-03-14 15:57:46,381 - spiketag - INFO - spk._tofet(group_id=11, method=pca, ncomp=6, whiten=False)\n",
      "2019-03-14 15:57:46,390 - spiketag - INFO - spk._tofet(group_id=12, method=pca, ncomp=6, whiten=False)\n",
      "2019-03-14 15:57:46,404 - spiketag - INFO - spk._tofet(group_id=13, method=pca, ncomp=6, whiten=False)\n",
      "2019-03-14 15:57:46,418 - spiketag - INFO - spk._tofet(group_id=14, method=pca, ncomp=6, whiten=False)\n",
      "2019-03-14 15:57:46,423 - spiketag - INFO - spk._tofet(group_id=15, method=pca, ncomp=6, whiten=False)\n",
      "2019-03-14 15:57:46,425 - spiketag - INFO - spk._tofet(group_id=16, method=pca, ncomp=6, whiten=False)\n",
      "2019-03-14 15:57:46,427 - spiketag - INFO - spk._tofet(group_id=17, method=pca, ncomp=6, whiten=False)\n",
      "2019-03-14 15:57:46,429 - spiketag - INFO - spk._tofet(group_id=18, method=pca, ncomp=6, whiten=False)\n",
      "2019-03-14 15:57:46,431 - spiketag - INFO - spk._tofet(group_id=19, method=pca, ncomp=6, whiten=False)\n",
      "2019-03-14 15:57:46,433 - spiketag - INFO - spk._tofet(group_id=20, method=pca, ncomp=6, whiten=False)\n",
      "2019-03-14 15:57:46,439 - spiketag - INFO - spk._tofet(group_id=21, method=pca, ncomp=6, whiten=False)\n",
      "2019-03-14 15:57:46,441 - spiketag - INFO - spk._tofet(group_id=22, method=pca, ncomp=6, whiten=False)\n",
      "2019-03-14 15:57:46,444 - spiketag - INFO - spk._tofet(group_id=23, method=pca, ncomp=6, whiten=False)\n",
      "2019-03-14 15:57:46,446 - spiketag - INFO - spk._tofet(group_id=24, method=pca, ncomp=6, whiten=False)\n",
      "2019-03-14 15:57:46,475 - spiketag - INFO - spk._tofet(group_id=25, method=pca, ncomp=6, whiten=False)\n",
      "2019-03-14 15:57:46,516 - spiketag - INFO - spk._tofet(group_id=26, method=pca, ncomp=6, whiten=False)\n",
      "2019-03-14 15:57:46,524 - spiketag - INFO - spk._tofet(group_id=27, method=pca, ncomp=6, whiten=False)\n",
      "2019-03-14 15:57:46,574 - spiketag - INFO - spk._tofet(group_id=28, method=pca, ncomp=6, whiten=False)\n",
      "2019-03-14 15:57:46,626 - spiketag - INFO - spk._tofet(group_id=29, method=pca, ncomp=6, whiten=False)\n",
      "2019-03-14 15:57:46,628 - spiketag - INFO - spk._tofet(group_id=30, method=pca, ncomp=6, whiten=False)\n",
      "2019-03-14 15:57:46,660 - spiketag - INFO - spk._tofet(group_id=31, method=pca, ncomp=6, whiten=False)\n",
      "2019-03-14 15:57:46,674 - spiketag - INFO - spk._tofet(group_id=32, method=pca, ncomp=6, whiten=False)\n",
      "2019-03-14 15:57:46,688 - spiketag - INFO - spk._tofet(group_id=33, method=pca, ncomp=6, whiten=False)\n",
      "2019-03-14 15:57:46,697 - spiketag - INFO - spk._tofet(group_id=34, method=pca, ncomp=6, whiten=False)\n",
      "2019-03-14 15:57:46,713 - spiketag - INFO - spk._tofet(group_id=35, method=pca, ncomp=6, whiten=False)\n",
      "2019-03-14 15:57:46,719 - spiketag - INFO - spk._tofet(group_id=36, method=pca, ncomp=6, whiten=False)\n",
      "2019-03-14 15:57:46,736 - spiketag - INFO - spk._tofet(group_id=37, method=pca, ncomp=6, whiten=False)\n",
      "2019-03-14 15:57:46,749 - spiketag - INFO - spk._tofet(group_id=38, method=pca, ncomp=6, whiten=False)\n",
      "2019-03-14 15:57:46,761 - spiketag - INFO - spk._tofet(group_id=39, method=pca, ncomp=6, whiten=False)\n",
      "2019-03-14 15:57:46,762 - spiketag - INFO - ----------------success------------------\n",
      "2019-03-14 15:57:46,763 - spiketag - INFO -  \n"
     ]
    }
   ],
   "source": [
    "ctrl = controller(\n",
    "                  fpga = True,\n",
    "                  probe = prb,\n",
    "                  mua_filename=mua_filename, \n",
    "                  spk_filename=spk_filename, \n",
    "                  binary_radix=13, \n",
    "                  scale=False\n",
    "                  # time_segs=[[0,320]]\n",
    "                 )"
   ]
  },
  {
   "cell_type": "code",
   "execution_count": 10,
   "metadata": {
    "ExecuteTime": {
     "end_time": "2019-03-14T19:55:10.655717Z",
     "start_time": "2019-03-14T19:55:10.348850Z"
    }
   },
   "outputs": [],
   "source": [
    "ctrl.show()"
   ]
  },
  {
   "cell_type": "code",
   "execution_count": 7,
   "metadata": {
    "ExecuteTime": {
     "end_time": "2019-03-14T19:58:05.781139Z",
     "start_time": "2019-03-14T19:58:05.774263Z"
    }
   },
   "outputs": [
    {
     "data": {
      "text/plain": [
       "<spiketag.fpga.NSP.FPGA at 0x7f27f7dca2e8>"
      ]
     },
     "execution_count": 7,
     "metadata": {},
     "output_type": "execute_result"
    }
   ],
   "source": [
    "ctrl.fpga"
   ]
  },
  {
   "cell_type": "markdown",
   "metadata": {},
   "source": [
    "## 0. Set the reference channel\n",
    "#### use command to decide which electrode to be the reference channel\n",
    "`spiketag report mua.bin spk.bin prb_v3.prb`"
   ]
  },
  {
   "cell_type": "code",
   "execution_count": 3,
   "metadata": {},
   "outputs": [],
   "source": [
    "ch_ref_array = np.array(160*[160])"
   ]
  },
  {
   "cell_type": "code",
   "execution_count": null,
   "metadata": {},
   "outputs": [],
   "source": [
    "ref_chNo_l = \n",
    "ref_chNo_r = "
   ]
  },
  {
   "cell_type": "code",
   "execution_count": null,
   "metadata": {},
   "outputs": [],
   "source": [
    "nCh = prb.chs.shape[0]\n",
    "l_electrodes = prb.chs[:nCh//2]\n",
    "r_electrodes = prb.chs[nCh//2:]"
   ]
  },
  {
   "cell_type": "code",
   "execution_count": null,
   "metadata": {},
   "outputs": [],
   "source": [
    "l_electrodes"
   ]
  },
  {
   "cell_type": "code",
   "execution_count": null,
   "metadata": {},
   "outputs": [],
   "source": [
    "r_electrodes"
   ]
  },
  {
   "cell_type": "code",
   "execution_count": null,
   "metadata": {},
   "outputs": [],
   "source": [
    "ch_ref_array[l_electrodes] = ref_chNo_l\n",
    "ch_ref_array[r_electrodes] = ref_chNo_r"
   ]
  },
  {
   "cell_type": "code",
   "execution_count": null,
   "metadata": {},
   "outputs": [],
   "source": [
    "ctrl.fpga.set_channel_ref(ch_ref_array)"
   ]
  },
  {
   "cell_type": "markdown",
   "metadata": {},
   "source": [
    "## 1. Set the threshold"
   ]
  },
  {
   "cell_type": "code",
   "execution_count": null,
   "metadata": {},
   "outputs": [],
   "source": [
    "ctrl.set_threshold(beta=4)"
   ]
  },
  {
   "cell_type": "code",
   "execution_count": null,
   "metadata": {},
   "outputs": [],
   "source": [
    "ctrl.fpga.thres[ref_chNo_l] = -20000.\n",
    "ctrl.fpga.thres[ref_chNo_r] = -20000."
   ]
  },
  {
   "cell_type": "code",
   "execution_count": null,
   "metadata": {},
   "outputs": [],
   "source": [
    "ctrl.fpga.thres[95:128] = -20000."
   ]
  }
 ],
 "metadata": {
  "kernelspec": {
   "display_name": "Python 3",
   "language": "python",
   "name": "python3"
  },
  "language_info": {
   "codemirror_mode": {
    "name": "ipython",
    "version": 3
   },
   "file_extension": ".py",
   "mimetype": "text/x-python",
   "name": "python",
   "nbconvert_exporter": "python",
   "pygments_lexer": "ipython3",
   "version": "3.7.4"
  }
 },
 "nbformat": 4,
 "nbformat_minor": 4
}
